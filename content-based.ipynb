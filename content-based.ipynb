{
 "cells": [
  {
   "cell_type": "code",
   "execution_count": 1,
   "metadata": {},
   "outputs": [],
   "source": [
    "import pandas as pd\n",
    "import numpy as np\n",
    "import warnings\n",
    "warnings.filterwarnings('ignore')"
   ]
  },
  {
   "cell_type": "code",
   "execution_count": 2,
   "metadata": {},
   "outputs": [],
   "source": [
    "anime_data_cleaned = pd.read_csv('csv/2020/anime_2020_cleaned.csv')"
   ]
  },
  {
   "cell_type": "code",
   "execution_count": 3,
   "metadata": {},
   "outputs": [],
   "source": [
    "anime_data_cleaned['Genres'] = anime_data_cleaned['Genres'].apply(lambda x: x.replace(' ', '').replace(',', ' '))"
   ]
  },
  {
   "cell_type": "code",
   "execution_count": 4,
   "metadata": {},
   "outputs": [],
   "source": [
    "rating_data = pd.read_csv('csv/2020/rating_2020.csv')\n",
    "counts = rating_data['user_id'].value_counts()\n",
    "rating_data = rating_data[rating_data['user_id'].isin(counts[counts >= 200].index)]\n",
    "rating_data.rename(columns={'anime_id':'MAL_ID'}, inplace=True)"
   ]
  },
  {
   "cell_type": "code",
   "execution_count": 104,
   "metadata": {},
   "outputs": [
    {
     "data": {
      "text/plain": [
       "334442"
      ]
     },
     "execution_count": 104,
     "metadata": {},
     "output_type": "execute_result"
    }
   ],
   "source": [
    "# pick random user id from rating_data\n",
    "user_id = rating_data['user_id'].sample(1).values[0]\n",
    "user_id"
   ]
  },
  {
   "attachments": {},
   "cell_type": "markdown",
   "metadata": {},
   "source": [
    "## Basic Content-based by Genre using CountVectorizer"
   ]
  },
  {
   "cell_type": "code",
   "execution_count": 5,
   "metadata": {},
   "outputs": [],
   "source": [
    "from sklearn.feature_extraction.text import CountVectorizer\n",
    "from sklearn.metrics.pairwise import cosine_similarity"
   ]
  },
  {
   "cell_type": "code",
   "execution_count": 6,
   "metadata": {},
   "outputs": [],
   "source": [
    "# Create a CountVectorizer to one-hot encode the genres\n",
    "vectorizer = CountVectorizer()\n",
    "genre_matrix = vectorizer.fit_transform(anime_data_cleaned['Genres'])"
   ]
  },
  {
   "cell_type": "code",
   "execution_count": 7,
   "metadata": {},
   "outputs": [],
   "source": [
    "# Compute the cosine similarity between anime based on their genre vectors\n",
    "genre_similarity = cosine_similarity(genre_matrix, genre_matrix)"
   ]
  },
  {
   "cell_type": "code",
   "execution_count": 73,
   "metadata": {},
   "outputs": [],
   "source": [
    "def get_recommendations(anime_title, similarity_matrix, anime_data, k=10):\n",
    "    index = anime_data[anime_data['Name'] == anime_title].index[0]\n",
    "    scores = list(enumerate(similarity_matrix[index]))\n",
    "    scores = sorted(scores, key=lambda x: x[1], reverse=True)\n",
    "    scores = scores[1:k+1]  # exclude the anime itself\n",
    "    indices = [i[0] for i in scores]\n",
    "    similarity_scores = [i[1] for i in scores]\n",
    "    # print(anime_data.iloc[indices]['Name'])\n",
    "    return anime_data.iloc[indices]['MAL_ID'], similarity_scores"
   ]
  },
  {
   "cell_type": "code",
   "execution_count": 89,
   "metadata": {},
   "outputs": [
    {
     "data": {
      "text/plain": [
       "(794    1735\n",
       " 0         1\n",
       " 1         6\n",
       " 2         7\n",
       " 3         8\n",
       " 4        15\n",
       " 5        16\n",
       " 6        17\n",
       " 7        18\n",
       " 8        19\n",
       " Name: MAL_ID, dtype: int64,\n",
       " [1.0, 0.0, 0.0, 0.0, 0.0, 0.0, 0.0, 0.0, 0.0, 0.0])"
      ]
     },
     "execution_count": 89,
     "metadata": {},
     "output_type": "execute_result"
    }
   ],
   "source": [
    "title = 'Naruto'\n",
    "get_recommendations(title, genre_similarity, anime_data_cleaned)"
   ]
  },
  {
   "attachments": {},
   "cell_type": "markdown",
   "metadata": {},
   "source": [
    "### Predict ratings"
   ]
  },
  {
   "cell_type": "code",
   "execution_count": 94,
   "metadata": {},
   "outputs": [],
   "source": [
    "# Function to predict the rating of an anime for a user based on content-based recommendations\n",
    "def predict_anime_rating_content_based(user_id, anime_title, similarity_matrix, anime_data, k=10, similarity_threshold=0.1):\n",
    "    # Get the top-k most similar anime for the given anime_title\n",
    "    recommended_anime_indices, similarity_scores = get_recommendations(anime_title, similarity_matrix, anime_data, k)\n",
    "\n",
    "    # Get the user's ratings for the anime they have watched in the training set\n",
    "    user_ratings = rating_data[rating_data['user_id'] == user_id]\n",
    "    \n",
    "    # Create a dictionary to store the predicted ratings for the recommended anime\n",
    "    predicted_ratings = {}\n",
    "\n",
    "    for index, similarity_score in zip(recommended_anime_indices, similarity_scores):\n",
    "        anime_name = anime_data.loc[index, 'Name']\n",
    "        anime_id = anime_data.loc[index, 'MAL_ID']\n",
    "        \n",
    "        # Check if the user has rated the recommended anime\n",
    "        if anime_id in user_ratings['MAL_ID'].values:\n",
    "            # Use the user's actual rating for the recommended anime\n",
    "            user_rating = user_ratings.loc[user_ratings['MAL_ID'] == anime_id, 'rating'].values[0]\n",
    "        else:\n",
    "            # Use the user's average rating as a fallback\n",
    "            user_average_rating = user_ratings['rating'].mean()\n",
    "            user_rating = user_average_rating\n",
    "        \n",
    "        if similarity_score >= similarity_threshold:\n",
    "            predicted_rating = similarity_score * user_rating / sum(similarity_scores)\n",
    "        else:\n",
    "            predicted_rating = user_rating\n",
    "        \n",
    "        predicted_ratings[anime_name] = predicted_rating\n",
    "\n",
    "    return predicted_ratings\n"
   ]
  },
  {
   "cell_type": "code",
   "execution_count": 106,
   "metadata": {},
   "outputs": [
    {
     "data": {
      "text/plain": [
       "{'Dragon Ball Kai': 6.578651685393258,\n",
       " 'Trigun': 6.578651685393258,\n",
       " 'Hungry Heart: Wild Striker': 6.578651685393258,\n",
       " 'Initial D Fourth Stage': 6.578651685393258,\n",
       " 'Monster': 6.578651685393258,\n",
       " 'Texhnolyze': 6.578651685393258,\n",
       " 'Trinity Blood': 6.578651685393258,\n",
       " 'Yakitate!! Japan': 6.578651685393258,\n",
       " 'Zipang': 6.578651685393258,\n",
       " 'Neon Genesis Evangelion': 9}"
      ]
     },
     "execution_count": 106,
     "metadata": {},
     "output_type": "execute_result"
    }
   ],
   "source": [
    "predict_anime_rating_content_based(user_id, 'Naruto', genre_similarity, anime_data_cleaned)"
   ]
  },
  {
   "attachments": {},
   "cell_type": "markdown",
   "metadata": {},
   "source": [
    "## Content-based by Genre and Studio"
   ]
  },
  {
   "cell_type": "code",
   "execution_count": 90,
   "metadata": {},
   "outputs": [],
   "source": [
    "anime_data_cleaned['Genres_and_Studio'] = anime_data_cleaned['Genres'] + ', ' + anime_data_cleaned['Studios']"
   ]
  },
  {
   "cell_type": "code",
   "execution_count": 91,
   "metadata": {},
   "outputs": [],
   "source": [
    "# Create a CountVectorizer to one-hot encode the genres\n",
    "vectorizer = CountVectorizer()\n",
    "genre_studio_matrix = vectorizer.fit_transform(anime_data_cleaned['Genres_and_Studio'])"
   ]
  },
  {
   "cell_type": "code",
   "execution_count": 92,
   "metadata": {},
   "outputs": [],
   "source": [
    "# Compute the cosine similarity between anime based on their genre vectors\n",
    "genre_studio_similarity = cosine_similarity(genre_studio_matrix, genre_studio_matrix)"
   ]
  },
  {
   "cell_type": "code",
   "execution_count": 14,
   "metadata": {},
   "outputs": [
    {
     "data": {
      "text/plain": [
       "794                  Naruto: Shippuuden\n",
       "162                      Rekka no Honoo\n",
       "3827    Boruto: Naruto Next Generations\n",
       "184                              Bleach\n",
       "1739                     Moeru! Oniisan\n",
       "272                     Yuu☆Yuu☆Hakusho\n",
       "1205           Chiisana Kyojin Microman\n",
       "769                        Duel Masters\n",
       "1496                Duel Masters Charge\n",
       "3545                  Duel Masters VSRF\n",
       "Name: Name, dtype: object"
      ]
     },
     "execution_count": 14,
     "metadata": {},
     "output_type": "execute_result"
    }
   ],
   "source": [
    "title = 'Naruto'\n",
    "get_recommendations(title, genre_studio_similarity, anime_data_cleaned)"
   ]
  },
  {
   "cell_type": "code",
   "execution_count": 20,
   "metadata": {},
   "outputs": [
    {
     "name": "stdout",
     "output_type": "stream",
     "text": [
      "Naruto\n",
      "          Studios                                             Genres\n",
      "9  Studio Pierrot  Action Adventure Comedy SuperPower MartialArts...\n",
      "\n",
      "Rekka no Honoo\n",
      "            Studios                                           Genres\n",
      "162  Studio Pierrot  Action Adventure MartialArts Shounen SuperPower\n",
      "\n"
     ]
    }
   ],
   "source": [
    "anime_titles = ['Naruto', 'Rekka no Honoo']\n",
    "# for loop titles and print Studio and Genres column in anime_data_cleaned for each title\n",
    "for title in anime_titles:\n",
    "    print(title)\n",
    "    print(anime_data_cleaned[anime_data_cleaned['Name'] == title][['Studios', 'Genres']])\n",
    "    print()\n"
   ]
  },
  {
   "cell_type": "code",
   "execution_count": 25,
   "metadata": {},
   "outputs": [
    {
     "data": {
      "text/plain": [
       "1831                      InuYasha: Kanketsu-hen\n",
       "4811    Hanyou no Yashahime: Sengoku Otogizoushi\n",
       "737                               Kekkaishi (TV)\n",
       "125                            Tsubasa Chronicle\n",
       "31                                 Chrno Crusade\n",
       "538                            Majutsushi Orphen\n",
       "590                                  Slayers Try\n",
       "1817                             Kuroshitsuji II\n",
       "2879                Shingeki no Bahamut: Genesis\n",
       "3328            Shingeki no Bahamut: Virgin Soul\n",
       "Name: Name, dtype: object"
      ]
     },
     "execution_count": 25,
     "metadata": {},
     "output_type": "execute_result"
    }
   ],
   "source": [
    "get_recommendations('InuYasha', genre_studio_similarity, anime_data_cleaned)"
   ]
  },
  {
   "cell_type": "code",
   "execution_count": 107,
   "metadata": {},
   "outputs": [
    {
     "data": {
      "text/plain": [
       "{'Dragon Ball Kai': 0.9398073836276082,\n",
       " 'Solty Rei': 0.6265382557517388,\n",
       " 'Tenjou Tenge': 0.6265382557517388,\n",
       " 'Tenkuu no Escaflowne': 0.6265382557517388,\n",
       " 'Whistle!': 0.6265382557517388,\n",
       " 'Xenosaga The Animation': 0.6265382557517388,\n",
       " 'Maburaho': 0.6265382557517388,\n",
       " 'Ninin ga Shinobuden': 0.6265382557517388,\n",
       " 'Gankutsuou': 0.6265382557517388,\n",
       " 'Ginyuu Mokushiroku Meine Liebe': 0.6265382557517388}"
      ]
     },
     "execution_count": 107,
     "metadata": {},
     "output_type": "execute_result"
    }
   ],
   "source": [
    "predict_anime_rating_content_based(user_id, 'Naruto', genre_studio_similarity, anime_data_cleaned)"
   ]
  },
  {
   "attachments": {},
   "cell_type": "markdown",
   "metadata": {},
   "source": [
    "## Content-based with multiple titles"
   ]
  },
  {
   "cell_type": "code",
   "execution_count": 21,
   "metadata": {},
   "outputs": [],
   "source": [
    "import collections\n",
    "def get_recommendations_for_multiple_titles(titles, cosine_sim, anime_df, top_k=10):\n",
    "    # Find the indices of the input titles\n",
    "    title_indices = [anime_df[anime_df['Name'] == title].index[0] for title in titles]\n",
    "\n",
    "    # Get the cosine similarity scores for all titles in the input list\n",
    "    sim_scores = [list(enumerate(cosine_sim[title_index])) for title_index in title_indices]\n",
    "\n",
    "    # Combine the similarity scores\n",
    "    combined_scores = collections.defaultdict(float)\n",
    "    for score_list in sim_scores:\n",
    "        for i, score in score_list:\n",
    "            combined_scores[i] += score\n",
    "\n",
    "    # Sort the combined scores and get the top k indices\n",
    "    sorted_scores = sorted(combined_scores.items(), key=lambda x: x[1], reverse=True)\n",
    "    top_k_indices = [i for i, _ in sorted_scores[:top_k]]\n",
    "\n",
    "    # Get the top k recommendations based on the combined scores\n",
    "    return anime_df.iloc[top_k_indices]"
   ]
  },
  {
   "cell_type": "code",
   "execution_count": 23,
   "metadata": {},
   "outputs": [
    {
     "data": {
      "text/html": [
       "<div>\n",
       "<style scoped>\n",
       "    .dataframe tbody tr th:only-of-type {\n",
       "        vertical-align: middle;\n",
       "    }\n",
       "\n",
       "    .dataframe tbody tr th {\n",
       "        vertical-align: top;\n",
       "    }\n",
       "\n",
       "    .dataframe thead th {\n",
       "        text-align: right;\n",
       "    }\n",
       "</style>\n",
       "<table border=\"1\" class=\"dataframe\">\n",
       "  <thead>\n",
       "    <tr style=\"text-align: right;\">\n",
       "      <th></th>\n",
       "      <th>MAL_ID</th>\n",
       "      <th>Name</th>\n",
       "      <th>Score</th>\n",
       "      <th>Genres</th>\n",
       "      <th>Episodes</th>\n",
       "      <th>Premiered</th>\n",
       "      <th>Studios</th>\n",
       "      <th>Members</th>\n",
       "      <th>Completed</th>\n",
       "      <th>Dropped rate</th>\n",
       "      <th>Genres_and_Studio</th>\n",
       "    </tr>\n",
       "  </thead>\n",
       "  <tbody>\n",
       "    <tr>\n",
       "      <th>145</th>\n",
       "      <td>209</td>\n",
       "      <td>R.O.D: The TV</td>\n",
       "      <td>7.55</td>\n",
       "      <td>Action Sci-Fi Adventure Comedy SuperPower Drama</td>\n",
       "      <td>26</td>\n",
       "      <td>Fall 2003</td>\n",
       "      <td>J.C.Staff</td>\n",
       "      <td>61604</td>\n",
       "      <td>32941</td>\n",
       "      <td>0.06</td>\n",
       "      <td>Action Sci-Fi Adventure Comedy SuperPower Dram...</td>\n",
       "    </tr>\n",
       "    <tr>\n",
       "      <th>306</th>\n",
       "      <td>479</td>\n",
       "      <td>Ueki no Housoku</td>\n",
       "      <td>7.76</td>\n",
       "      <td>Action Adventure Comedy SuperPower Supernatura...</td>\n",
       "      <td>51</td>\n",
       "      <td>Spring 2005</td>\n",
       "      <td>Studio Deen</td>\n",
       "      <td>97521</td>\n",
       "      <td>51123</td>\n",
       "      <td>0.07</td>\n",
       "      <td>Action Adventure Comedy SuperPower Supernatura...</td>\n",
       "    </tr>\n",
       "    <tr>\n",
       "      <th>718</th>\n",
       "      <td>1575</td>\n",
       "      <td>Code Geass: Hangyaku no Lelouch</td>\n",
       "      <td>8.72</td>\n",
       "      <td>Action Military Sci-Fi SuperPower Drama Mecha ...</td>\n",
       "      <td>25</td>\n",
       "      <td>Fall 2006</td>\n",
       "      <td>Sunrise</td>\n",
       "      <td>1583882</td>\n",
       "      <td>1209288</td>\n",
       "      <td>0.02</td>\n",
       "      <td>Action Military Sci-Fi SuperPower Drama Mecha ...</td>\n",
       "    </tr>\n",
       "    <tr>\n",
       "      <th>10</th>\n",
       "      <td>21</td>\n",
       "      <td>One Piece</td>\n",
       "      <td>8.52</td>\n",
       "      <td>Action Adventure Comedy SuperPower Drama Fanta...</td>\n",
       "      <td>Unknown</td>\n",
       "      <td>Fall 1999</td>\n",
       "      <td>Toei Animation</td>\n",
       "      <td>1352724</td>\n",
       "      <td>33</td>\n",
       "      <td>0.11</td>\n",
       "      <td>Action Adventure Comedy SuperPower Drama Fanta...</td>\n",
       "    </tr>\n",
       "    <tr>\n",
       "      <th>118</th>\n",
       "      <td>168</td>\n",
       "      <td>s.CRY.ed</td>\n",
       "      <td>7.38</td>\n",
       "      <td>Action Sci-Fi Adventure SuperPower Drama</td>\n",
       "      <td>26</td>\n",
       "      <td>Summer 2001</td>\n",
       "      <td>Sunrise</td>\n",
       "      <td>72311</td>\n",
       "      <td>44099</td>\n",
       "      <td>0.05</td>\n",
       "      <td>Action Sci-Fi Adventure SuperPower Drama, Sunrise</td>\n",
       "    </tr>\n",
       "  </tbody>\n",
       "</table>\n",
       "</div>"
      ],
      "text/plain": [
       "     MAL_ID                             Name Score  \\\n",
       "145     209                    R.O.D: The TV  7.55   \n",
       "306     479                  Ueki no Housoku  7.76   \n",
       "718    1575  Code Geass: Hangyaku no Lelouch  8.72   \n",
       "10       21                        One Piece  8.52   \n",
       "118     168                         s.CRY.ed  7.38   \n",
       "\n",
       "                                                Genres Episodes    Premiered  \\\n",
       "145    Action Sci-Fi Adventure Comedy SuperPower Drama       26    Fall 2003   \n",
       "306  Action Adventure Comedy SuperPower Supernatura...       51  Spring 2005   \n",
       "718  Action Military Sci-Fi SuperPower Drama Mecha ...       25    Fall 2006   \n",
       "10   Action Adventure Comedy SuperPower Drama Fanta...  Unknown    Fall 1999   \n",
       "118           Action Sci-Fi Adventure SuperPower Drama       26  Summer 2001   \n",
       "\n",
       "            Studios  Members  Completed  Dropped rate  \\\n",
       "145       J.C.Staff    61604      32941          0.06   \n",
       "306     Studio Deen    97521      51123          0.07   \n",
       "718         Sunrise  1583882    1209288          0.02   \n",
       "10   Toei Animation  1352724         33          0.11   \n",
       "118         Sunrise    72311      44099          0.05   \n",
       "\n",
       "                                     Genres_and_Studio  \n",
       "145  Action Sci-Fi Adventure Comedy SuperPower Dram...  \n",
       "306  Action Adventure Comedy SuperPower Supernatura...  \n",
       "718  Action Military Sci-Fi SuperPower Drama Mecha ...  \n",
       "10   Action Adventure Comedy SuperPower Drama Fanta...  \n",
       "118  Action Sci-Fi Adventure SuperPower Drama, Sunrise  "
      ]
     },
     "execution_count": 23,
     "metadata": {},
     "output_type": "execute_result"
    }
   ],
   "source": [
    "titles = ['Kill la Kill', 'Code Geass: Hangyaku no Lelouch', 'Shingeki no Kyojin', 'Tengen Toppa Gurren Lagann', \n",
    "          'Mahou Shoujo Madoka★Magica', 'Ga-Rei: Zero', 'JoJo no Kimyou na Bouken Part 5: Ougon no Kaze']\n",
    "get_recommendations_for_multiple_titles(titles, genre_similarity, anime_data_cleaned, 5)"
   ]
  },
  {
   "cell_type": "code",
   "execution_count": 24,
   "metadata": {},
   "outputs": [
    {
     "data": {
      "text/html": [
       "<div>\n",
       "<style scoped>\n",
       "    .dataframe tbody tr th:only-of-type {\n",
       "        vertical-align: middle;\n",
       "    }\n",
       "\n",
       "    .dataframe tbody tr th {\n",
       "        vertical-align: top;\n",
       "    }\n",
       "\n",
       "    .dataframe thead th {\n",
       "        text-align: right;\n",
       "    }\n",
       "</style>\n",
       "<table border=\"1\" class=\"dataframe\">\n",
       "  <thead>\n",
       "    <tr style=\"text-align: right;\">\n",
       "      <th></th>\n",
       "      <th>MAL_ID</th>\n",
       "      <th>Name</th>\n",
       "      <th>Score</th>\n",
       "      <th>Genres</th>\n",
       "      <th>Episodes</th>\n",
       "      <th>Premiered</th>\n",
       "      <th>Studios</th>\n",
       "      <th>Members</th>\n",
       "      <th>Completed</th>\n",
       "      <th>Dropped rate</th>\n",
       "      <th>Genres_and_Studio</th>\n",
       "    </tr>\n",
       "  </thead>\n",
       "  <tbody>\n",
       "    <tr>\n",
       "      <th>718</th>\n",
       "      <td>1575</td>\n",
       "      <td>Code Geass: Hangyaku no Lelouch</td>\n",
       "      <td>8.72</td>\n",
       "      <td>Action Military Sci-Fi SuperPower Drama Mecha ...</td>\n",
       "      <td>25</td>\n",
       "      <td>Fall 2006</td>\n",
       "      <td>Sunrise</td>\n",
       "      <td>1583882</td>\n",
       "      <td>1209288</td>\n",
       "      <td>0.02</td>\n",
       "      <td>Action Military Sci-Fi SuperPower Drama Mecha ...</td>\n",
       "    </tr>\n",
       "    <tr>\n",
       "      <th>1146</th>\n",
       "      <td>2904</td>\n",
       "      <td>Code Geass: Hangyaku no Lelouch R2</td>\n",
       "      <td>8.91</td>\n",
       "      <td>Action Military Sci-Fi SuperPower Drama Mecha</td>\n",
       "      <td>25</td>\n",
       "      <td>Spring 2008</td>\n",
       "      <td>Sunrise</td>\n",
       "      <td>1268320</td>\n",
       "      <td>1060730</td>\n",
       "      <td>0.01</td>\n",
       "      <td>Action Military Sci-Fi SuperPower Drama Mecha,...</td>\n",
       "    </tr>\n",
       "    <tr>\n",
       "      <th>118</th>\n",
       "      <td>168</td>\n",
       "      <td>s.CRY.ed</td>\n",
       "      <td>7.38</td>\n",
       "      <td>Action Sci-Fi Adventure SuperPower Drama</td>\n",
       "      <td>26</td>\n",
       "      <td>Summer 2001</td>\n",
       "      <td>Sunrise</td>\n",
       "      <td>72311</td>\n",
       "      <td>44099</td>\n",
       "      <td>0.05</td>\n",
       "      <td>Action Sci-Fi Adventure SuperPower Drama, Sunrise</td>\n",
       "    </tr>\n",
       "    <tr>\n",
       "      <th>145</th>\n",
       "      <td>209</td>\n",
       "      <td>R.O.D: The TV</td>\n",
       "      <td>7.55</td>\n",
       "      <td>Action Sci-Fi Adventure Comedy SuperPower Drama</td>\n",
       "      <td>26</td>\n",
       "      <td>Fall 2003</td>\n",
       "      <td>J.C.Staff</td>\n",
       "      <td>61604</td>\n",
       "      <td>32941</td>\n",
       "      <td>0.06</td>\n",
       "      <td>Action Sci-Fi Adventure Comedy SuperPower Dram...</td>\n",
       "    </tr>\n",
       "    <tr>\n",
       "      <th>306</th>\n",
       "      <td>479</td>\n",
       "      <td>Ueki no Housoku</td>\n",
       "      <td>7.76</td>\n",
       "      <td>Action Adventure Comedy SuperPower Supernatura...</td>\n",
       "      <td>51</td>\n",
       "      <td>Spring 2005</td>\n",
       "      <td>Studio Deen</td>\n",
       "      <td>97521</td>\n",
       "      <td>51123</td>\n",
       "      <td>0.07</td>\n",
       "      <td>Action Adventure Comedy SuperPower Supernatura...</td>\n",
       "    </tr>\n",
       "  </tbody>\n",
       "</table>\n",
       "</div>"
      ],
      "text/plain": [
       "      MAL_ID                                Name Score  \\\n",
       "718     1575     Code Geass: Hangyaku no Lelouch  8.72   \n",
       "1146    2904  Code Geass: Hangyaku no Lelouch R2  8.91   \n",
       "118      168                            s.CRY.ed  7.38   \n",
       "145      209                       R.O.D: The TV  7.55   \n",
       "306      479                     Ueki no Housoku  7.76   \n",
       "\n",
       "                                                 Genres Episodes    Premiered  \\\n",
       "718   Action Military Sci-Fi SuperPower Drama Mecha ...       25    Fall 2006   \n",
       "1146      Action Military Sci-Fi SuperPower Drama Mecha       25  Spring 2008   \n",
       "118            Action Sci-Fi Adventure SuperPower Drama       26  Summer 2001   \n",
       "145     Action Sci-Fi Adventure Comedy SuperPower Drama       26    Fall 2003   \n",
       "306   Action Adventure Comedy SuperPower Supernatura...       51  Spring 2005   \n",
       "\n",
       "          Studios  Members  Completed  Dropped rate  \\\n",
       "718       Sunrise  1583882    1209288          0.02   \n",
       "1146      Sunrise  1268320    1060730          0.01   \n",
       "118       Sunrise    72311      44099          0.05   \n",
       "145     J.C.Staff    61604      32941          0.06   \n",
       "306   Studio Deen    97521      51123          0.07   \n",
       "\n",
       "                                      Genres_and_Studio  \n",
       "718   Action Military Sci-Fi SuperPower Drama Mecha ...  \n",
       "1146  Action Military Sci-Fi SuperPower Drama Mecha,...  \n",
       "118   Action Sci-Fi Adventure SuperPower Drama, Sunrise  \n",
       "145   Action Sci-Fi Adventure Comedy SuperPower Dram...  \n",
       "306   Action Adventure Comedy SuperPower Supernatura...  "
      ]
     },
     "execution_count": 24,
     "metadata": {},
     "output_type": "execute_result"
    }
   ],
   "source": [
    "get_recommendations_for_multiple_titles(titles, genre_studio_similarity, anime_data_cleaned, 5)"
   ]
  }
 ],
 "metadata": {
  "kernelspec": {
   "display_name": "anime-recommender",
   "language": "python",
   "name": "python3"
  },
  "language_info": {
   "codemirror_mode": {
    "name": "ipython",
    "version": 3
   },
   "file_extension": ".py",
   "mimetype": "text/x-python",
   "name": "python",
   "nbconvert_exporter": "python",
   "pygments_lexer": "ipython3",
   "version": "3.9.16"
  },
  "orig_nbformat": 4
 },
 "nbformat": 4,
 "nbformat_minor": 2
}
