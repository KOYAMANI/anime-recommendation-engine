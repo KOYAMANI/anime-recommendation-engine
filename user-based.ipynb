{
 "cells": [
  {
   "cell_type": "code",
   "execution_count": 1,
   "metadata": {},
   "outputs": [],
   "source": [
    "import pandas as pd\n",
    "import numpy as np\n",
    "import warnings\n",
    "from scipy.sparse import csr_matrix\n",
    "warnings.filterwarnings('ignore')\n",
    "%matplotlib inline"
   ]
  },
  {
   "cell_type": "code",
   "execution_count": 2,
   "metadata": {},
   "outputs": [],
   "source": [
    "anime_data_cleaned = pd.read_csv('csv/2020/anime_2020_cleaned.csv')\n",
    "rating_data = pd.read_csv('csv/2020/rating_2020.csv')"
   ]
  },
  {
   "cell_type": "code",
   "execution_count": 57,
   "metadata": {},
   "outputs": [],
   "source": [
    "# exclude anime from rating data if the id is not in anime_data_cleaned\n",
    "rating_data = rating_data[rating_data['MAL_ID'].isin(anime_data_cleaned['MAL_ID'])]"
   ]
  },
  {
   "cell_type": "code",
   "execution_count": 21,
   "metadata": {},
   "outputs": [],
   "source": [
    "anime_name = pd.read_csv('csv/2020/anime_2020_name.csv')"
   ]
  },
  {
   "cell_type": "code",
   "execution_count": 96,
   "metadata": {},
   "outputs": [
    {
     "data": {
      "text/plain": [
       "(57633278, 3)"
      ]
     },
     "execution_count": 96,
     "metadata": {},
     "output_type": "execute_result"
    }
   ],
   "source": [
    "rating_data.shape"
   ]
  },
  {
   "cell_type": "code",
   "execution_count": 58,
   "metadata": {},
   "outputs": [],
   "source": [
    "counts = rating_data['user_id'].value_counts()\n",
    "rating_data = rating_data[rating_data['user_id'].isin(counts[counts >= 200].index)]\n",
    "rating_data.rename(columns={'anime_id':'MAL_ID'}, inplace=True)"
   ]
  },
  {
   "cell_type": "code",
   "execution_count": 13,
   "metadata": {},
   "outputs": [
    {
     "data": {
      "text/plain": [
       "(41320341, 3)"
      ]
     },
     "execution_count": 13,
     "metadata": {},
     "output_type": "execute_result"
    }
   ],
   "source": [
    "rating_data.shape"
   ]
  },
  {
   "cell_type": "code",
   "execution_count": 72,
   "metadata": {},
   "outputs": [],
   "source": [
    "anime_rating_data = anime_data_cleaned.merge(rating_data, on='MAL_ID', how='inner')"
   ]
  },
  {
   "cell_type": "code",
   "execution_count": 3,
   "metadata": {},
   "outputs": [
    {
     "data": {
      "text/plain": [
       "(38541711, 12)"
      ]
     },
     "execution_count": 3,
     "metadata": {},
     "output_type": "execute_result"
    }
   ],
   "source": [
    "anime_rating_data.shape"
   ]
  },
  {
   "attachments": {},
   "cell_type": "markdown",
   "metadata": {},
   "source": [
    "## User-based collaborative filtering - v2.0\n",
    "- With sparse matrix to speed up the computation\n",
    "- Clustering users by Kmeans"
   ]
  },
  {
   "attachments": {},
   "cell_type": "markdown",
   "metadata": {},
   "source": [
    "Split dataset into train and test"
   ]
  },
  {
   "cell_type": "code",
   "execution_count": 73,
   "metadata": {},
   "outputs": [],
   "source": [
    "anime_ratings = anime_rating_data[['user_id', 'MAL_ID', 'rating']]"
   ]
  },
  {
   "cell_type": "code",
   "execution_count": 6,
   "metadata": {},
   "outputs": [
    {
     "data": {
      "text/plain": [
       "(26724793, 3)"
      ]
     },
     "execution_count": 6,
     "metadata": {},
     "output_type": "execute_result"
    }
   ],
   "source": [
    "anime_ratings.shape"
   ]
  },
  {
   "attachments": {},
   "cell_type": "markdown",
   "metadata": {},
   "source": [
    "### Split data into train and test"
   ]
  },
  {
   "cell_type": "code",
   "execution_count": 61,
   "metadata": {},
   "outputs": [],
   "source": [
    "import pandas as pd\n",
    "from sklearn.model_selection import train_test_split\n",
    "\n",
    "# Split the data into training and testing sets based on the users\n",
    "train_data, test_data = train_test_split(rating_data, test_size=0.2, random_state=42)"
   ]
  },
  {
   "cell_type": "code",
   "execution_count": 62,
   "metadata": {},
   "outputs": [],
   "source": [
    "from scipy.sparse import csr_matrix\n",
    "user_item_matrix = train_data.pivot_table(index='user_id', columns='MAL_ID', values='rating').fillna(0)\n",
    "train_data_sparse = csr_matrix(user_item_matrix.fillna(0).values)"
   ]
  },
  {
   "cell_type": "code",
   "execution_count": 100,
   "metadata": {},
   "outputs": [
    {
     "data": {
      "text/html": [
       "<div>\n",
       "<style scoped>\n",
       "    .dataframe tbody tr th:only-of-type {\n",
       "        vertical-align: middle;\n",
       "    }\n",
       "\n",
       "    .dataframe tbody tr th {\n",
       "        vertical-align: top;\n",
       "    }\n",
       "\n",
       "    .dataframe thead th {\n",
       "        text-align: right;\n",
       "    }\n",
       "</style>\n",
       "<table border=\"1\" class=\"dataframe\">\n",
       "  <thead>\n",
       "    <tr style=\"text-align: right;\">\n",
       "      <th>MAL_ID</th>\n",
       "      <th>1</th>\n",
       "      <th>5</th>\n",
       "      <th>6</th>\n",
       "      <th>7</th>\n",
       "      <th>8</th>\n",
       "      <th>15</th>\n",
       "      <th>16</th>\n",
       "      <th>17</th>\n",
       "      <th>18</th>\n",
       "      <th>19</th>\n",
       "      <th>...</th>\n",
       "      <th>47398</th>\n",
       "      <th>47402</th>\n",
       "      <th>47403</th>\n",
       "      <th>47410</th>\n",
       "      <th>47614</th>\n",
       "      <th>47616</th>\n",
       "      <th>47618</th>\n",
       "      <th>48177</th>\n",
       "      <th>48456</th>\n",
       "      <th>cluster</th>\n",
       "    </tr>\n",
       "    <tr>\n",
       "      <th>user_id</th>\n",
       "      <th></th>\n",
       "      <th></th>\n",
       "      <th></th>\n",
       "      <th></th>\n",
       "      <th></th>\n",
       "      <th></th>\n",
       "      <th></th>\n",
       "      <th></th>\n",
       "      <th></th>\n",
       "      <th></th>\n",
       "      <th></th>\n",
       "      <th></th>\n",
       "      <th></th>\n",
       "      <th></th>\n",
       "      <th></th>\n",
       "      <th></th>\n",
       "      <th></th>\n",
       "      <th></th>\n",
       "      <th></th>\n",
       "      <th></th>\n",
       "      <th></th>\n",
       "    </tr>\n",
       "  </thead>\n",
       "  <tbody>\n",
       "    <tr>\n",
       "      <th>3</th>\n",
       "      <td>9.0</td>\n",
       "      <td>0.0</td>\n",
       "      <td>0.0</td>\n",
       "      <td>0.0</td>\n",
       "      <td>0.0</td>\n",
       "      <td>0.0</td>\n",
       "      <td>0.0</td>\n",
       "      <td>0.0</td>\n",
       "      <td>8.0</td>\n",
       "      <td>0.0</td>\n",
       "      <td>...</td>\n",
       "      <td>0.0</td>\n",
       "      <td>0.0</td>\n",
       "      <td>0.0</td>\n",
       "      <td>0.0</td>\n",
       "      <td>0.0</td>\n",
       "      <td>0.0</td>\n",
       "      <td>0.0</td>\n",
       "      <td>0.0</td>\n",
       "      <td>0.0</td>\n",
       "      <td>6</td>\n",
       "    </tr>\n",
       "    <tr>\n",
       "      <th>6</th>\n",
       "      <td>6.0</td>\n",
       "      <td>0.0</td>\n",
       "      <td>0.0</td>\n",
       "      <td>0.0</td>\n",
       "      <td>0.0</td>\n",
       "      <td>0.0</td>\n",
       "      <td>0.0</td>\n",
       "      <td>0.0</td>\n",
       "      <td>0.0</td>\n",
       "      <td>0.0</td>\n",
       "      <td>...</td>\n",
       "      <td>0.0</td>\n",
       "      <td>0.0</td>\n",
       "      <td>0.0</td>\n",
       "      <td>0.0</td>\n",
       "      <td>0.0</td>\n",
       "      <td>0.0</td>\n",
       "      <td>0.0</td>\n",
       "      <td>0.0</td>\n",
       "      <td>0.0</td>\n",
       "      <td>5</td>\n",
       "    </tr>\n",
       "    <tr>\n",
       "      <th>16</th>\n",
       "      <td>0.0</td>\n",
       "      <td>0.0</td>\n",
       "      <td>0.0</td>\n",
       "      <td>0.0</td>\n",
       "      <td>0.0</td>\n",
       "      <td>0.0</td>\n",
       "      <td>0.0</td>\n",
       "      <td>0.0</td>\n",
       "      <td>0.0</td>\n",
       "      <td>0.0</td>\n",
       "      <td>...</td>\n",
       "      <td>0.0</td>\n",
       "      <td>0.0</td>\n",
       "      <td>0.0</td>\n",
       "      <td>0.0</td>\n",
       "      <td>0.0</td>\n",
       "      <td>0.0</td>\n",
       "      <td>0.0</td>\n",
       "      <td>0.0</td>\n",
       "      <td>0.0</td>\n",
       "      <td>7</td>\n",
       "    </tr>\n",
       "    <tr>\n",
       "      <th>17</th>\n",
       "      <td>0.0</td>\n",
       "      <td>0.0</td>\n",
       "      <td>0.0</td>\n",
       "      <td>0.0</td>\n",
       "      <td>0.0</td>\n",
       "      <td>0.0</td>\n",
       "      <td>0.0</td>\n",
       "      <td>0.0</td>\n",
       "      <td>0.0</td>\n",
       "      <td>0.0</td>\n",
       "      <td>...</td>\n",
       "      <td>0.0</td>\n",
       "      <td>0.0</td>\n",
       "      <td>0.0</td>\n",
       "      <td>0.0</td>\n",
       "      <td>0.0</td>\n",
       "      <td>0.0</td>\n",
       "      <td>0.0</td>\n",
       "      <td>0.0</td>\n",
       "      <td>0.0</td>\n",
       "      <td>9</td>\n",
       "    </tr>\n",
       "    <tr>\n",
       "      <th>19</th>\n",
       "      <td>8.0</td>\n",
       "      <td>6.0</td>\n",
       "      <td>8.0</td>\n",
       "      <td>0.0</td>\n",
       "      <td>0.0</td>\n",
       "      <td>0.0</td>\n",
       "      <td>0.0</td>\n",
       "      <td>0.0</td>\n",
       "      <td>0.0</td>\n",
       "      <td>0.0</td>\n",
       "      <td>...</td>\n",
       "      <td>0.0</td>\n",
       "      <td>0.0</td>\n",
       "      <td>0.0</td>\n",
       "      <td>0.0</td>\n",
       "      <td>0.0</td>\n",
       "      <td>0.0</td>\n",
       "      <td>0.0</td>\n",
       "      <td>0.0</td>\n",
       "      <td>0.0</td>\n",
       "      <td>0</td>\n",
       "    </tr>\n",
       "    <tr>\n",
       "      <th>...</th>\n",
       "      <td>...</td>\n",
       "      <td>...</td>\n",
       "      <td>...</td>\n",
       "      <td>...</td>\n",
       "      <td>...</td>\n",
       "      <td>...</td>\n",
       "      <td>...</td>\n",
       "      <td>...</td>\n",
       "      <td>...</td>\n",
       "      <td>...</td>\n",
       "      <td>...</td>\n",
       "      <td>...</td>\n",
       "      <td>...</td>\n",
       "      <td>...</td>\n",
       "      <td>...</td>\n",
       "      <td>...</td>\n",
       "      <td>...</td>\n",
       "      <td>...</td>\n",
       "      <td>...</td>\n",
       "      <td>...</td>\n",
       "      <td>...</td>\n",
       "    </tr>\n",
       "    <tr>\n",
       "      <th>353385</th>\n",
       "      <td>0.0</td>\n",
       "      <td>0.0</td>\n",
       "      <td>0.0</td>\n",
       "      <td>8.0</td>\n",
       "      <td>0.0</td>\n",
       "      <td>0.0</td>\n",
       "      <td>0.0</td>\n",
       "      <td>0.0</td>\n",
       "      <td>0.0</td>\n",
       "      <td>0.0</td>\n",
       "      <td>...</td>\n",
       "      <td>0.0</td>\n",
       "      <td>0.0</td>\n",
       "      <td>0.0</td>\n",
       "      <td>0.0</td>\n",
       "      <td>0.0</td>\n",
       "      <td>0.0</td>\n",
       "      <td>0.0</td>\n",
       "      <td>0.0</td>\n",
       "      <td>0.0</td>\n",
       "      <td>5</td>\n",
       "    </tr>\n",
       "    <tr>\n",
       "      <th>353386</th>\n",
       "      <td>7.0</td>\n",
       "      <td>0.0</td>\n",
       "      <td>8.0</td>\n",
       "      <td>0.0</td>\n",
       "      <td>0.0</td>\n",
       "      <td>0.0</td>\n",
       "      <td>0.0</td>\n",
       "      <td>0.0</td>\n",
       "      <td>0.0</td>\n",
       "      <td>0.0</td>\n",
       "      <td>...</td>\n",
       "      <td>0.0</td>\n",
       "      <td>0.0</td>\n",
       "      <td>0.0</td>\n",
       "      <td>0.0</td>\n",
       "      <td>0.0</td>\n",
       "      <td>0.0</td>\n",
       "      <td>0.0</td>\n",
       "      <td>0.0</td>\n",
       "      <td>0.0</td>\n",
       "      <td>6</td>\n",
       "    </tr>\n",
       "    <tr>\n",
       "      <th>353392</th>\n",
       "      <td>0.0</td>\n",
       "      <td>0.0</td>\n",
       "      <td>0.0</td>\n",
       "      <td>0.0</td>\n",
       "      <td>0.0</td>\n",
       "      <td>0.0</td>\n",
       "      <td>0.0</td>\n",
       "      <td>0.0</td>\n",
       "      <td>0.0</td>\n",
       "      <td>0.0</td>\n",
       "      <td>...</td>\n",
       "      <td>0.0</td>\n",
       "      <td>0.0</td>\n",
       "      <td>0.0</td>\n",
       "      <td>0.0</td>\n",
       "      <td>0.0</td>\n",
       "      <td>0.0</td>\n",
       "      <td>0.0</td>\n",
       "      <td>0.0</td>\n",
       "      <td>0.0</td>\n",
       "      <td>1</td>\n",
       "    </tr>\n",
       "    <tr>\n",
       "      <th>353395</th>\n",
       "      <td>0.0</td>\n",
       "      <td>8.0</td>\n",
       "      <td>9.0</td>\n",
       "      <td>0.0</td>\n",
       "      <td>0.0</td>\n",
       "      <td>0.0</td>\n",
       "      <td>0.0</td>\n",
       "      <td>0.0</td>\n",
       "      <td>0.0</td>\n",
       "      <td>0.0</td>\n",
       "      <td>...</td>\n",
       "      <td>0.0</td>\n",
       "      <td>0.0</td>\n",
       "      <td>0.0</td>\n",
       "      <td>0.0</td>\n",
       "      <td>0.0</td>\n",
       "      <td>0.0</td>\n",
       "      <td>0.0</td>\n",
       "      <td>0.0</td>\n",
       "      <td>0.0</td>\n",
       "      <td>2</td>\n",
       "    </tr>\n",
       "    <tr>\n",
       "      <th>353398</th>\n",
       "      <td>0.0</td>\n",
       "      <td>0.0</td>\n",
       "      <td>0.0</td>\n",
       "      <td>0.0</td>\n",
       "      <td>0.0</td>\n",
       "      <td>7.0</td>\n",
       "      <td>0.0</td>\n",
       "      <td>0.0</td>\n",
       "      <td>0.0</td>\n",
       "      <td>0.0</td>\n",
       "      <td>...</td>\n",
       "      <td>0.0</td>\n",
       "      <td>0.0</td>\n",
       "      <td>0.0</td>\n",
       "      <td>0.0</td>\n",
       "      <td>0.0</td>\n",
       "      <td>0.0</td>\n",
       "      <td>0.0</td>\n",
       "      <td>0.0</td>\n",
       "      <td>0.0</td>\n",
       "      <td>9</td>\n",
       "    </tr>\n",
       "  </tbody>\n",
       "</table>\n",
       "<p>95143 rows × 16848 columns</p>\n",
       "</div>"
      ],
      "text/plain": [
       "MAL_ID     1    5    6    7    8   15   16   17   18   19  ...  47398  47402  \\\n",
       "user_id                                                    ...                 \n",
       "3        9.0  0.0  0.0  0.0  0.0  0.0  0.0  0.0  8.0  0.0  ...    0.0    0.0   \n",
       "6        6.0  0.0  0.0  0.0  0.0  0.0  0.0  0.0  0.0  0.0  ...    0.0    0.0   \n",
       "16       0.0  0.0  0.0  0.0  0.0  0.0  0.0  0.0  0.0  0.0  ...    0.0    0.0   \n",
       "17       0.0  0.0  0.0  0.0  0.0  0.0  0.0  0.0  0.0  0.0  ...    0.0    0.0   \n",
       "19       8.0  6.0  8.0  0.0  0.0  0.0  0.0  0.0  0.0  0.0  ...    0.0    0.0   \n",
       "...      ...  ...  ...  ...  ...  ...  ...  ...  ...  ...  ...    ...    ...   \n",
       "353385   0.0  0.0  0.0  8.0  0.0  0.0  0.0  0.0  0.0  0.0  ...    0.0    0.0   \n",
       "353386   7.0  0.0  8.0  0.0  0.0  0.0  0.0  0.0  0.0  0.0  ...    0.0    0.0   \n",
       "353392   0.0  0.0  0.0  0.0  0.0  0.0  0.0  0.0  0.0  0.0  ...    0.0    0.0   \n",
       "353395   0.0  8.0  9.0  0.0  0.0  0.0  0.0  0.0  0.0  0.0  ...    0.0    0.0   \n",
       "353398   0.0  0.0  0.0  0.0  0.0  7.0  0.0  0.0  0.0  0.0  ...    0.0    0.0   \n",
       "\n",
       "MAL_ID   47403  47410  47614  47616  47618  48177  48456  cluster  \n",
       "user_id                                                            \n",
       "3          0.0    0.0    0.0    0.0    0.0    0.0    0.0        6  \n",
       "6          0.0    0.0    0.0    0.0    0.0    0.0    0.0        5  \n",
       "16         0.0    0.0    0.0    0.0    0.0    0.0    0.0        7  \n",
       "17         0.0    0.0    0.0    0.0    0.0    0.0    0.0        9  \n",
       "19         0.0    0.0    0.0    0.0    0.0    0.0    0.0        0  \n",
       "...        ...    ...    ...    ...    ...    ...    ...      ...  \n",
       "353385     0.0    0.0    0.0    0.0    0.0    0.0    0.0        5  \n",
       "353386     0.0    0.0    0.0    0.0    0.0    0.0    0.0        6  \n",
       "353392     0.0    0.0    0.0    0.0    0.0    0.0    0.0        1  \n",
       "353395     0.0    0.0    0.0    0.0    0.0    0.0    0.0        2  \n",
       "353398     0.0    0.0    0.0    0.0    0.0    0.0    0.0        9  \n",
       "\n",
       "[95143 rows x 16848 columns]"
      ]
     },
     "execution_count": 100,
     "metadata": {},
     "output_type": "execute_result"
    }
   ],
   "source": [
    "user_item_matrix"
   ]
  },
  {
   "cell_type": "code",
   "execution_count": 98,
   "metadata": {},
   "outputs": [
    {
     "data": {
      "text/plain": [
       "<95143x16847 sparse matrix of type '<class 'numpy.float64'>'\n",
       "\twith 33056272 stored elements in Compressed Sparse Row format>"
      ]
     },
     "execution_count": 98,
     "metadata": {},
     "output_type": "execute_result"
    }
   ],
   "source": [
    "train_data_sparse"
   ]
  },
  {
   "attachments": {},
   "cell_type": "markdown",
   "metadata": {},
   "source": [
    "### Clustering users with KMeans"
   ]
  },
  {
   "cell_type": "code",
   "execution_count": 64,
   "metadata": {},
   "outputs": [],
   "source": [
    "from sklearn.cluster import KMeans\n",
    "\n",
    "# Cluster the users based on the sparse matrix\n",
    "kmeans = KMeans(n_clusters=10, random_state=42).fit(train_data_sparse)\n",
    "\n",
    "# Add the cluster labels to the user-item matrix\n",
    "user_item_matrix['cluster'] = kmeans.labels_"
   ]
  },
  {
   "attachments": {},
   "cell_type": "markdown",
   "metadata": {},
   "source": [
    "### Predict ratings for the specific items that the user has rated in the test set"
   ]
  },
  {
   "cell_type": "code",
   "execution_count": 9,
   "metadata": {},
   "outputs": [
    {
     "data": {
      "text/plain": [
       "114011"
      ]
     },
     "execution_count": 9,
     "metadata": {},
     "output_type": "execute_result"
    }
   ],
   "source": [
    "# pick random user_id from test_data\n",
    "user_id = test_data['user_id'].sample(1).values[0]\n",
    "user_id"
   ]
  },
  {
   "cell_type": "code",
   "execution_count": 229,
   "metadata": {},
   "outputs": [
    {
     "data": {
      "text/plain": [
       "(95143, 16847)"
      ]
     },
     "execution_count": 229,
     "metadata": {},
     "output_type": "execute_result"
    }
   ],
   "source": [
    "train_data_sparse.shape"
   ]
  },
  {
   "cell_type": "code",
   "execution_count": 238,
   "metadata": {},
   "outputs": [
    {
     "data": {
      "text/plain": [
       "(1, 16847)"
      ]
     },
     "execution_count": 238,
     "metadata": {},
     "output_type": "execute_result"
    }
   ],
   "source": [
    "train_data_sparse[95138, :].shape"
   ]
  },
  {
   "cell_type": "code",
   "execution_count": 76,
   "metadata": {},
   "outputs": [
    {
     "data": {
      "text/plain": [
       "4684"
      ]
     },
     "execution_count": 76,
     "metadata": {},
     "output_type": "execute_result"
    }
   ],
   "source": [
    "rating_data['MAL_ID'].nunique()"
   ]
  },
  {
   "cell_type": "code",
   "execution_count": 122,
   "metadata": {},
   "outputs": [],
   "source": [
    "from sklearn.metrics.pairwise import cosine_similarity\n",
    "def predict_ratings_user_based(user_id):\n",
    "    # Get the anime_ids that the user has actually rated\n",
    "    anime_ids = test_data.loc[test_data['user_id'] == user_id]['MAL_ID'].values\n",
    "\n",
    "    # for each anime_id, get the name of anime\n",
    "    # names = []\n",
    "    # for anime_id in anime_ids:\n",
    "    #     name = anime_name.loc[anime_name['MAL_ID']==anime_id]['Name'].values[0]\n",
    "    #     names.append(name)\n",
    "\n",
    "    # Get the cluster of the user (e.g., 5)\n",
    "    user_cluster = user_item_matrix['cluster'].loc[user_item_matrix['cluster'].index == user_id].values[0]\n",
    "    \n",
    "    # Get the users in the same cluster (e.g., [1, 2, 3, 4, 5, 6, 7, 8, 9, 10])\n",
    "    users_in_cluster = user_item_matrix[user_item_matrix['cluster'] == user_cluster].index\n",
    "    \n",
    "    # Get the ratings of the users in the same cluster\n",
    "    ratings_of_users_in_cluster = train_data_sparse[user_item_matrix.index.isin(users_in_cluster)]\n",
    "    \n",
    "    row_index = user_item_matrix.index.get_loc(user_id)\n",
    "\n",
    "    # Calculate the similarity between the user and the users in the same cluster\n",
    "    similarity = cosine_similarity(train_data_sparse[row_index], ratings_of_users_in_cluster)\n",
    "    print('-------similarity array------')\n",
    "    print(similarity, similarity.shape)\n",
    "\n",
    "    # Get the ratings for the specified anime_ids that exist in train_data_sparse\n",
    "    # It is actually searching it from user_item_matrix but its fine because train_data_sparse is a csr_matrix made from user_item_matrix\n",
    "    common_anime_ids = set(anime_ids).intersection(set(user_item_matrix.index.values))\n",
    "    common_anime_ids = np.array(sorted(list(common_anime_ids)))\n",
    "    \n",
    "    common_anime_ids_idx  = [user_item_matrix.columns.get_loc(anime_id) for anime_id in common_anime_ids]\n",
    "    \n",
    "    # Use this in case if you want to get all the anime_ids from train_data_sparse\n",
    "    anime_ids_idx  = [user_item_matrix.columns.get_loc(anime_id) for anime_id in anime_ids]\n",
    "\n",
    "    # get index of users_in_cluster, common_anime_ids\n",
    "    users_in_cluster_idx = [user_item_matrix.index.get_loc(user_id) for user_id in users_in_cluster]\n",
    "\n",
    "    # Get the ratings for the specified anime_ids\n",
    "    anime_ratings = np.asarray(train_data_sparse[users_in_cluster_idx, :][:, anime_ids_idx].todense())\n",
    "\n",
    "    # Get the top-k similar users\n",
    "    top_similar_users = np.argsort(similarity)[0][-1]\n",
    "    print('-------top_similar_users------')\n",
    "    print(users_in_cluster[top_similar_users])\n",
    "\n",
    "    # Calculate the predicted ratings for the specified anime_ids\n",
    "    predicted_ratings = anime_ratings.dot(similarity[0][top_similar_users]) / np.sum(np.abs(similarity[0][top_similar_users]))\n",
    "\n",
    "    return predicted_ratings[0]\n"
   ]
  },
  {
   "cell_type": "code",
   "execution_count": 126,
   "metadata": {},
   "outputs": [
    {
     "name": "stdout",
     "output_type": "stream",
     "text": [
      "-------similarity array------\n",
      "[[0.27347739 0.32875137 0.20629679 ... 0.24250088 0.26552431 0.32655579]] (1, 5392)\n",
      "-------top_similar_users------\n",
      "114011\n"
     ]
    },
    {
     "data": {
      "text/plain": [
       "(array([ 0.,  0.,  9.,  0.,  0.,  0.,  0.,  8.,  0.,  8.,  0.,  0.,  0.,\n",
       "         0.,  0.,  0.,  0.,  0.,  0.,  0.,  0.,  7.,  0.,  1.,  6.,  6.,\n",
       "         0.,  8.,  0.,  0.,  6.,  0.,  0.,  0., 10.,  8.,  0.,  0.,  0.,\n",
       "        10.,  0.]),\n",
       " (41,))"
      ]
     },
     "execution_count": 126,
     "metadata": {},
     "output_type": "execute_result"
    }
   ],
   "source": [
    "predicted_ratings = predict_ratings_user_based(user_id)\n",
    "predicted_ratings, predicted_ratings.shape"
   ]
  },
  {
   "cell_type": "code",
   "execution_count": 125,
   "metadata": {},
   "outputs": [
    {
     "data": {
      "text/plain": [
       "(array([ 7,  8,  8,  7,  8,  8,  7,  8,  8,  8,  9,  8,  7,  7,  9,  8,  7,\n",
       "         9,  7,  7,  9,  8,  8,  8,  7, 10,  7,  8,  8,  7, 10,  8,  9,  8,\n",
       "         8,  8, 10,  8,  9, 10,  8]),\n",
       " (41,))"
      ]
     },
     "execution_count": 125,
     "metadata": {},
     "output_type": "execute_result"
    }
   ],
   "source": [
    "actual_ratings = test_data.loc[test_data['user_id']==user_id]['rating'].values\n",
    "actual_ratings, actual_ratings.shape"
   ]
  },
  {
   "cell_type": "code",
   "execution_count": 16,
   "metadata": {},
   "outputs": [],
   "source": [
    "def calculate_mae(predicted_ratings, actual_ratings):\n",
    "    return np.mean(np.abs(predicted_ratings - actual_ratings))"
   ]
  },
  {
   "cell_type": "code",
   "execution_count": 127,
   "metadata": {},
   "outputs": [
    {
     "data": {
      "text/plain": [
       "6.097560975609756"
      ]
     },
     "execution_count": 127,
     "metadata": {},
     "output_type": "execute_result"
    }
   ],
   "source": [
    "calculate_mae(predicted_ratings, actual_ratings)"
   ]
  },
  {
   "cell_type": "code",
   "execution_count": 18,
   "metadata": {},
   "outputs": [],
   "source": [
    "def calculate_rmse(predict_anime_ratings, actual_ratings):\n",
    "    return np.sqrt(np.mean((predict_anime_ratings - actual_ratings)**2))"
   ]
  },
  {
   "cell_type": "code",
   "execution_count": 128,
   "metadata": {},
   "outputs": [
    {
     "data": {
      "text/plain": [
       "6.8645430452079035"
      ]
     },
     "execution_count": 128,
     "metadata": {},
     "output_type": "execute_result"
    }
   ],
   "source": [
    "calculate_rmse(predicted_ratings, actual_ratings)"
   ]
  },
  {
   "attachments": {},
   "cell_type": "markdown",
   "metadata": {},
   "source": [
    "### Predict ratings for top_k recommended items"
   ]
  },
  {
   "cell_type": "code",
   "execution_count": 185,
   "metadata": {},
   "outputs": [
    {
     "data": {
      "text/plain": [
       "(95143, 16847)"
      ]
     },
     "execution_count": 185,
     "metadata": {},
     "output_type": "execute_result"
    }
   ],
   "source": [
    "train_data_sparse.shape"
   ]
  },
  {
   "cell_type": "code",
   "execution_count": 175,
   "metadata": {},
   "outputs": [],
   "source": [
    "def predict_ratings(user_id, k):\n",
    "    # Get the cluster of the user\n",
    "    # user_cluster = user_item_matrix.loc[user_id, 'cluster']\n",
    "    user_cluster = user_item_matrix['cluster'].loc[user_item_matrix['cluster'].index == user_id].values[0]\n",
    "    \n",
    "    # Get the users in the same cluster\n",
    "    users_in_cluster = user_item_matrix[user_item_matrix['cluster'] == user_cluster].index.intersection(train_data_sparse[:, 0].toarray().flatten().astype(int))\n",
    "    \n",
    "    # Get the ratings of the users in the same cluster\n",
    "    ratings_of_users_in_cluster = train_data_sparse[users_in_cluster]\n",
    "    \n",
    "    # Calculate the similarity between the user and the users in the same cluster\n",
    "    similarity = cosine_similarity(train_data_sparse[user_id], ratings_of_users_in_cluster)\n",
    "    \n",
    "    # Get the top-k similar users\n",
    "    top_k_similar_users = np.argsort(similarity)[0][-k:]\n",
    "    \n",
    "    # Get the items rated by the top-k similar users\n",
    "    items_rated_by_top_k_users = train_data_sparse[top_k_similar_users].toarray().T\n",
    "    \n",
    "    # Get the items not rated by the user\n",
    "    unrated_items_by_user = np.isnan(user_item_matrix.loc[user_id])\n",
    "    \n",
    "    # Calculate the predicted rating for the unrated items\n",
    "    predicted_ratings = items_rated_by_top_k_users.dot(similarity[0][top_k_similar_users]) / np.sum(similarity[0][top_k_similar_users])\n",
    "    \n",
    "    # Get the top-k recommended items\n",
    "    top_k_items = np.argsort(predicted_ratings)[-k:]\n",
    "    \n",
    "    # Get the predicted ratings for the top-k items\n",
    "    predicted_ratings_for_top_k_items = predicted_ratings[top_k_items]\n",
    "    \n",
    "    return top_k_items, predicted_ratings_for_top_k_items\n"
   ]
  },
  {
   "cell_type": "code",
   "execution_count": 181,
   "metadata": {},
   "outputs": [
    {
     "ename": "IndexError",
     "evalue": "row index (353385) out of range",
     "output_type": "error",
     "traceback": [
      "\u001b[0;31m---------------------------------------------------------------------------\u001b[0m",
      "\u001b[0;31mIndexError\u001b[0m                                Traceback (most recent call last)",
      "Cell \u001b[0;32mIn[181], line 2\u001b[0m\n\u001b[1;32m      1\u001b[0m \u001b[39m# Top 10 recommendation and predicted ratings for user 6\u001b[39;00m\n\u001b[0;32m----> 2\u001b[0m top_k, predicted_ratings \u001b[39m=\u001b[39m predict_ratings(\u001b[39m353385\u001b[39;49m, k\u001b[39m=\u001b[39;49m\u001b[39m10\u001b[39;49m)\n\u001b[1;32m      3\u001b[0m top_k, predicted_ratings\n",
      "Cell \u001b[0;32mIn[175], line 13\u001b[0m, in \u001b[0;36mpredict_ratings\u001b[0;34m(user_id, k)\u001b[0m\n\u001b[1;32m     10\u001b[0m ratings_of_users_in_cluster \u001b[39m=\u001b[39m train_data_sparse[users_in_cluster]\n\u001b[1;32m     12\u001b[0m \u001b[39m# Calculate the similarity between the user and the users in the same cluster\u001b[39;00m\n\u001b[0;32m---> 13\u001b[0m similarity \u001b[39m=\u001b[39m cosine_similarity(train_data_sparse[user_id], ratings_of_users_in_cluster)\n\u001b[1;32m     15\u001b[0m \u001b[39m# Get the top-k similar users\u001b[39;00m\n\u001b[1;32m     16\u001b[0m top_k_similar_users \u001b[39m=\u001b[39m np\u001b[39m.\u001b[39margsort(similarity)[\u001b[39m0\u001b[39m][\u001b[39m-\u001b[39mk:]\n",
      "File \u001b[0;32m~/opt/anaconda3/envs/anime-recommender/lib/python3.9/site-packages/scipy/sparse/_index.py:47\u001b[0m, in \u001b[0;36mIndexMixin.__getitem__\u001b[0;34m(self, key)\u001b[0m\n\u001b[1;32m     46\u001b[0m \u001b[39mdef\u001b[39;00m \u001b[39m__getitem__\u001b[39m(\u001b[39mself\u001b[39m, key):\n\u001b[0;32m---> 47\u001b[0m     row, col \u001b[39m=\u001b[39m \u001b[39mself\u001b[39;49m\u001b[39m.\u001b[39;49m_validate_indices(key)\n\u001b[1;32m     49\u001b[0m     \u001b[39m# Dispatch to specialized methods.\u001b[39;00m\n\u001b[1;32m     50\u001b[0m     \u001b[39mif\u001b[39;00m \u001b[39misinstance\u001b[39m(row, INT_TYPES):\n",
      "File \u001b[0;32m~/opt/anaconda3/envs/anime-recommender/lib/python3.9/site-packages/scipy/sparse/_index.py:155\u001b[0m, in \u001b[0;36mIndexMixin._validate_indices\u001b[0;34m(self, key)\u001b[0m\n\u001b[1;32m    153\u001b[0m row \u001b[39m=\u001b[39m \u001b[39mint\u001b[39m(row)\n\u001b[1;32m    154\u001b[0m \u001b[39mif\u001b[39;00m row \u001b[39m<\u001b[39m \u001b[39m-\u001b[39mM \u001b[39mor\u001b[39;00m row \u001b[39m>\u001b[39m\u001b[39m=\u001b[39m M:\n\u001b[0;32m--> 155\u001b[0m     \u001b[39mraise\u001b[39;00m \u001b[39mIndexError\u001b[39;00m(\u001b[39m'\u001b[39m\u001b[39mrow index (\u001b[39m\u001b[39m%d\u001b[39;00m\u001b[39m) out of range\u001b[39m\u001b[39m'\u001b[39m \u001b[39m%\u001b[39m row)\n\u001b[1;32m    156\u001b[0m \u001b[39mif\u001b[39;00m row \u001b[39m<\u001b[39m \u001b[39m0\u001b[39m:\n\u001b[1;32m    157\u001b[0m     row \u001b[39m+\u001b[39m\u001b[39m=\u001b[39m M\n",
      "\u001b[0;31mIndexError\u001b[0m: row index (353385) out of range"
     ]
    }
   ],
   "source": [
    "# Top 10 recommendation and predicted ratings for user 6\n",
    "top_k, predicted_ratings = predict_ratings(353385, k=10)\n",
    "top_k, predicted_ratings"
   ]
  },
  {
   "attachments": {},
   "cell_type": "markdown",
   "metadata": {},
   "source": [
    "### Evaluation"
   ]
  },
  {
   "attachments": {},
   "cell_type": "markdown",
   "metadata": {},
   "source": [
    "#### MAE@K"
   ]
  },
  {
   "cell_type": "code",
   "execution_count": 78,
   "metadata": {},
   "outputs": [
    {
     "data": {
      "text/html": [
       "<div>\n",
       "<style scoped>\n",
       "    .dataframe tbody tr th:only-of-type {\n",
       "        vertical-align: middle;\n",
       "    }\n",
       "\n",
       "    .dataframe tbody tr th {\n",
       "        vertical-align: top;\n",
       "    }\n",
       "\n",
       "    .dataframe thead th {\n",
       "        text-align: right;\n",
       "    }\n",
       "</style>\n",
       "<table border=\"1\" class=\"dataframe\">\n",
       "  <thead>\n",
       "    <tr style=\"text-align: right;\">\n",
       "      <th></th>\n",
       "      <th>user_id</th>\n",
       "      <th>MAL_ID</th>\n",
       "      <th>rating</th>\n",
       "    </tr>\n",
       "  </thead>\n",
       "  <tbody>\n",
       "    <tr>\n",
       "      <th>739</th>\n",
       "      <td>6</td>\n",
       "      <td>13675</td>\n",
       "      <td>5</td>\n",
       "    </tr>\n",
       "    <tr>\n",
       "      <th>912</th>\n",
       "      <td>6</td>\n",
       "      <td>11691</td>\n",
       "      <td>7</td>\n",
       "    </tr>\n",
       "    <tr>\n",
       "      <th>759</th>\n",
       "      <td>6</td>\n",
       "      <td>11099</td>\n",
       "      <td>8</td>\n",
       "    </tr>\n",
       "    <tr>\n",
       "      <th>681</th>\n",
       "      <td>6</td>\n",
       "      <td>11073</td>\n",
       "      <td>6</td>\n",
       "    </tr>\n",
       "    <tr>\n",
       "      <th>766</th>\n",
       "      <td>6</td>\n",
       "      <td>10622</td>\n",
       "      <td>8</td>\n",
       "    </tr>\n",
       "    <tr>\n",
       "      <th>825</th>\n",
       "      <td>6</td>\n",
       "      <td>10497</td>\n",
       "      <td>9</td>\n",
       "    </tr>\n",
       "    <tr>\n",
       "      <th>677</th>\n",
       "      <td>6</td>\n",
       "      <td>10161</td>\n",
       "      <td>8</td>\n",
       "    </tr>\n",
       "    <tr>\n",
       "      <th>773</th>\n",
       "      <td>6</td>\n",
       "      <td>10067</td>\n",
       "      <td>8</td>\n",
       "    </tr>\n",
       "    <tr>\n",
       "      <th>785</th>\n",
       "      <td>6</td>\n",
       "      <td>9846</td>\n",
       "      <td>7</td>\n",
       "    </tr>\n",
       "    <tr>\n",
       "      <th>703</th>\n",
       "      <td>6</td>\n",
       "      <td>9756</td>\n",
       "      <td>10</td>\n",
       "    </tr>\n",
       "    <tr>\n",
       "      <th>865</th>\n",
       "      <td>6</td>\n",
       "      <td>9041</td>\n",
       "      <td>4</td>\n",
       "    </tr>\n",
       "    <tr>\n",
       "      <th>790</th>\n",
       "      <td>6</td>\n",
       "      <td>8800</td>\n",
       "      <td>8</td>\n",
       "    </tr>\n",
       "    <tr>\n",
       "      <th>886</th>\n",
       "      <td>6</td>\n",
       "      <td>8628</td>\n",
       "      <td>8</td>\n",
       "    </tr>\n",
       "    <tr>\n",
       "      <th>838</th>\n",
       "      <td>6</td>\n",
       "      <td>7337</td>\n",
       "      <td>8</td>\n",
       "    </tr>\n",
       "    <tr>\n",
       "      <th>875</th>\n",
       "      <td>6</td>\n",
       "      <td>7054</td>\n",
       "      <td>8</td>\n",
       "    </tr>\n",
       "    <tr>\n",
       "      <th>832</th>\n",
       "      <td>6</td>\n",
       "      <td>7024</td>\n",
       "      <td>4</td>\n",
       "    </tr>\n",
       "    <tr>\n",
       "      <th>809</th>\n",
       "      <td>6</td>\n",
       "      <td>6984</td>\n",
       "      <td>8</td>\n",
       "    </tr>\n",
       "    <tr>\n",
       "      <th>791</th>\n",
       "      <td>6</td>\n",
       "      <td>6973</td>\n",
       "      <td>8</td>\n",
       "    </tr>\n",
       "    <tr>\n",
       "      <th>692</th>\n",
       "      <td>6</td>\n",
       "      <td>6953</td>\n",
       "      <td>1</td>\n",
       "    </tr>\n",
       "    <tr>\n",
       "      <th>750</th>\n",
       "      <td>6</td>\n",
       "      <td>6607</td>\n",
       "      <td>3</td>\n",
       "    </tr>\n",
       "    <tr>\n",
       "      <th>817</th>\n",
       "      <td>6</td>\n",
       "      <td>6064</td>\n",
       "      <td>5</td>\n",
       "    </tr>\n",
       "    <tr>\n",
       "      <th>685</th>\n",
       "      <td>6</td>\n",
       "      <td>5529</td>\n",
       "      <td>6</td>\n",
       "    </tr>\n",
       "    <tr>\n",
       "      <th>934</th>\n",
       "      <td>6</td>\n",
       "      <td>5163</td>\n",
       "      <td>8</td>\n",
       "    </tr>\n",
       "    <tr>\n",
       "      <th>828</th>\n",
       "      <td>6</td>\n",
       "      <td>5041</td>\n",
       "      <td>7</td>\n",
       "    </tr>\n",
       "    <tr>\n",
       "      <th>683</th>\n",
       "      <td>6</td>\n",
       "      <td>4795</td>\n",
       "      <td>6</td>\n",
       "    </tr>\n",
       "    <tr>\n",
       "      <th>957</th>\n",
       "      <td>6</td>\n",
       "      <td>4548</td>\n",
       "      <td>7</td>\n",
       "    </tr>\n",
       "    <tr>\n",
       "      <th>910</th>\n",
       "      <td>6</td>\n",
       "      <td>4177</td>\n",
       "      <td>9</td>\n",
       "    </tr>\n",
       "    <tr>\n",
       "      <th>933</th>\n",
       "      <td>6</td>\n",
       "      <td>4158</td>\n",
       "      <td>7</td>\n",
       "    </tr>\n",
       "    <tr>\n",
       "      <th>899</th>\n",
       "      <td>6</td>\n",
       "      <td>3901</td>\n",
       "      <td>9</td>\n",
       "    </tr>\n",
       "    <tr>\n",
       "      <th>819</th>\n",
       "      <td>6</td>\n",
       "      <td>3652</td>\n",
       "      <td>9</td>\n",
       "    </tr>\n",
       "    <tr>\n",
       "      <th>676</th>\n",
       "      <td>6</td>\n",
       "      <td>3358</td>\n",
       "      <td>9</td>\n",
       "    </tr>\n",
       "    <tr>\n",
       "      <th>871</th>\n",
       "      <td>6</td>\n",
       "      <td>3092</td>\n",
       "      <td>10</td>\n",
       "    </tr>\n",
       "    <tr>\n",
       "      <th>915</th>\n",
       "      <td>6</td>\n",
       "      <td>2904</td>\n",
       "      <td>8</td>\n",
       "    </tr>\n",
       "    <tr>\n",
       "      <th>726</th>\n",
       "      <td>6</td>\n",
       "      <td>2897</td>\n",
       "      <td>6</td>\n",
       "    </tr>\n",
       "    <tr>\n",
       "      <th>954</th>\n",
       "      <td>6</td>\n",
       "      <td>2404</td>\n",
       "      <td>7</td>\n",
       "    </tr>\n",
       "    <tr>\n",
       "      <th>689</th>\n",
       "      <td>6</td>\n",
       "      <td>2201</td>\n",
       "      <td>5</td>\n",
       "    </tr>\n",
       "    <tr>\n",
       "      <th>670</th>\n",
       "      <td>6</td>\n",
       "      <td>1943</td>\n",
       "      <td>10</td>\n",
       "    </tr>\n",
       "    <tr>\n",
       "      <th>893</th>\n",
       "      <td>6</td>\n",
       "      <td>1890</td>\n",
       "      <td>6</td>\n",
       "    </tr>\n",
       "    <tr>\n",
       "      <th>686</th>\n",
       "      <td>6</td>\n",
       "      <td>1709</td>\n",
       "      <td>6</td>\n",
       "    </tr>\n",
       "    <tr>\n",
       "      <th>903</th>\n",
       "      <td>6</td>\n",
       "      <td>1686</td>\n",
       "      <td>7</td>\n",
       "    </tr>\n",
       "    <tr>\n",
       "      <th>974</th>\n",
       "      <td>6</td>\n",
       "      <td>1607</td>\n",
       "      <td>7</td>\n",
       "    </tr>\n",
       "    <tr>\n",
       "      <th>782</th>\n",
       "      <td>6</td>\n",
       "      <td>1554</td>\n",
       "      <td>6</td>\n",
       "    </tr>\n",
       "    <tr>\n",
       "      <th>666</th>\n",
       "      <td>6</td>\n",
       "      <td>1525</td>\n",
       "      <td>6</td>\n",
       "    </tr>\n",
       "    <tr>\n",
       "      <th>913</th>\n",
       "      <td>6</td>\n",
       "      <td>1496</td>\n",
       "      <td>5</td>\n",
       "    </tr>\n",
       "    <tr>\n",
       "      <th>849</th>\n",
       "      <td>6</td>\n",
       "      <td>1379</td>\n",
       "      <td>9</td>\n",
       "    </tr>\n",
       "    <tr>\n",
       "      <th>694</th>\n",
       "      <td>6</td>\n",
       "      <td>1117</td>\n",
       "      <td>6</td>\n",
       "    </tr>\n",
       "    <tr>\n",
       "      <th>928</th>\n",
       "      <td>6</td>\n",
       "      <td>908</td>\n",
       "      <td>6</td>\n",
       "    </tr>\n",
       "    <tr>\n",
       "      <th>947</th>\n",
       "      <td>6</td>\n",
       "      <td>874</td>\n",
       "      <td>6</td>\n",
       "    </tr>\n",
       "    <tr>\n",
       "      <th>741</th>\n",
       "      <td>6</td>\n",
       "      <td>849</td>\n",
       "      <td>10</td>\n",
       "    </tr>\n",
       "    <tr>\n",
       "      <th>972</th>\n",
       "      <td>6</td>\n",
       "      <td>689</td>\n",
       "      <td>8</td>\n",
       "    </tr>\n",
       "    <tr>\n",
       "      <th>735</th>\n",
       "      <td>6</td>\n",
       "      <td>659</td>\n",
       "      <td>8</td>\n",
       "    </tr>\n",
       "    <tr>\n",
       "      <th>720</th>\n",
       "      <td>6</td>\n",
       "      <td>597</td>\n",
       "      <td>8</td>\n",
       "    </tr>\n",
       "    <tr>\n",
       "      <th>755</th>\n",
       "      <td>6</td>\n",
       "      <td>523</td>\n",
       "      <td>7</td>\n",
       "    </tr>\n",
       "    <tr>\n",
       "      <th>935</th>\n",
       "      <td>6</td>\n",
       "      <td>514</td>\n",
       "      <td>6</td>\n",
       "    </tr>\n",
       "    <tr>\n",
       "      <th>925</th>\n",
       "      <td>6</td>\n",
       "      <td>121</td>\n",
       "      <td>10</td>\n",
       "    </tr>\n",
       "    <tr>\n",
       "      <th>798</th>\n",
       "      <td>6</td>\n",
       "      <td>65</td>\n",
       "      <td>7</td>\n",
       "    </tr>\n",
       "  </tbody>\n",
       "</table>\n",
       "</div>"
      ],
      "text/plain": [
       "     user_id  MAL_ID  rating\n",
       "739        6   13675       5\n",
       "912        6   11691       7\n",
       "759        6   11099       8\n",
       "681        6   11073       6\n",
       "766        6   10622       8\n",
       "825        6   10497       9\n",
       "677        6   10161       8\n",
       "773        6   10067       8\n",
       "785        6    9846       7\n",
       "703        6    9756      10\n",
       "865        6    9041       4\n",
       "790        6    8800       8\n",
       "886        6    8628       8\n",
       "838        6    7337       8\n",
       "875        6    7054       8\n",
       "832        6    7024       4\n",
       "809        6    6984       8\n",
       "791        6    6973       8\n",
       "692        6    6953       1\n",
       "750        6    6607       3\n",
       "817        6    6064       5\n",
       "685        6    5529       6\n",
       "934        6    5163       8\n",
       "828        6    5041       7\n",
       "683        6    4795       6\n",
       "957        6    4548       7\n",
       "910        6    4177       9\n",
       "933        6    4158       7\n",
       "899        6    3901       9\n",
       "819        6    3652       9\n",
       "676        6    3358       9\n",
       "871        6    3092      10\n",
       "915        6    2904       8\n",
       "726        6    2897       6\n",
       "954        6    2404       7\n",
       "689        6    2201       5\n",
       "670        6    1943      10\n",
       "893        6    1890       6\n",
       "686        6    1709       6\n",
       "903        6    1686       7\n",
       "974        6    1607       7\n",
       "782        6    1554       6\n",
       "666        6    1525       6\n",
       "913        6    1496       5\n",
       "849        6    1379       9\n",
       "694        6    1117       6\n",
       "928        6     908       6\n",
       "947        6     874       6\n",
       "741        6     849      10\n",
       "972        6     689       8\n",
       "735        6     659       8\n",
       "720        6     597       8\n",
       "755        6     523       7\n",
       "935        6     514       6\n",
       "925        6     121      10\n",
       "798        6      65       7"
      ]
     },
     "execution_count": 78,
     "metadata": {},
     "output_type": "execute_result"
    }
   ],
   "source": [
    "# Here is the problem, none of top_k animes are in the test_data\n",
    "# So it doesn't work to calculate MAE by comparing train and test data\n",
    "test_data.loc[test_data['user_id']==6].sort_values(by='MAL_ID', ascending=False)"
   ]
  },
  {
   "attachments": {},
   "cell_type": "markdown",
   "metadata": {},
   "source": [
    "#### MAP"
   ]
  },
  {
   "cell_type": "code",
   "execution_count": 11,
   "metadata": {},
   "outputs": [],
   "source": [
    "def calculate_MAP_k(user_id, k=10):\n",
    "    # Get the items in the test set for the user\n",
    "    test_items = test_data.loc[user_id].dropna().index\n",
    "    \n",
    "    # Get the top-k recommended items\n",
    "    top_k_items = get_top_k_recommendations(user_id, k)\n",
    "    \n",
    "    # Get the indices of the recommended items that are in the test set\n",
    "    relevant_items = np.intersect1d(top_k_items, test_items, assume_unique=True)\n",
    "    \n",
    "    # Calculate the precision at k\n",
    "    precision_at_k = len(relevant_items) / k\n",
    "    \n",
    "    return precision_at_k"
   ]
  }
 ],
 "metadata": {
  "kernelspec": {
   "display_name": "anime-recommender",
   "language": "python",
   "name": "python3"
  },
  "language_info": {
   "codemirror_mode": {
    "name": "ipython",
    "version": 3
   },
   "file_extension": ".py",
   "mimetype": "text/x-python",
   "name": "python",
   "nbconvert_exporter": "python",
   "pygments_lexer": "ipython3",
   "version": "3.9.16"
  },
  "orig_nbformat": 4,
  "vscode": {
   "interpreter": {
    "hash": "d623ae1c9106bea637f1792f9ea7789d702066acaa781827d1f869a465de6a90"
   }
  }
 },
 "nbformat": 4,
 "nbformat_minor": 2
}
