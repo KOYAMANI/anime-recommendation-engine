{
 "cells": [
  {
   "cell_type": "code",
   "execution_count": 1,
   "metadata": {},
   "outputs": [],
   "source": [
    "import pandas as pd\n",
    "import numpy as np\n",
    "import warnings\n",
    "warnings.filterwarnings('ignore')\n",
    "%matplotlib inline"
   ]
  },
  {
   "cell_type": "code",
   "execution_count": null,
   "metadata": {},
   "outputs": [],
   "source": [
    "# from scipy.sparse import csr_matrix\n",
    "# #Creating a sparse matrix\n",
    "# anime_pivot=pd.read_csv('csv/2020/anime_2020_pivot.csv')\n",
    "# anime_user_matrix = csr_matrix(anime_pivot.values)"
   ]
  },
  {
   "cell_type": "code",
   "execution_count": 2,
   "metadata": {},
   "outputs": [],
   "source": [
    "anime_data_cleaned = pd.read_csv('csv/2020/anime_2020_cleaned.csv')\n",
    "rating_data = pd.read_csv('csv/2020/rating_2020.csv')"
   ]
  },
  {
   "cell_type": "code",
   "execution_count": 7,
   "metadata": {},
   "outputs": [],
   "source": [
    "anime_name = pd.read_csv('csv/2020/anime_2020_name.csv')"
   ]
  },
  {
   "cell_type": "code",
   "execution_count": 3,
   "metadata": {},
   "outputs": [],
   "source": [
    "counts = rating_data['user_id'].value_counts()\n",
    "rating_data = rating_data[rating_data['user_id'].isin(counts[counts >= 200].index)]\n",
    "rating_data.rename(columns={'anime_id':'MAL_ID'}, inplace=True)"
   ]
  },
  {
   "cell_type": "code",
   "execution_count": 4,
   "metadata": {},
   "outputs": [],
   "source": [
    "anime_rating_data = anime_data_cleaned.merge(rating_data, on='MAL_ID', how='inner')\n",
    "anime_ratings = anime_rating_data[['user_id', 'MAL_ID', 'rating']]"
   ]
  },
  {
   "attachments": {},
   "cell_type": "markdown",
   "metadata": {},
   "source": [
    "## Uesr-based collaborative filtering"
   ]
  },
  {
   "cell_type": "code",
   "execution_count": 5,
   "metadata": {},
   "outputs": [],
   "source": [
    "from sklearn.model_selection import train_test_split\n",
    "\n",
    "# Split the data into training and testing sets based on the users\n",
    "train_data, test_data = train_test_split(rating_data, test_size=0.2, random_state=42)"
   ]
  },
  {
   "cell_type": "code",
   "execution_count": 20,
   "metadata": {},
   "outputs": [],
   "source": [
    "from scipy.sparse import csr_matrix\n",
    "anime_user_matrix = train_data.pivot_table(index='MAL_ID', columns='user_id', values='rating').fillna(0)\n",
    "train_data_sparse = csr_matrix(anime_user_matrix.fillna(0).values)"
   ]
  },
  {
   "cell_type": "code",
   "execution_count": 26,
   "metadata": {},
   "outputs": [],
   "source": [
    "from sklearn.cluster import KMeans\n",
    "\n",
    "# Cluster the users based on the sparse matrix\n",
    "kmeans = KMeans(n_clusters=10, random_state=42).fit(train_data_sparse)\n",
    "\n",
    "# Add the cluster labels to the user-item matrix\n",
    "anime_user_matrix['cluster'] = kmeans.labels_"
   ]
  },
  {
   "cell_type": "code",
   "execution_count": 40,
   "metadata": {},
   "outputs": [],
   "source": [
    "from sklearn.metrics.pairwise import cosine_similarity\n",
    "def predict_ratings_item_based(name):\n",
    "    anime_id = anime_name[anime_name['Name'] == name]['MAL_ID'].values[0]\n",
    "\n",
    "    # Get the user_ids that the anime has actually been rated\n",
    "    user_ids = test_data.loc[test_data['MAL_ID'] == anime_id]['user_id'].values\n",
    "\n",
    "    # Get the cluster of the anime (e.g., 5)\n",
    "    anime_cluster = anime_user_matrix['cluster'].loc[anime_user_matrix['cluster'].index == anime_id].values[0]\n",
    "    \n",
    "    # Get the users in the same cluster (e.g., [1, 2, 3, 4, 5, 6, 7, 8, 9, 10])\n",
    "    animes_in_cluster = anime_user_matrix[anime_user_matrix['cluster'] == anime_cluster].index\n",
    "    \n",
    "    # Get the ratings of the animes in the same cluster\n",
    "    ratings_of_animes_in_cluster = train_data_sparse[anime_user_matrix.index.isin(animes_in_cluster)]\n",
    "    \n",
    "    row_index = anime_user_matrix.index.get_loc(anime_id)\n",
    "\n",
    "    # Calculate the similarity between the user and the animes in the same cluster\n",
    "    similarity = cosine_similarity(train_data_sparse[row_index], ratings_of_animes_in_cluster)\n",
    "\n",
    "    # Get the ratings for the specified user_ids that exist in train_data_sparse\n",
    "    # It is actually searching it from anime_user_matrix but its fine because train_data_sparse is a csr_matrix made from anime_user_matrix\n",
    "    common_user_ids = set(user_ids).intersection(set(anime_user_matrix.index.values))\n",
    "    common_user_ids = np.array(sorted(list(common_user_ids)))\n",
    "    \n",
    "    common_user_ids_idx  = [anime_user_matrix.columns.get_loc(user_id) for user_id in common_user_ids]\n",
    "    \n",
    "    # Use this in case if you want to get all the user_ids from train_data_sparse\n",
    "    user_ids_idx  = [anime_user_matrix.columns.get_loc(user_id) for user_id in user_ids]\n",
    "\n",
    "    # get index of users_in_cluster, common_user_ids\n",
    "    animes_in_cluster_idx = [anime_user_matrix.index.get_loc(anime_id) for anime_id in animes_in_cluster]\n",
    "\n",
    "    # Get the ratings for the specified user_ids\n",
    "    user_ratings = np.asarray(train_data_sparse[animes_in_cluster_idx, :][:, user_ids_idx].todense())\n",
    "\n",
    "    # Get the top-k similar animes\n",
    "    top_similar_animes = np.argsort(similarity)[0][-1]\n",
    "    \n",
    "    # Calculate the predicted ratings for the specified user_ids\n",
    "    predicted_ratings = user_ratings.dot(similarity[0][top_similar_animes]) / np.sum(np.abs(similarity[0][top_similar_animes]))\n",
    "    \n",
    "    return predicted_ratings[0]\n"
   ]
  },
  {
   "cell_type": "code",
   "execution_count": 44,
   "metadata": {},
   "outputs": [
    {
     "data": {
      "text/plain": [
       "(array([0., 0., 0., ..., 0., 0., 0.]), (11197,))"
      ]
     },
     "execution_count": 44,
     "metadata": {},
     "output_type": "execute_result"
    }
   ],
   "source": [
    "predicted_ratings = predict_ratings_item_based('Naruto')\n",
    "predicted_ratings, predicted_ratings.shape"
   ]
  },
  {
   "cell_type": "code",
   "execution_count": 32,
   "metadata": {},
   "outputs": [
    {
     "data": {
      "text/plain": [
       "(array([10,  7,  6, ...,  9,  9,  9]), (11197,))"
      ]
     },
     "execution_count": 32,
     "metadata": {},
     "output_type": "execute_result"
    }
   ],
   "source": [
    "id = anime_name[anime_name['Name'] == 'Naruto']['MAL_ID'].values[0]\n",
    "actual_ratings = test_data.loc[test_data['MAL_ID']==id]['rating'].values\n",
    "actual_ratings, actual_ratings.shape"
   ]
  },
  {
   "cell_type": "code",
   "execution_count": 42,
   "metadata": {},
   "outputs": [],
   "source": [
    "def calculate_mae(predicted_ratings, actual_ratings):\n",
    "    return np.mean(np.abs(predicted_ratings - actual_ratings))"
   ]
  },
  {
   "cell_type": "code",
   "execution_count": 43,
   "metadata": {},
   "outputs": [
    {
     "data": {
      "text/plain": [
       "7.611592390818969"
      ]
     },
     "execution_count": 43,
     "metadata": {},
     "output_type": "execute_result"
    }
   ],
   "source": [
    "calculate_mae(predicted_ratings, actual_ratings)"
   ]
  },
  {
   "attachments": {},
   "cell_type": "markdown",
   "metadata": {},
   "source": [
    "## Calculate similarity between all animes"
   ]
  },
  {
   "cell_type": "code",
   "execution_count": 45,
   "metadata": {},
   "outputs": [],
   "source": [
    "from sklearn.metrics.pairwise import cosine_similarity\n",
    "\n",
    "# Calculate the cosine similarity between items\n",
    "anime_similarity = cosine_similarity(anime_user_matrix)"
   ]
  },
  {
   "cell_type": "code",
   "execution_count": null,
   "metadata": {},
   "outputs": [],
   "source": [
    "# Generate recommendations using the similarity scores\n",
    "norm = np.abs(anime_similarity).sum(axis=1)\n",
    "predicted_anime_ratings = anime_similarity.dot(anime_user_matrix.values) / norm[:, np.newaaxis]"
   ]
  },
  {
   "cell_type": "code",
   "execution_count": 15,
   "metadata": {},
   "outputs": [
    {
     "data": {
      "text/plain": [
       "20"
      ]
     },
     "execution_count": 15,
     "metadata": {},
     "output_type": "execute_result"
    }
   ],
   "source": [
    "name = 'Naruto'\n",
    "# get MAL_ID\n",
    "anime_name[anime_name['Name'] == name]['MAL_ID'].values[0]"
   ]
  },
  {
   "cell_type": "code",
   "execution_count": 18,
   "metadata": {},
   "outputs": [
    {
     "data": {
      "text/html": [
       "<div>\n",
       "<style scoped>\n",
       "    .dataframe tbody tr th:only-of-type {\n",
       "        vertical-align: middle;\n",
       "    }\n",
       "\n",
       "    .dataframe tbody tr th {\n",
       "        vertical-align: top;\n",
       "    }\n",
       "\n",
       "    .dataframe thead th {\n",
       "        text-align: right;\n",
       "    }\n",
       "</style>\n",
       "<table border=\"1\" class=\"dataframe\">\n",
       "  <thead>\n",
       "    <tr style=\"text-align: right;\">\n",
       "      <th></th>\n",
       "      <th>user_id</th>\n",
       "      <th>MAL_ID</th>\n",
       "      <th>rating</th>\n",
       "    </tr>\n",
       "  </thead>\n",
       "  <tbody>\n",
       "    <tr>\n",
       "      <th>30537002</th>\n",
       "      <td>187850</td>\n",
       "      <td>20</td>\n",
       "      <td>7</td>\n",
       "    </tr>\n",
       "    <tr>\n",
       "      <th>12200520</th>\n",
       "      <td>74712</td>\n",
       "      <td>20</td>\n",
       "      <td>3</td>\n",
       "    </tr>\n",
       "    <tr>\n",
       "      <th>45917065</th>\n",
       "      <td>281746</td>\n",
       "      <td>20</td>\n",
       "      <td>9</td>\n",
       "    </tr>\n",
       "    <tr>\n",
       "      <th>12703863</th>\n",
       "      <td>77893</td>\n",
       "      <td>20</td>\n",
       "      <td>8</td>\n",
       "    </tr>\n",
       "    <tr>\n",
       "      <th>23094810</th>\n",
       "      <td>141908</td>\n",
       "      <td>20</td>\n",
       "      <td>8</td>\n",
       "    </tr>\n",
       "    <tr>\n",
       "      <th>...</th>\n",
       "      <td>...</td>\n",
       "      <td>...</td>\n",
       "      <td>...</td>\n",
       "    </tr>\n",
       "    <tr>\n",
       "      <th>10465284</th>\n",
       "      <td>64078</td>\n",
       "      <td>20</td>\n",
       "      <td>10</td>\n",
       "    </tr>\n",
       "    <tr>\n",
       "      <th>7597911</th>\n",
       "      <td>46581</td>\n",
       "      <td>20</td>\n",
       "      <td>7</td>\n",
       "    </tr>\n",
       "    <tr>\n",
       "      <th>6039979</th>\n",
       "      <td>37088</td>\n",
       "      <td>20</td>\n",
       "      <td>7</td>\n",
       "    </tr>\n",
       "    <tr>\n",
       "      <th>52115670</th>\n",
       "      <td>319617</td>\n",
       "      <td>20</td>\n",
       "      <td>8</td>\n",
       "    </tr>\n",
       "    <tr>\n",
       "      <th>30707567</th>\n",
       "      <td>188856</td>\n",
       "      <td>20</td>\n",
       "      <td>6</td>\n",
       "    </tr>\n",
       "  </tbody>\n",
       "</table>\n",
       "<p>44057 rows × 3 columns</p>\n",
       "</div>"
      ],
      "text/plain": [
       "          user_id  MAL_ID  rating\n",
       "30537002   187850      20       7\n",
       "12200520    74712      20       3\n",
       "45917065   281746      20       9\n",
       "12703863    77893      20       8\n",
       "23094810   141908      20       8\n",
       "...           ...     ...     ...\n",
       "10465284    64078      20      10\n",
       "7597911     46581      20       7\n",
       "6039979     37088      20       7\n",
       "52115670   319617      20       8\n",
       "30707567   188856      20       6\n",
       "\n",
       "[44057 rows x 3 columns]"
      ]
     },
     "execution_count": 18,
     "metadata": {},
     "output_type": "execute_result"
    }
   ],
   "source": [
    "train_data.loc[train_data['MAL_ID'] == 20]"
   ]
  },
  {
   "cell_type": "code",
   "execution_count": 21,
   "metadata": {},
   "outputs": [],
   "source": [
    "row_index = anime_user_matrix.index.get_loc(20)"
   ]
  },
  {
   "cell_type": "code",
   "execution_count": null,
   "metadata": {},
   "outputs": [],
   "source": [
    "# Write a function to find top k similar anime from anime_pivot\n",
    "def recommend_item_base(anime_name, k=10):\n",
    "    anime_index = anime_user_matrix.index.get_loc(anime_name)\n",
    "    anime_indices = np.argsort(anime_similarity[anime_index])[-k:][::-1]\n",
    "    similar_anime_ids = anime_user_matrix.index[anime_indices]\n",
    "    return similar_anime_ids"
   ]
  },
  {
   "cell_type": "code",
   "execution_count": null,
   "metadata": {},
   "outputs": [],
   "source": [
    "recommend_item_base('Naruto')"
   ]
  }
 ],
 "metadata": {
  "kernelspec": {
   "display_name": "anime-recommender",
   "language": "python",
   "name": "python3"
  },
  "language_info": {
   "codemirror_mode": {
    "name": "ipython",
    "version": 3
   },
   "file_extension": ".py",
   "mimetype": "text/x-python",
   "name": "python",
   "nbconvert_exporter": "python",
   "pygments_lexer": "ipython3",
   "version": "3.9.16"
  },
  "orig_nbformat": 4
 },
 "nbformat": 4,
 "nbformat_minor": 2
}
