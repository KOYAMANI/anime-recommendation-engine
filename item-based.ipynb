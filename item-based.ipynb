{
 "cells": [
  {
   "cell_type": "code",
   "execution_count": null,
   "metadata": {},
   "outputs": [],
   "source": [
    "import pandas as pd\n",
    "import numpy as np\n",
    "import warnings\n",
    "warnings.filterwarnings('ignore')\n",
    "%matplotlib inline"
   ]
  },
  {
   "cell_type": "code",
   "execution_count": null,
   "metadata": {},
   "outputs": [],
   "source": [
    "anime_pivot = pd.read_csv('csv/2020/anime_pibot_2020.csv')"
   ]
  },
  {
   "cell_type": "code",
   "execution_count": null,
   "metadata": {},
   "outputs": [],
   "source": [
    "from scipy.sparse import csr_matrix\n",
    "#Creating a sparse matrix\n",
    "anime_user_matrix = csr_matrix(anime_pivot.values)"
   ]
  },
  {
   "cell_type": "code",
   "execution_count": null,
   "metadata": {},
   "outputs": [],
   "source": [
    "from sklearn.metrics.pairwise import cosine_similarity\n",
    "\n",
    "# Calculate the cosine similarity between users\n",
    "anime_similarity = cosine_similarity(anime_user_matrix)"
   ]
  },
  {
   "cell_type": "code",
   "execution_count": null,
   "metadata": {},
   "outputs": [],
   "source": [
    "# Generate recommendations using the similarity scores\n",
    "norm = np.abs(anime_similarity).sum(axis=1)\n",
    "predicted_anime_ratings = anime_similarity.dot(anime_pivot.values) / norm[:, np.newaxis]"
   ]
  },
  {
   "cell_type": "code",
   "execution_count": null,
   "metadata": {},
   "outputs": [],
   "source": [
    "# Write a function to find top k similar anime from anime_pivot\n",
    "def recommend_item_base(anime_name, k=10):\n",
    "    anime_index = anime_pivot.index.get_loc(anime_name)\n",
    "    anime_indices = np.argsort(anime_similarity[anime_index])[-k:][::-1]\n",
    "    similar_anime_ids = anime_pivot.index[anime_indices]\n",
    "    return similar_anime_ids"
   ]
  },
  {
   "cell_type": "code",
   "execution_count": null,
   "metadata": {},
   "outputs": [],
   "source": [
    "recommend_item_base('Naruto')"
   ]
  }
 ],
 "metadata": {
  "language_info": {
   "name": "python"
  },
  "orig_nbformat": 4
 },
 "nbformat": 4,
 "nbformat_minor": 2
}
