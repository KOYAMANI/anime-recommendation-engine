{
 "cells": [
  {
   "attachments": {},
   "cell_type": "markdown",
   "metadata": {},
   "source": [
    "### anime.csv\n",
    "- `MAL_ID` - MyAnimelist ID of the anime. (e.g. 1)\n",
    "- `Name` - full name of the anime. (e.g. Cowboy Bebop)\n",
    "- `Score` - average score of the anime given from all users in MyAnimelist database. (e.g. 8.78)\n",
    "- `Genres` - comma separated list of genres for this anime. (e.g. Action, Adventure, Comedy, Drama, Sci-Fi, Space)\n",
    "- `English name` - full name in english of the anime. (e.g. Cowboy Bebop)\n",
    "- `Japanese name` - full name in japanses of the anime. (e.g. カウボーイビバップ)\n",
    "- `Type` - TV, movie, OVA, etc. (e.g. TV)\n",
    "- `Episodes` - number of chapters. (e.g. 26)\n",
    "- `Aired` - broadcast date. (e.g. Apr 3, 1998 to Apr 24, 1999)\n",
    "- `Premiered` - season premiere. (e.g. Spring 1998)\n",
    "- `Producers` - comma separated list of produducers (e.g. Bandai Visual)\n",
    "- `Licensors` - comma separated list of licensors (e.g. Funimation, Bandai Entertainment)\n",
    "- `Studios` - comma separated list of studios (e.g. Sunrise)\n",
    "- `Source` - Manga, Light novel, Book, etc. (e.g Original)\n",
    "- `Duration` - duration of the anime per episode (e.g 24 min. per ep.)\n",
    "- `Rating` - age rate (e.g. R - 17+ (violence & profanity))\n",
    "- `Ranked` - position based in the score. (e.g 28)\n",
    "- `Popularity` - position based in the the number of users who have added the anime to their list. (e.g 39)\n",
    "- `Members` - number of community members that are in this anime's \"group\". (e.g. 1251960)\n",
    "- `Favorites` - number of users who have the anime as \"favorites\". (e.g. 61,971)\n",
    "- `Watching` - number of users who are watching the anime. (e.g. 105808)\n",
    "- `Completed` - number of users who have complete the anime. (e.g. 718161)\n",
    "- `On-Hold` - number of users who have the anime on Hold. (e.g. 71513)\n",
    "- `Dropped` - number of users who have dropped the anime. (e.g. 26678)\n",
    "- `Plan to Watch` - number of users who plan to watch the anime. (e.g. 329800)\n",
    "- `Score-X`   - number of users who scored X(0 to 10). (e.g. 229170)"
   ]
  },
  {
   "attachments": {},
   "cell_type": "markdown",
   "metadata": {},
   "source": [
    "### anime.csv\n",
    "- `user_id` - non identifiable randomly generated user id.\n",
    "- `anime_id` - MyAnimelist ID of the anime that this user has rated.\n",
    "- `rating` - rating that this user has assigned."
   ]
  },
  {
   "attachments": {},
   "cell_type": "markdown",
   "metadata": {},
   "source": [
    "## Data Exploration"
   ]
  },
  {
   "cell_type": "code",
   "execution_count": 1,
   "metadata": {},
   "outputs": [],
   "source": [
    "## import csv\n",
    "import csv\n",
    "import pandas as pd\n",
    "import numpy as np\n",
    "import matplotlib.pyplot as plt\n",
    "import seaborn as sns\n",
    "import warnings\n",
    "warnings.filterwarnings('ignore')\n",
    "%matplotlib inline"
   ]
  },
  {
   "cell_type": "code",
   "execution_count": 2,
   "metadata": {},
   "outputs": [],
   "source": [
    "#reading csv files\n",
    "anime_data=pd.read_csv('./csv/2020/anime_2020.csv')\n",
    "rating_data=pd.read_csv('./csv/2020/rating_2020.csv')"
   ]
  },
  {
   "attachments": {},
   "cell_type": "markdown",
   "metadata": {},
   "source": [
    "### anime_data"
   ]
  },
  {
   "cell_type": "code",
   "execution_count": 3,
   "metadata": {},
   "outputs": [],
   "source": [
    "# Drop if the Type is not TV\n",
    "anime_data=anime_data[anime_data['Type']=='TV']"
   ]
  },
  {
   "cell_type": "code",
   "execution_count": 4,
   "metadata": {},
   "outputs": [
    {
     "data": {
      "text/plain": [
       "(4996, 35)"
      ]
     },
     "execution_count": 4,
     "metadata": {},
     "output_type": "execute_result"
    }
   ],
   "source": [
    "anime_data.shape"
   ]
  },
  {
   "cell_type": "code",
   "execution_count": 4,
   "metadata": {},
   "outputs": [
    {
     "data": {
      "text/html": [
       "<div>\n",
       "<style scoped>\n",
       "    .dataframe tbody tr th:only-of-type {\n",
       "        vertical-align: middle;\n",
       "    }\n",
       "\n",
       "    .dataframe tbody tr th {\n",
       "        vertical-align: top;\n",
       "    }\n",
       "\n",
       "    .dataframe thead th {\n",
       "        text-align: right;\n",
       "    }\n",
       "</style>\n",
       "<table border=\"1\" class=\"dataframe\">\n",
       "  <thead>\n",
       "    <tr style=\"text-align: right;\">\n",
       "      <th></th>\n",
       "      <th>MAL_ID</th>\n",
       "      <th>Name</th>\n",
       "      <th>Score</th>\n",
       "      <th>Genres</th>\n",
       "      <th>English name</th>\n",
       "      <th>Japanese name</th>\n",
       "      <th>Type</th>\n",
       "      <th>Episodes</th>\n",
       "      <th>Aired</th>\n",
       "      <th>Premiered</th>\n",
       "      <th>...</th>\n",
       "      <th>Score-10</th>\n",
       "      <th>Score-9</th>\n",
       "      <th>Score-8</th>\n",
       "      <th>Score-7</th>\n",
       "      <th>Score-6</th>\n",
       "      <th>Score-5</th>\n",
       "      <th>Score-4</th>\n",
       "      <th>Score-3</th>\n",
       "      <th>Score-2</th>\n",
       "      <th>Score-1</th>\n",
       "    </tr>\n",
       "  </thead>\n",
       "  <tbody>\n",
       "    <tr>\n",
       "      <th>0</th>\n",
       "      <td>1</td>\n",
       "      <td>Cowboy Bebop</td>\n",
       "      <td>8.78</td>\n",
       "      <td>Action, Adventure, Comedy, Drama, Sci-Fi, Space</td>\n",
       "      <td>Cowboy Bebop</td>\n",
       "      <td>カウボーイビバップ</td>\n",
       "      <td>TV</td>\n",
       "      <td>26</td>\n",
       "      <td>Apr 3, 1998 to Apr 24, 1999</td>\n",
       "      <td>Spring 1998</td>\n",
       "      <td>...</td>\n",
       "      <td>229170.0</td>\n",
       "      <td>182126.0</td>\n",
       "      <td>131625.0</td>\n",
       "      <td>62330.0</td>\n",
       "      <td>20688.0</td>\n",
       "      <td>8904.0</td>\n",
       "      <td>3184.0</td>\n",
       "      <td>1357.0</td>\n",
       "      <td>741.0</td>\n",
       "      <td>1580.0</td>\n",
       "    </tr>\n",
       "    <tr>\n",
       "      <th>2</th>\n",
       "      <td>6</td>\n",
       "      <td>Trigun</td>\n",
       "      <td>8.24</td>\n",
       "      <td>Action, Sci-Fi, Adventure, Comedy, Drama, Shounen</td>\n",
       "      <td>Trigun</td>\n",
       "      <td>トライガン</td>\n",
       "      <td>TV</td>\n",
       "      <td>26</td>\n",
       "      <td>Apr 1, 1998 to Sep 30, 1998</td>\n",
       "      <td>Spring 1998</td>\n",
       "      <td>...</td>\n",
       "      <td>50229.0</td>\n",
       "      <td>75651.0</td>\n",
       "      <td>86142.0</td>\n",
       "      <td>49432.0</td>\n",
       "      <td>15376.0</td>\n",
       "      <td>5838.0</td>\n",
       "      <td>1965.0</td>\n",
       "      <td>664.0</td>\n",
       "      <td>316.0</td>\n",
       "      <td>533.0</td>\n",
       "    </tr>\n",
       "    <tr>\n",
       "      <th>3</th>\n",
       "      <td>7</td>\n",
       "      <td>Witch Hunter Robin</td>\n",
       "      <td>7.27</td>\n",
       "      <td>Action, Mystery, Police, Supernatural, Drama, ...</td>\n",
       "      <td>Witch Hunter Robin</td>\n",
       "      <td>Witch Hunter ROBIN (ウイッチハンターロビン)</td>\n",
       "      <td>TV</td>\n",
       "      <td>26</td>\n",
       "      <td>Jul 2, 2002 to Dec 24, 2002</td>\n",
       "      <td>Summer 2002</td>\n",
       "      <td>...</td>\n",
       "      <td>2182.0</td>\n",
       "      <td>4806.0</td>\n",
       "      <td>10128.0</td>\n",
       "      <td>11618.0</td>\n",
       "      <td>5709.0</td>\n",
       "      <td>2920.0</td>\n",
       "      <td>1083.0</td>\n",
       "      <td>353.0</td>\n",
       "      <td>164.0</td>\n",
       "      <td>131.0</td>\n",
       "    </tr>\n",
       "    <tr>\n",
       "      <th>4</th>\n",
       "      <td>8</td>\n",
       "      <td>Bouken Ou Beet</td>\n",
       "      <td>6.98</td>\n",
       "      <td>Adventure, Fantasy, Shounen, Supernatural</td>\n",
       "      <td>Beet the Vandel Buster</td>\n",
       "      <td>冒険王ビィト</td>\n",
       "      <td>TV</td>\n",
       "      <td>52</td>\n",
       "      <td>Sep 30, 2004 to Sep 29, 2005</td>\n",
       "      <td>Fall 2004</td>\n",
       "      <td>...</td>\n",
       "      <td>312.0</td>\n",
       "      <td>529.0</td>\n",
       "      <td>1242.0</td>\n",
       "      <td>1713.0</td>\n",
       "      <td>1068.0</td>\n",
       "      <td>634.0</td>\n",
       "      <td>265.0</td>\n",
       "      <td>83.0</td>\n",
       "      <td>50.0</td>\n",
       "      <td>27.0</td>\n",
       "    </tr>\n",
       "    <tr>\n",
       "      <th>5</th>\n",
       "      <td>15</td>\n",
       "      <td>Eyeshield 21</td>\n",
       "      <td>7.95</td>\n",
       "      <td>Action, Sports, Comedy, Shounen</td>\n",
       "      <td>Unknown</td>\n",
       "      <td>アイシールド21</td>\n",
       "      <td>TV</td>\n",
       "      <td>145</td>\n",
       "      <td>Apr 6, 2005 to Mar 19, 2008</td>\n",
       "      <td>Spring 2005</td>\n",
       "      <td>...</td>\n",
       "      <td>9226.0</td>\n",
       "      <td>14904.0</td>\n",
       "      <td>22811.0</td>\n",
       "      <td>16734.0</td>\n",
       "      <td>6206.0</td>\n",
       "      <td>2621.0</td>\n",
       "      <td>795.0</td>\n",
       "      <td>336.0</td>\n",
       "      <td>140.0</td>\n",
       "      <td>151.0</td>\n",
       "    </tr>\n",
       "  </tbody>\n",
       "</table>\n",
       "<p>5 rows × 35 columns</p>\n",
       "</div>"
      ],
      "text/plain": [
       "   MAL_ID                Name Score  \\\n",
       "0       1        Cowboy Bebop  8.78   \n",
       "2       6              Trigun  8.24   \n",
       "3       7  Witch Hunter Robin  7.27   \n",
       "4       8      Bouken Ou Beet  6.98   \n",
       "5      15        Eyeshield 21  7.95   \n",
       "\n",
       "                                              Genres            English name  \\\n",
       "0    Action, Adventure, Comedy, Drama, Sci-Fi, Space            Cowboy Bebop   \n",
       "2  Action, Sci-Fi, Adventure, Comedy, Drama, Shounen                  Trigun   \n",
       "3  Action, Mystery, Police, Supernatural, Drama, ...      Witch Hunter Robin   \n",
       "4          Adventure, Fantasy, Shounen, Supernatural  Beet the Vandel Buster   \n",
       "5                    Action, Sports, Comedy, Shounen                 Unknown   \n",
       "\n",
       "                      Japanese name Type Episodes  \\\n",
       "0                         カウボーイビバップ   TV       26   \n",
       "2                             トライガン   TV       26   \n",
       "3  Witch Hunter ROBIN (ウイッチハンターロビン)   TV       26   \n",
       "4                            冒険王ビィト   TV       52   \n",
       "5                          アイシールド21   TV      145   \n",
       "\n",
       "                          Aired    Premiered  ...  Score-10   Score-9  \\\n",
       "0   Apr 3, 1998 to Apr 24, 1999  Spring 1998  ...  229170.0  182126.0   \n",
       "2   Apr 1, 1998 to Sep 30, 1998  Spring 1998  ...   50229.0   75651.0   \n",
       "3   Jul 2, 2002 to Dec 24, 2002  Summer 2002  ...    2182.0    4806.0   \n",
       "4  Sep 30, 2004 to Sep 29, 2005    Fall 2004  ...     312.0     529.0   \n",
       "5   Apr 6, 2005 to Mar 19, 2008  Spring 2005  ...    9226.0   14904.0   \n",
       "\n",
       "    Score-8  Score-7  Score-6 Score-5 Score-4  Score-3  Score-2  Score-1  \n",
       "0  131625.0  62330.0  20688.0  8904.0  3184.0   1357.0    741.0   1580.0  \n",
       "2   86142.0  49432.0  15376.0  5838.0  1965.0    664.0    316.0    533.0  \n",
       "3   10128.0  11618.0   5709.0  2920.0  1083.0    353.0    164.0    131.0  \n",
       "4    1242.0   1713.0   1068.0   634.0   265.0     83.0     50.0     27.0  \n",
       "5   22811.0  16734.0   6206.0  2621.0   795.0    336.0    140.0    151.0  \n",
       "\n",
       "[5 rows x 35 columns]"
      ]
     },
     "execution_count": 4,
     "metadata": {},
     "output_type": "execute_result"
    }
   ],
   "source": [
    "anime_data.head(5)"
   ]
  },
  {
   "cell_type": "code",
   "execution_count": 7,
   "metadata": {},
   "outputs": [
    {
     "name": "stdout",
     "output_type": "stream",
     "text": [
      "Index(['MAL_ID', 'Name', 'Score', 'Genres', 'English name', 'Japanese name',\n",
      "       'Type', 'Episodes', 'Aired', 'Premiered', 'Producers', 'Licensors',\n",
      "       'Studios', 'Source', 'Duration', 'Rating', 'Ranked', 'Popularity',\n",
      "       'Members', 'Favorites', 'Watching', 'Completed', 'On-Hold', 'Dropped',\n",
      "       'Plan to Watch', 'Score-10', 'Score-9', 'Score-8', 'Score-7', 'Score-6',\n",
      "       'Score-5', 'Score-4', 'Score-3', 'Score-2', 'Score-1'],\n",
      "      dtype='object')\n"
     ]
    }
   ],
   "source": [
    "# Print all the columns of the dataframe\n",
    "print(anime_data.columns)"
   ]
  },
  {
   "cell_type": "code",
   "execution_count": 113,
   "metadata": {},
   "outputs": [
    {
     "data": {
      "text/plain": [
       "Toei Animation          252\n",
       "Sunrise                 165\n",
       "Studio Deen             154\n",
       "J.C.Staff               150\n",
       "Madhouse                132\n",
       "Nippon Animation        117\n",
       "TMS Entertainment       101\n",
       "Studio Pierrot          100\n",
       "OLM                      87\n",
       "Tatsunoko Production     87\n",
       "Name: Studios, dtype: int64"
      ]
     },
     "execution_count": 113,
     "metadata": {},
     "output_type": "execute_result"
    }
   ],
   "source": [
    "# count the unique value of 'Studios' column\n",
    "anime_data['Studios'].value_counts()\n",
    "# print top 10 values\n",
    "anime_data['Studios'].value_counts()[1:11] # *top is 'Unknown'"
   ]
  },
  {
   "cell_type": "code",
   "execution_count": 128,
   "metadata": {},
   "outputs": [
    {
     "data": {
      "text/plain": [
       "[Text(0, 0, 'Death Note'),\n",
       " Text(1, 0, 'Shingeki no Kyojin'),\n",
       " Text(2, 0, 'Fullmetal Alchemist: Brotherhood'),\n",
       " Text(3, 0, 'Sword Art Online'),\n",
       " Text(4, 0, 'One Punch Man'),\n",
       " Text(5, 0, 'Boku no Hero Academia'),\n",
       " Text(6, 0, 'Tokyo Ghoul'),\n",
       " Text(7, 0, 'Naruto'),\n",
       " Text(8, 0, 'Steins;Gate'),\n",
       " Text(9, 0, 'No Game No Life')]"
      ]
     },
     "execution_count": 128,
     "metadata": {},
     "output_type": "execute_result"
    },
    {
     "data": {
      "image/png": "[encoded data removed]",
      "text/plain": [
       "<Figure size 640x480 with 1 Axes>"
      ]
     },
     "metadata": {},
     "output_type": "display_data"
    }
   ],
   "source": [
    "# Top 20 anime with 'Members' value\n",
    "top10_members = anime_data.sort_values(by='Members', ascending=False).head(10)\n",
    "\n",
    "ax=sns.barplot(x='Name', y='Members', data=top10_members)\n",
    "ax.set_xticklabels(ax.get_xticklabels(), fontsize=8, rotation=20, ha=\"right\")"
   ]
  },
  {
   "cell_type": "code",
   "execution_count": 21,
   "metadata": {},
   "outputs": [
    {
     "name": "stdout",
     "output_type": "stream",
     "text": [
      "Index(['MAL_ID', 'Name', 'English name', 'Japanese name', 'Dropped rate'], dtype='object')\n"
     ]
    }
   ],
   "source": [
    "anime_data_name = anime_data.drop(['Score', 'Genres',\n",
    "       'Type', 'Episodes', 'Aired', 'Premiered', 'Producers', 'Licensors',\n",
    "       'Studios', 'Source', 'Duration', 'Rating', 'Ranked', 'Popularity',\n",
    "       'Members', 'Favorites', 'Watching', 'Completed', 'On-Hold', 'Dropped',\n",
    "       'Plan to Watch', 'Score-10', 'Score-9', 'Score-8', 'Score-7', 'Score-6',\n",
    "       'Score-5', 'Score-4', 'Score-3', 'Score-2', 'Score-1'], axis=1)\n",
    "print(anime_data_name.columns)"
   ]
  },
  {
   "cell_type": "code",
   "execution_count": 22,
   "metadata": {},
   "outputs": [
    {
     "data": {
      "text/html": [
       "<div>\n",
       "<style scoped>\n",
       "    .dataframe tbody tr th:only-of-type {\n",
       "        vertical-align: middle;\n",
       "    }\n",
       "\n",
       "    .dataframe tbody tr th {\n",
       "        vertical-align: top;\n",
       "    }\n",
       "\n",
       "    .dataframe thead th {\n",
       "        text-align: right;\n",
       "    }\n",
       "</style>\n",
       "<table border=\"1\" class=\"dataframe\">\n",
       "  <thead>\n",
       "    <tr style=\"text-align: right;\">\n",
       "      <th></th>\n",
       "      <th>MAL_ID</th>\n",
       "      <th>Name</th>\n",
       "      <th>English name</th>\n",
       "      <th>Japanese name</th>\n",
       "      <th>Dropped rate</th>\n",
       "    </tr>\n",
       "  </thead>\n",
       "  <tbody>\n",
       "    <tr>\n",
       "      <th>0</th>\n",
       "      <td>1</td>\n",
       "      <td>Cowboy Bebop</td>\n",
       "      <td>Cowboy Bebop</td>\n",
       "      <td>カウボーイビバップ</td>\n",
       "      <td>0.03</td>\n",
       "    </tr>\n",
       "    <tr>\n",
       "      <th>2</th>\n",
       "      <td>6</td>\n",
       "      <td>Trigun</td>\n",
       "      <td>Trigun</td>\n",
       "      <td>トライガン</td>\n",
       "      <td>0.03</td>\n",
       "    </tr>\n",
       "    <tr>\n",
       "      <th>3</th>\n",
       "      <td>7</td>\n",
       "      <td>Witch Hunter Robin</td>\n",
       "      <td>Witch Hunter Robin</td>\n",
       "      <td>Witch Hunter ROBIN (ウイッチハンターロビン)</td>\n",
       "      <td>0.09</td>\n",
       "    </tr>\n",
       "    <tr>\n",
       "      <th>4</th>\n",
       "      <td>8</td>\n",
       "      <td>Bouken Ou Beet</td>\n",
       "      <td>Beet the Vandel Buster</td>\n",
       "      <td>冒険王ビィト</td>\n",
       "      <td>0.11</td>\n",
       "    </tr>\n",
       "    <tr>\n",
       "      <th>5</th>\n",
       "      <td>15</td>\n",
       "      <td>Eyeshield 21</td>\n",
       "      <td>Unknown</td>\n",
       "      <td>アイシールド21</td>\n",
       "      <td>0.10</td>\n",
       "    </tr>\n",
       "  </tbody>\n",
       "</table>\n",
       "</div>"
      ],
      "text/plain": [
       "   MAL_ID                Name            English name  \\\n",
       "0       1        Cowboy Bebop            Cowboy Bebop   \n",
       "2       6              Trigun                  Trigun   \n",
       "3       7  Witch Hunter Robin      Witch Hunter Robin   \n",
       "4       8      Bouken Ou Beet  Beet the Vandel Buster   \n",
       "5      15        Eyeshield 21                 Unknown   \n",
       "\n",
       "                      Japanese name  Dropped rate  \n",
       "0                         カウボーイビバップ          0.03  \n",
       "2                             トライガン          0.03  \n",
       "3  Witch Hunter ROBIN (ウイッチハンターロビン)          0.09  \n",
       "4                            冒険王ビィト          0.11  \n",
       "5                          アイシールド21          0.10  "
      ]
     },
     "execution_count": 22,
     "metadata": {},
     "output_type": "execute_result"
    }
   ],
   "source": [
    "anime_data_name.head(5)"
   ]
  },
  {
   "cell_type": "code",
   "execution_count": 56,
   "metadata": {},
   "outputs": [],
   "source": [
    "# anime_data_name.to_csv('./csv/2020/anime_2020_name.csv', index=False)"
   ]
  },
  {
   "cell_type": "code",
   "execution_count": 23,
   "metadata": {},
   "outputs": [],
   "source": [
    "# Count the Dropping rate. Dropping rate = Dropped/(Watching+Completed+On-Hold+Dropped)\n",
    "anime_data['Dropped rate'] = anime_data['Dropped']/(anime_data['Watching']+anime_data['Completed']+anime_data['On-Hold']+anime_data['Dropped'])\n",
    "# Make the dropped rate to 2 decimal places\n",
    "anime_data['Dropped rate'] = anime_data['Dropped rate'].apply(lambda x: round(x, 2))"
   ]
  },
  {
   "cell_type": "code",
   "execution_count": 24,
   "metadata": {},
   "outputs": [
    {
     "name": "stdout",
     "output_type": "stream",
     "text": [
      "Index(['MAL_ID', 'Name', 'Score', 'Genres', 'Episodes', 'Premiered', 'Studios',\n",
      "       'Members', 'Completed', 'Dropped rate'],\n",
      "      dtype='object')\n"
     ]
    }
   ],
   "source": [
    "# Drop unnecessary columns\n",
    "anime_data_cleaned = anime_data.drop(['English name', 'Japanese name',\n",
    "       'Type', 'Aired', 'Producers', 'Licensors',\n",
    "       'Source', 'Duration', 'Rating', 'Ranked', 'Popularity',\n",
    "       'Favorites', 'Watching', 'On-Hold', 'Dropped',\n",
    "       'Plan to Watch', 'Score-10', 'Score-9', 'Score-8', 'Score-7', 'Score-6',\n",
    "       'Score-5', 'Score-4', 'Score-3', 'Score-2', 'Score-1'], axis=1)\n",
    "print(anime_data_cleaned.columns)"
   ]
  },
  {
   "cell_type": "code",
   "execution_count": 25,
   "metadata": {},
   "outputs": [
    {
     "data": {
      "text/html": [
       "<div>\n",
       "<style scoped>\n",
       "    .dataframe tbody tr th:only-of-type {\n",
       "        vertical-align: middle;\n",
       "    }\n",
       "\n",
       "    .dataframe tbody tr th {\n",
       "        vertical-align: top;\n",
       "    }\n",
       "\n",
       "    .dataframe thead th {\n",
       "        text-align: right;\n",
       "    }\n",
       "</style>\n",
       "<table border=\"1\" class=\"dataframe\">\n",
       "  <thead>\n",
       "    <tr style=\"text-align: right;\">\n",
       "      <th></th>\n",
       "      <th>MAL_ID</th>\n",
       "      <th>Name</th>\n",
       "      <th>Score</th>\n",
       "      <th>Genres</th>\n",
       "      <th>Episodes</th>\n",
       "      <th>Premiered</th>\n",
       "      <th>Studios</th>\n",
       "      <th>Members</th>\n",
       "      <th>Completed</th>\n",
       "      <th>Dropped rate</th>\n",
       "    </tr>\n",
       "  </thead>\n",
       "  <tbody>\n",
       "    <tr>\n",
       "      <th>0</th>\n",
       "      <td>1</td>\n",
       "      <td>Cowboy Bebop</td>\n",
       "      <td>8.78</td>\n",
       "      <td>Action, Adventure, Comedy, Drama, Sci-Fi, Space</td>\n",
       "      <td>26</td>\n",
       "      <td>Spring 1998</td>\n",
       "      <td>Sunrise</td>\n",
       "      <td>1251960</td>\n",
       "      <td>718161</td>\n",
       "      <td>0.03</td>\n",
       "    </tr>\n",
       "    <tr>\n",
       "      <th>2</th>\n",
       "      <td>6</td>\n",
       "      <td>Trigun</td>\n",
       "      <td>8.24</td>\n",
       "      <td>Action, Sci-Fi, Adventure, Comedy, Drama, Shounen</td>\n",
       "      <td>26</td>\n",
       "      <td>Spring 1998</td>\n",
       "      <td>Madhouse</td>\n",
       "      <td>558913</td>\n",
       "      <td>343492</td>\n",
       "      <td>0.03</td>\n",
       "    </tr>\n",
       "    <tr>\n",
       "      <th>3</th>\n",
       "      <td>7</td>\n",
       "      <td>Witch Hunter Robin</td>\n",
       "      <td>7.27</td>\n",
       "      <td>Action, Mystery, Police, Supernatural, Drama, ...</td>\n",
       "      <td>26</td>\n",
       "      <td>Summer 2002</td>\n",
       "      <td>Sunrise</td>\n",
       "      <td>94683</td>\n",
       "      <td>46165</td>\n",
       "      <td>0.09</td>\n",
       "    </tr>\n",
       "    <tr>\n",
       "      <th>4</th>\n",
       "      <td>8</td>\n",
       "      <td>Bouken Ou Beet</td>\n",
       "      <td>6.98</td>\n",
       "      <td>Adventure, Fantasy, Shounen, Supernatural</td>\n",
       "      <td>52</td>\n",
       "      <td>Fall 2004</td>\n",
       "      <td>Toei Animation</td>\n",
       "      <td>13224</td>\n",
       "      <td>7314</td>\n",
       "      <td>0.11</td>\n",
       "    </tr>\n",
       "    <tr>\n",
       "      <th>5</th>\n",
       "      <td>15</td>\n",
       "      <td>Eyeshield 21</td>\n",
       "      <td>7.95</td>\n",
       "      <td>Action, Sports, Comedy, Shounen</td>\n",
       "      <td>145</td>\n",
       "      <td>Spring 2005</td>\n",
       "      <td>Gallop</td>\n",
       "      <td>148259</td>\n",
       "      <td>78349</td>\n",
       "      <td>0.10</td>\n",
       "    </tr>\n",
       "  </tbody>\n",
       "</table>\n",
       "</div>"
      ],
      "text/plain": [
       "   MAL_ID                Name Score  \\\n",
       "0       1        Cowboy Bebop  8.78   \n",
       "2       6              Trigun  8.24   \n",
       "3       7  Witch Hunter Robin  7.27   \n",
       "4       8      Bouken Ou Beet  6.98   \n",
       "5      15        Eyeshield 21  7.95   \n",
       "\n",
       "                                              Genres Episodes    Premiered  \\\n",
       "0    Action, Adventure, Comedy, Drama, Sci-Fi, Space       26  Spring 1998   \n",
       "2  Action, Sci-Fi, Adventure, Comedy, Drama, Shounen       26  Spring 1998   \n",
       "3  Action, Mystery, Police, Supernatural, Drama, ...       26  Summer 2002   \n",
       "4          Adventure, Fantasy, Shounen, Supernatural       52    Fall 2004   \n",
       "5                    Action, Sports, Comedy, Shounen      145  Spring 2005   \n",
       "\n",
       "          Studios  Members  Completed  Dropped rate  \n",
       "0         Sunrise  1251960     718161          0.03  \n",
       "2        Madhouse   558913     343492          0.03  \n",
       "3         Sunrise    94683      46165          0.09  \n",
       "4  Toei Animation    13224       7314          0.11  \n",
       "5          Gallop   148259      78349          0.10  "
      ]
     },
     "execution_count": 25,
     "metadata": {},
     "output_type": "execute_result"
    }
   ],
   "source": [
    "anime_data_cleaned.head(5)"
   ]
  },
  {
   "cell_type": "code",
   "execution_count": 13,
   "metadata": {},
   "outputs": [
    {
     "data": {
      "text/plain": [
       "4994"
      ]
     },
     "execution_count": 13,
     "metadata": {},
     "output_type": "execute_result"
    }
   ],
   "source": [
    "anime_data_cleaned['Name'].nunique()"
   ]
  },
  {
   "cell_type": "code",
   "execution_count": 14,
   "metadata": {},
   "outputs": [
    {
     "data": {
      "text/plain": [
       "(4996, 9)"
      ]
     },
     "execution_count": 14,
     "metadata": {},
     "output_type": "execute_result"
    }
   ],
   "source": [
    "anime_data_cleaned.shape"
   ]
  },
  {
   "cell_type": "code",
   "execution_count": 26,
   "metadata": {},
   "outputs": [
    {
     "data": {
      "text/plain": [
       "MAL_ID          1482\n",
       "Name            1482\n",
       "Score           1482\n",
       "Genres          1482\n",
       "Episodes        1482\n",
       "Premiered       1482\n",
       "Studios         1482\n",
       "Members         1482\n",
       "Completed       1482\n",
       "Dropped rate    1482\n",
       "dtype: int64"
      ]
     },
     "execution_count": 26,
     "metadata": {},
     "output_type": "execute_result"
    }
   ],
   "source": [
    "# Count how many anime has dropped rate more than 0.1\n",
    "anime_data_cleaned[anime_data_cleaned['Dropped rate']>0.2].count()"
   ]
  },
  {
   "cell_type": "code",
   "execution_count": 9,
   "metadata": {},
   "outputs": [
    {
     "data": {
      "text/plain": [
       "MAL_ID           0\n",
       "Name             0\n",
       "Score            0\n",
       "Genres           0\n",
       "Episodes         0\n",
       "Premiered        0\n",
       "Studios          0\n",
       "Members          0\n",
       "Completed        0\n",
       "Dropped rate    87\n",
       "dtype: int64"
      ]
     },
     "execution_count": 9,
     "metadata": {},
     "output_type": "execute_result"
    }
   ],
   "source": [
    "anime_data_cleaned.isnull().sum()"
   ]
  },
  {
   "cell_type": "code",
   "execution_count": 10,
   "metadata": {},
   "outputs": [],
   "source": [
    "# fill the missing values with -1\n",
    "anime_data_cleaned.fillna(-1, inplace=True)"
   ]
  },
  {
   "cell_type": "code",
   "execution_count": 76,
   "metadata": {},
   "outputs": [
    {
     "data": {
      "text/plain": [
       "MAL_ID             0\n",
       "Name               0\n",
       "Score           1159\n",
       "Genres             5\n",
       "Episodes         262\n",
       "Premiered        251\n",
       "Studios          838\n",
       "Members            0\n",
       "Completed          0\n",
       "Dropped rate       0\n",
       "dtype: int64"
      ]
     },
     "execution_count": 76,
     "metadata": {},
     "output_type": "execute_result"
    }
   ],
   "source": [
    "# count how many 'Unknown' values in each column\n",
    "anime_data_cleaned.isin(['Unknown']).sum()"
   ]
  },
  {
   "cell_type": "code",
   "execution_count": 27,
   "metadata": {},
   "outputs": [],
   "source": [
    "# replace 'Unkonwn' in Score column and Episode column with -1\n",
    "anime_data_cleaned['Score'].replace('Unknown', -1, inplace=True)\n",
    "anime_data_cleaned['Episodes'].replace('Unknown', -1, inplace=True)"
   ]
  },
  {
   "cell_type": "code",
   "execution_count": 78,
   "metadata": {},
   "outputs": [],
   "source": [
    "# anime_data_cleaned.to_csv('./csv/2020/anime_2020_cleaned_v2.csv', index=False)"
   ]
  },
  {
   "cell_type": "code",
   "execution_count": 63,
   "metadata": {},
   "outputs": [],
   "source": [
    "# anime_data_cleaned.to_csv('./csv/2020/anime_2020_cleaned.csv', index=False)"
   ]
  },
  {
   "attachments": {},
   "cell_type": "markdown",
   "metadata": {},
   "source": [
    "### rating_data"
   ]
  },
  {
   "cell_type": "code",
   "execution_count": 18,
   "metadata": {},
   "outputs": [
    {
     "data": {
      "text/plain": [
       "(57633278, 3)"
      ]
     },
     "execution_count": 18,
     "metadata": {},
     "output_type": "execute_result"
    }
   ],
   "source": [
    "rating_data.shape"
   ]
  },
  {
   "cell_type": "code",
   "execution_count": 28,
   "metadata": {},
   "outputs": [
    {
     "data": {
      "text/html": [
       "<div>\n",
       "<style scoped>\n",
       "    .dataframe tbody tr th:only-of-type {\n",
       "        vertical-align: middle;\n",
       "    }\n",
       "\n",
       "    .dataframe tbody tr th {\n",
       "        vertical-align: top;\n",
       "    }\n",
       "\n",
       "    .dataframe thead th {\n",
       "        text-align: right;\n",
       "    }\n",
       "</style>\n",
       "<table border=\"1\" class=\"dataframe\">\n",
       "  <thead>\n",
       "    <tr style=\"text-align: right;\">\n",
       "      <th></th>\n",
       "      <th>user_id</th>\n",
       "      <th>MAL_ID</th>\n",
       "      <th>rating</th>\n",
       "    </tr>\n",
       "  </thead>\n",
       "  <tbody>\n",
       "    <tr>\n",
       "      <th>0</th>\n",
       "      <td>0</td>\n",
       "      <td>430</td>\n",
       "      <td>9</td>\n",
       "    </tr>\n",
       "    <tr>\n",
       "      <th>1</th>\n",
       "      <td>0</td>\n",
       "      <td>1004</td>\n",
       "      <td>5</td>\n",
       "    </tr>\n",
       "    <tr>\n",
       "      <th>2</th>\n",
       "      <td>0</td>\n",
       "      <td>3010</td>\n",
       "      <td>7</td>\n",
       "    </tr>\n",
       "    <tr>\n",
       "      <th>3</th>\n",
       "      <td>0</td>\n",
       "      <td>570</td>\n",
       "      <td>7</td>\n",
       "    </tr>\n",
       "    <tr>\n",
       "      <th>4</th>\n",
       "      <td>0</td>\n",
       "      <td>2762</td>\n",
       "      <td>9</td>\n",
       "    </tr>\n",
       "  </tbody>\n",
       "</table>\n",
       "</div>"
      ],
      "text/plain": [
       "   user_id  MAL_ID  rating\n",
       "0        0     430       9\n",
       "1        0    1004       5\n",
       "2        0    3010       7\n",
       "3        0     570       7\n",
       "4        0    2762       9"
      ]
     },
     "execution_count": 28,
     "metadata": {},
     "output_type": "execute_result"
    }
   ],
   "source": [
    "# rename anime_id column as MAL_ID\n",
    "rating_data.rename(columns={'anime_id':'MAL_ID'}, inplace=True)\n",
    "rating_data.head(5)"
   ]
  },
  {
   "attachments": {},
   "cell_type": "markdown",
   "metadata": {},
   "source": [
    "Distribution of rated items per user"
   ]
  },
  {
   "cell_type": "code",
   "execution_count": 50,
   "metadata": {},
   "outputs": [
    {
     "data": {
      "text/plain": [
       "189037    15455\n",
       "162615    14864\n",
       "68042     13462\n",
       "283786    12778\n",
       "259790     9996\n",
       "          ...  \n",
       "201316        1\n",
       "201300        1\n",
       "97555         1\n",
       "201293        1\n",
       "137466        1\n",
       "Name: user_id, Length: 310059, dtype: int64"
      ]
     },
     "execution_count": 50,
     "metadata": {},
     "output_type": "execute_result"
    }
   ],
   "source": [
    "# count the number of rating given by each user\n",
    "rating_data['user_id'].value_counts()"
   ]
  },
  {
   "cell_type": "code",
   "execution_count": 21,
   "metadata": {},
   "outputs": [
    {
     "data": {
      "text/plain": [
       "<Axes: >"
      ]
     },
     "execution_count": 21,
     "metadata": {},
     "output_type": "execute_result"
    },
    {
     "data": {
      "image/png": "[encoded data removed]",
      "text/plain": [
       "<Figure size 640x480 with 1 Axes>"
      ]
     },
     "metadata": {},
     "output_type": "display_data"
    }
   ],
   "source": [
    "plt.xlim(0, 1500)\n",
    "rating_data['user_id'].value_counts().hist(bins=100)"
   ]
  },
  {
   "cell_type": "code",
   "execution_count": 12,
   "metadata": {},
   "outputs": [
    {
     "data": {
      "text/plain": [
       "(41320341, 3)"
      ]
     },
     "execution_count": 12,
     "metadata": {},
     "output_type": "execute_result"
    }
   ],
   "source": [
    "# consider users only when they have rated more than 200 anime\n",
    "counts = rating_data['user_id'].value_counts()\n",
    "rating_data = rating_data[rating_data['user_id'].isin(counts[counts >= 200].index)]\n",
    "rating_data.shape"
   ]
  },
  {
   "cell_type": "code",
   "execution_count": 23,
   "metadata": {},
   "outputs": [
    {
     "data": {
      "text/plain": [
       "95143"
      ]
     },
     "execution_count": 23,
     "metadata": {},
     "output_type": "execute_result"
    }
   ],
   "source": [
    "# count the how many user_id exist\n",
    "rating_data['user_id'].nunique()"
   ]
  },
  {
   "cell_type": "code",
   "execution_count": 51,
   "metadata": {},
   "outputs": [
    {
     "data": {
      "text/plain": [
       "user_id    0\n",
       "MAL_ID     0\n",
       "rating     0\n",
       "dtype: int64"
      ]
     },
     "execution_count": 51,
     "metadata": {},
     "output_type": "execute_result"
    }
   ],
   "source": [
    "rating_data.isnull().sum()"
   ]
  },
  {
   "attachments": {},
   "cell_type": "markdown",
   "metadata": {},
   "source": [
    "## Data Preparation"
   ]
  },
  {
   "cell_type": "code",
   "execution_count": 8,
   "metadata": {},
   "outputs": [],
   "source": [
    "# joint anime_data_cleaned and rating_data, if anime_id is not in rating_data, drop it\n",
    "anime_rating_data = anime_data_cleaned.merge(rating_data, on='MAL_ID', how='inner')"
   ]
  },
  {
   "cell_type": "code",
   "execution_count": 59,
   "metadata": {},
   "outputs": [
    {
     "data": {
      "text/html": [
       "<div>\n",
       "<style scoped>\n",
       "    .dataframe tbody tr th:only-of-type {\n",
       "        vertical-align: middle;\n",
       "    }\n",
       "\n",
       "    .dataframe tbody tr th {\n",
       "        vertical-align: top;\n",
       "    }\n",
       "\n",
       "    .dataframe thead th {\n",
       "        text-align: right;\n",
       "    }\n",
       "</style>\n",
       "<table border=\"1\" class=\"dataframe\">\n",
       "  <thead>\n",
       "    <tr style=\"text-align: right;\">\n",
       "      <th></th>\n",
       "      <th>MAL_ID</th>\n",
       "      <th>Name</th>\n",
       "      <th>Score</th>\n",
       "      <th>Genres</th>\n",
       "      <th>Episodes</th>\n",
       "      <th>Premiered</th>\n",
       "      <th>Studios</th>\n",
       "      <th>Members</th>\n",
       "      <th>Completed</th>\n",
       "      <th>Dropped rate</th>\n",
       "      <th>user_id</th>\n",
       "      <th>rating</th>\n",
       "    </tr>\n",
       "  </thead>\n",
       "  <tbody>\n",
       "    <tr>\n",
       "      <th>0</th>\n",
       "      <td>1</td>\n",
       "      <td>Cowboy Bebop</td>\n",
       "      <td>8.78</td>\n",
       "      <td>Action, Adventure, Comedy, Drama, Sci-Fi, Space</td>\n",
       "      <td>26</td>\n",
       "      <td>Spring 1998</td>\n",
       "      <td>Sunrise</td>\n",
       "      <td>1251960</td>\n",
       "      <td>718161</td>\n",
       "      <td>0.03</td>\n",
       "      <td>3</td>\n",
       "      <td>9</td>\n",
       "    </tr>\n",
       "    <tr>\n",
       "      <th>1</th>\n",
       "      <td>1</td>\n",
       "      <td>Cowboy Bebop</td>\n",
       "      <td>8.78</td>\n",
       "      <td>Action, Adventure, Comedy, Drama, Sci-Fi, Space</td>\n",
       "      <td>26</td>\n",
       "      <td>Spring 1998</td>\n",
       "      <td>Sunrise</td>\n",
       "      <td>1251960</td>\n",
       "      <td>718161</td>\n",
       "      <td>0.03</td>\n",
       "      <td>6</td>\n",
       "      <td>6</td>\n",
       "    </tr>\n",
       "    <tr>\n",
       "      <th>2</th>\n",
       "      <td>1</td>\n",
       "      <td>Cowboy Bebop</td>\n",
       "      <td>8.78</td>\n",
       "      <td>Action, Adventure, Comedy, Drama, Sci-Fi, Space</td>\n",
       "      <td>26</td>\n",
       "      <td>Spring 1998</td>\n",
       "      <td>Sunrise</td>\n",
       "      <td>1251960</td>\n",
       "      <td>718161</td>\n",
       "      <td>0.03</td>\n",
       "      <td>19</td>\n",
       "      <td>8</td>\n",
       "    </tr>\n",
       "    <tr>\n",
       "      <th>3</th>\n",
       "      <td>1</td>\n",
       "      <td>Cowboy Bebop</td>\n",
       "      <td>8.78</td>\n",
       "      <td>Action, Adventure, Comedy, Drama, Sci-Fi, Space</td>\n",
       "      <td>26</td>\n",
       "      <td>Spring 1998</td>\n",
       "      <td>Sunrise</td>\n",
       "      <td>1251960</td>\n",
       "      <td>718161</td>\n",
       "      <td>0.03</td>\n",
       "      <td>44</td>\n",
       "      <td>9</td>\n",
       "    </tr>\n",
       "    <tr>\n",
       "      <th>4</th>\n",
       "      <td>1</td>\n",
       "      <td>Cowboy Bebop</td>\n",
       "      <td>8.78</td>\n",
       "      <td>Action, Adventure, Comedy, Drama, Sci-Fi, Space</td>\n",
       "      <td>26</td>\n",
       "      <td>Spring 1998</td>\n",
       "      <td>Sunrise</td>\n",
       "      <td>1251960</td>\n",
       "      <td>718161</td>\n",
       "      <td>0.03</td>\n",
       "      <td>53</td>\n",
       "      <td>10</td>\n",
       "    </tr>\n",
       "  </tbody>\n",
       "</table>\n",
       "</div>"
      ],
      "text/plain": [
       "   MAL_ID          Name Score  \\\n",
       "0       1  Cowboy Bebop  8.78   \n",
       "1       1  Cowboy Bebop  8.78   \n",
       "2       1  Cowboy Bebop  8.78   \n",
       "3       1  Cowboy Bebop  8.78   \n",
       "4       1  Cowboy Bebop  8.78   \n",
       "\n",
       "                                            Genres Episodes    Premiered  \\\n",
       "0  Action, Adventure, Comedy, Drama, Sci-Fi, Space       26  Spring 1998   \n",
       "1  Action, Adventure, Comedy, Drama, Sci-Fi, Space       26  Spring 1998   \n",
       "2  Action, Adventure, Comedy, Drama, Sci-Fi, Space       26  Spring 1998   \n",
       "3  Action, Adventure, Comedy, Drama, Sci-Fi, Space       26  Spring 1998   \n",
       "4  Action, Adventure, Comedy, Drama, Sci-Fi, Space       26  Spring 1998   \n",
       "\n",
       "   Studios  Members  Completed  Dropped rate  user_id  rating  \n",
       "0  Sunrise  1251960     718161          0.03        3       9  \n",
       "1  Sunrise  1251960     718161          0.03        6       6  \n",
       "2  Sunrise  1251960     718161          0.03       19       8  \n",
       "3  Sunrise  1251960     718161          0.03       44       9  \n",
       "4  Sunrise  1251960     718161          0.03       53      10  "
      ]
     },
     "execution_count": 59,
     "metadata": {},
     "output_type": "execute_result"
    }
   ],
   "source": [
    "anime_rating_data.head(5)"
   ]
  },
  {
   "attachments": {},
   "cell_type": "markdown",
   "metadata": {},
   "source": [
    "*The anime title is reduced from 4994 to 4686 after removing the anime that are not in the rating data.*"
   ]
  },
  {
   "cell_type": "code",
   "execution_count": 60,
   "metadata": {},
   "outputs": [
    {
     "data": {
      "text/plain": [
       "4686"
      ]
     },
     "execution_count": 60,
     "metadata": {},
     "output_type": "execute_result"
    }
   ],
   "source": [
    "anime_rating_data['Name'].nunique()"
   ]
  },
  {
   "cell_type": "code",
   "execution_count": 30,
   "metadata": {},
   "outputs": [
    {
     "data": {
      "text/plain": [
       "(38541711, 11)"
      ]
     },
     "execution_count": 30,
     "metadata": {},
     "output_type": "execute_result"
    },
    {
     "ename": "",
     "evalue": "",
     "output_type": "error",
     "traceback": [
      "\u001b[1;31mThe Kernel crashed while executing code in the the current cell or a previous cell. Please review the code in the cell(s) to identify a possible cause of the failure. Click <a href='https://aka.ms/vscodeJupyterKernelCrash'>here</a> for more info. View Jupyter <a href='command:jupyter.viewOutput'>log</a> for further details."
     ]
    }
   ],
   "source": [
    "anime_rating_data.shape"
   ]
  },
  {
   "cell_type": "code",
   "execution_count": 11,
   "metadata": {},
   "outputs": [],
   "source": [
    "# anime_rating_data.to_csv('./csv/2020/anime_rating_2020.csv', index=False)"
   ]
  },
  {
   "cell_type": "code",
   "execution_count": 61,
   "metadata": {},
   "outputs": [],
   "source": [
    "anime_pivot=anime_rating_data.pivot_table(index='Name',columns='user_id',values='rating').fillna(0)"
   ]
  },
  {
   "cell_type": "code",
   "execution_count": 29,
   "metadata": {},
   "outputs": [
    {
     "data": {
      "text/plain": [
       "(4686, 95081)"
      ]
     },
     "execution_count": 29,
     "metadata": {},
     "output_type": "execute_result"
    }
   ],
   "source": [
    "anime_pivot.shape"
   ]
  },
  {
   "attachments": {},
   "cell_type": "markdown",
   "metadata": {},
   "source": [
    "After the data cleaning, finally we have 4686 anime and 73515 users."
   ]
  },
  {
   "cell_type": "code",
   "execution_count": 62,
   "metadata": {},
   "outputs": [],
   "source": [
    "# anime_pivot.to_csv('./csv/2020/anime_pivot_2020.csv')"
   ]
  },
  {
   "cell_type": "code",
   "execution_count": 30,
   "metadata": {},
   "outputs": [
    {
     "data": {
      "text/html": [
       "<div>\n",
       "<style scoped>\n",
       "    .dataframe tbody tr th:only-of-type {\n",
       "        vertical-align: middle;\n",
       "    }\n",
       "\n",
       "    .dataframe tbody tr th {\n",
       "        vertical-align: top;\n",
       "    }\n",
       "\n",
       "    .dataframe thead th {\n",
       "        text-align: right;\n",
       "    }\n",
       "</style>\n",
       "<table border=\"1\" class=\"dataframe\">\n",
       "  <thead>\n",
       "    <tr style=\"text-align: right;\">\n",
       "      <th>user_id</th>\n",
       "      <th>3</th>\n",
       "      <th>6</th>\n",
       "      <th>16</th>\n",
       "      <th>17</th>\n",
       "      <th>19</th>\n",
       "      <th>21</th>\n",
       "      <th>42</th>\n",
       "      <th>44</th>\n",
       "      <th>46</th>\n",
       "      <th>47</th>\n",
       "      <th>...</th>\n",
       "      <th>353365</th>\n",
       "      <th>353366</th>\n",
       "      <th>353369</th>\n",
       "      <th>353381</th>\n",
       "      <th>353383</th>\n",
       "      <th>353385</th>\n",
       "      <th>353386</th>\n",
       "      <th>353392</th>\n",
       "      <th>353395</th>\n",
       "      <th>353398</th>\n",
       "    </tr>\n",
       "    <tr>\n",
       "      <th>Name</th>\n",
       "      <th></th>\n",
       "      <th></th>\n",
       "      <th></th>\n",
       "      <th></th>\n",
       "      <th></th>\n",
       "      <th></th>\n",
       "      <th></th>\n",
       "      <th></th>\n",
       "      <th></th>\n",
       "      <th></th>\n",
       "      <th></th>\n",
       "      <th></th>\n",
       "      <th></th>\n",
       "      <th></th>\n",
       "      <th></th>\n",
       "      <th></th>\n",
       "      <th></th>\n",
       "      <th></th>\n",
       "      <th></th>\n",
       "      <th></th>\n",
       "      <th></th>\n",
       "    </tr>\n",
       "  </thead>\n",
       "  <tbody>\n",
       "    <tr>\n",
       "      <th>\"Eikou Naki Tensai-tachi\" Kara no Monogatari</th>\n",
       "      <td>0.0</td>\n",
       "      <td>0.0</td>\n",
       "      <td>0.0</td>\n",
       "      <td>0.0</td>\n",
       "      <td>0.0</td>\n",
       "      <td>0.0</td>\n",
       "      <td>0.0</td>\n",
       "      <td>0.0</td>\n",
       "      <td>0.0</td>\n",
       "      <td>0.0</td>\n",
       "      <td>...</td>\n",
       "      <td>0.0</td>\n",
       "      <td>0.0</td>\n",
       "      <td>0.0</td>\n",
       "      <td>0.0</td>\n",
       "      <td>0.0</td>\n",
       "      <td>0.0</td>\n",
       "      <td>0.0</td>\n",
       "      <td>0.0</td>\n",
       "      <td>0.0</td>\n",
       "      <td>0.0</td>\n",
       "    </tr>\n",
       "    <tr>\n",
       "      <th>.hack//Roots</th>\n",
       "      <td>0.0</td>\n",
       "      <td>0.0</td>\n",
       "      <td>0.0</td>\n",
       "      <td>0.0</td>\n",
       "      <td>0.0</td>\n",
       "      <td>0.0</td>\n",
       "      <td>0.0</td>\n",
       "      <td>0.0</td>\n",
       "      <td>0.0</td>\n",
       "      <td>0.0</td>\n",
       "      <td>...</td>\n",
       "      <td>0.0</td>\n",
       "      <td>0.0</td>\n",
       "      <td>0.0</td>\n",
       "      <td>0.0</td>\n",
       "      <td>0.0</td>\n",
       "      <td>0.0</td>\n",
       "      <td>0.0</td>\n",
       "      <td>0.0</td>\n",
       "      <td>0.0</td>\n",
       "      <td>0.0</td>\n",
       "    </tr>\n",
       "    <tr>\n",
       "      <th>.hack//Sign</th>\n",
       "      <td>0.0</td>\n",
       "      <td>0.0</td>\n",
       "      <td>0.0</td>\n",
       "      <td>0.0</td>\n",
       "      <td>0.0</td>\n",
       "      <td>0.0</td>\n",
       "      <td>0.0</td>\n",
       "      <td>0.0</td>\n",
       "      <td>0.0</td>\n",
       "      <td>0.0</td>\n",
       "      <td>...</td>\n",
       "      <td>0.0</td>\n",
       "      <td>0.0</td>\n",
       "      <td>0.0</td>\n",
       "      <td>0.0</td>\n",
       "      <td>0.0</td>\n",
       "      <td>9.0</td>\n",
       "      <td>0.0</td>\n",
       "      <td>0.0</td>\n",
       "      <td>0.0</td>\n",
       "      <td>0.0</td>\n",
       "    </tr>\n",
       "    <tr>\n",
       "      <th>.hack//Tasogare no Udewa Densetsu</th>\n",
       "      <td>0.0</td>\n",
       "      <td>0.0</td>\n",
       "      <td>0.0</td>\n",
       "      <td>0.0</td>\n",
       "      <td>0.0</td>\n",
       "      <td>0.0</td>\n",
       "      <td>0.0</td>\n",
       "      <td>0.0</td>\n",
       "      <td>0.0</td>\n",
       "      <td>0.0</td>\n",
       "      <td>...</td>\n",
       "      <td>0.0</td>\n",
       "      <td>0.0</td>\n",
       "      <td>0.0</td>\n",
       "      <td>0.0</td>\n",
       "      <td>0.0</td>\n",
       "      <td>0.0</td>\n",
       "      <td>0.0</td>\n",
       "      <td>0.0</td>\n",
       "      <td>7.0</td>\n",
       "      <td>0.0</td>\n",
       "    </tr>\n",
       "    <tr>\n",
       "      <th>0-sen Hayato</th>\n",
       "      <td>0.0</td>\n",
       "      <td>0.0</td>\n",
       "      <td>0.0</td>\n",
       "      <td>0.0</td>\n",
       "      <td>0.0</td>\n",
       "      <td>0.0</td>\n",
       "      <td>0.0</td>\n",
       "      <td>0.0</td>\n",
       "      <td>0.0</td>\n",
       "      <td>0.0</td>\n",
       "      <td>...</td>\n",
       "      <td>0.0</td>\n",
       "      <td>0.0</td>\n",
       "      <td>0.0</td>\n",
       "      <td>0.0</td>\n",
       "      <td>0.0</td>\n",
       "      <td>0.0</td>\n",
       "      <td>0.0</td>\n",
       "      <td>0.0</td>\n",
       "      <td>0.0</td>\n",
       "      <td>0.0</td>\n",
       "    </tr>\n",
       "  </tbody>\n",
       "</table>\n",
       "<p>5 rows × 95081 columns</p>\n",
       "</div>"
      ],
      "text/plain": [
       "user_id                                       3       6       16      17      \\\n",
       "Name                                                                           \n",
       "\"Eikou Naki Tensai-tachi\" Kara no Monogatari     0.0     0.0     0.0     0.0   \n",
       ".hack//Roots                                     0.0     0.0     0.0     0.0   \n",
       ".hack//Sign                                      0.0     0.0     0.0     0.0   \n",
       ".hack//Tasogare no Udewa Densetsu                0.0     0.0     0.0     0.0   \n",
       "0-sen Hayato                                     0.0     0.0     0.0     0.0   \n",
       "\n",
       "user_id                                       19      21      42      44      \\\n",
       "Name                                                                           \n",
       "\"Eikou Naki Tensai-tachi\" Kara no Monogatari     0.0     0.0     0.0     0.0   \n",
       ".hack//Roots                                     0.0     0.0     0.0     0.0   \n",
       ".hack//Sign                                      0.0     0.0     0.0     0.0   \n",
       ".hack//Tasogare no Udewa Densetsu                0.0     0.0     0.0     0.0   \n",
       "0-sen Hayato                                     0.0     0.0     0.0     0.0   \n",
       "\n",
       "user_id                                       46      47      ...  353365  \\\n",
       "Name                                                          ...           \n",
       "\"Eikou Naki Tensai-tachi\" Kara no Monogatari     0.0     0.0  ...     0.0   \n",
       ".hack//Roots                                     0.0     0.0  ...     0.0   \n",
       ".hack//Sign                                      0.0     0.0  ...     0.0   \n",
       ".hack//Tasogare no Udewa Densetsu                0.0     0.0  ...     0.0   \n",
       "0-sen Hayato                                     0.0     0.0  ...     0.0   \n",
       "\n",
       "user_id                                       353366  353369  353381  353383  \\\n",
       "Name                                                                           \n",
       "\"Eikou Naki Tensai-tachi\" Kara no Monogatari     0.0     0.0     0.0     0.0   \n",
       ".hack//Roots                                     0.0     0.0     0.0     0.0   \n",
       ".hack//Sign                                      0.0     0.0     0.0     0.0   \n",
       ".hack//Tasogare no Udewa Densetsu                0.0     0.0     0.0     0.0   \n",
       "0-sen Hayato                                     0.0     0.0     0.0     0.0   \n",
       "\n",
       "user_id                                       353385  353386  353392  353395  \\\n",
       "Name                                                                           \n",
       "\"Eikou Naki Tensai-tachi\" Kara no Monogatari     0.0     0.0     0.0     0.0   \n",
       ".hack//Roots                                     0.0     0.0     0.0     0.0   \n",
       ".hack//Sign                                      9.0     0.0     0.0     0.0   \n",
       ".hack//Tasogare no Udewa Densetsu                0.0     0.0     0.0     7.0   \n",
       "0-sen Hayato                                     0.0     0.0     0.0     0.0   \n",
       "\n",
       "user_id                                       353398  \n",
       "Name                                                  \n",
       "\"Eikou Naki Tensai-tachi\" Kara no Monogatari     0.0  \n",
       ".hack//Roots                                     0.0  \n",
       ".hack//Sign                                      0.0  \n",
       ".hack//Tasogare no Udewa Densetsu                0.0  \n",
       "0-sen Hayato                                     0.0  \n",
       "\n",
       "[5 rows x 95081 columns]"
      ]
     },
     "execution_count": 30,
     "metadata": {},
     "output_type": "execute_result"
    }
   ],
   "source": [
    "anime_pivot.head(5)"
   ]
  },
  {
   "cell_type": "code",
   "execution_count": 9,
   "metadata": {},
   "outputs": [],
   "source": [
    "user_pivot=anime_rating_data.pivot_table(index='user_id',columns='Name',values='rating').fillna(0)"
   ]
  },
  {
   "cell_type": "code",
   "execution_count": null,
   "metadata": {},
   "outputs": [],
   "source": []
  },
  {
   "cell_type": "code",
   "execution_count": 13,
   "metadata": {},
   "outputs": [
    {
     "ename": "NameError",
     "evalue": "name 'user_pivot' is not defined",
     "output_type": "error",
     "traceback": [
      "\u001b[0;31m---------------------------------------------------------------------------\u001b[0m",
      "\u001b[0;31mNameError\u001b[0m                                 Traceback (most recent call last)",
      "Cell \u001b[0;32mIn[13], line 1\u001b[0m\n\u001b[0;32m----> 1\u001b[0m user_pivot\u001b[39m.\u001b[39mshape\n",
      "\u001b[0;31mNameError\u001b[0m: name 'user_pivot' is not defined"
     ]
    },
    {
     "ename": "",
     "evalue": "",
     "output_type": "error",
     "traceback": [
      "\u001b[1;31mThe Kernel crashed while executing code in the the current cell or a previous cell. Please review the code in the cell(s) to identify a possible cause of the failure. Click <a href='https://aka.ms/vscodeJupyterKernelCrash'>here</a> for more info. View Jupyter <a href='command:jupyter.viewOutput'>log</a> for further details."
     ]
    }
   ],
   "source": [
    "user_pivot.shape"
   ]
  },
  {
   "cell_type": "code",
   "execution_count": 58,
   "metadata": {},
   "outputs": [],
   "source": [
    "# user_pivot.to_csv('./csv/2020/user_pivot_2020.csv')"
   ]
  },
  {
   "cell_type": "code",
   "execution_count": 50,
   "metadata": {},
   "outputs": [
    {
     "data": {
      "text/html": [
       "<div>\n",
       "<style scoped>\n",
       "    .dataframe tbody tr th:only-of-type {\n",
       "        vertical-align: middle;\n",
       "    }\n",
       "\n",
       "    .dataframe tbody tr th {\n",
       "        vertical-align: top;\n",
       "    }\n",
       "\n",
       "    .dataframe thead th {\n",
       "        text-align: right;\n",
       "    }\n",
       "</style>\n",
       "<table border=\"1\" class=\"dataframe\">\n",
       "  <thead>\n",
       "    <tr style=\"text-align: right;\">\n",
       "      <th>Name</th>\n",
       "      <th>\"Eikou Naki Tensai-tachi\" Kara no Monogatari</th>\n",
       "      <th>.hack//Roots</th>\n",
       "      <th>.hack//Sign</th>\n",
       "      <th>.hack//Tasogare no Udewa Densetsu</th>\n",
       "      <th>0-sen Hayato</th>\n",
       "      <th>009-1</th>\n",
       "      <th>07-Ghost</th>\n",
       "      <th>100% Pascal-sensei (TV)</th>\n",
       "      <th>100-man no Inochi no Ue ni Ore wa Tatteiru</th>\n",
       "      <th>11eyes</th>\n",
       "      <th>...</th>\n",
       "      <th>ef: A Tale of Memories.</th>\n",
       "      <th>gdMen</th>\n",
       "      <th>gdgd Fairies</th>\n",
       "      <th>gdgd Fairies 2</th>\n",
       "      <th>iDOLM@STER Xenoglossia</th>\n",
       "      <th>number24</th>\n",
       "      <th>s.CRY.ed</th>\n",
       "      <th>xxxHOLiC</th>\n",
       "      <th>xxxHOLiC Kei</th>\n",
       "      <th>ēlDLIVE</th>\n",
       "    </tr>\n",
       "    <tr>\n",
       "      <th>user_id</th>\n",
       "      <th></th>\n",
       "      <th></th>\n",
       "      <th></th>\n",
       "      <th></th>\n",
       "      <th></th>\n",
       "      <th></th>\n",
       "      <th></th>\n",
       "      <th></th>\n",
       "      <th></th>\n",
       "      <th></th>\n",
       "      <th></th>\n",
       "      <th></th>\n",
       "      <th></th>\n",
       "      <th></th>\n",
       "      <th></th>\n",
       "      <th></th>\n",
       "      <th></th>\n",
       "      <th></th>\n",
       "      <th></th>\n",
       "      <th></th>\n",
       "      <th></th>\n",
       "    </tr>\n",
       "  </thead>\n",
       "  <tbody>\n",
       "    <tr>\n",
       "      <th>3</th>\n",
       "      <td>0.0</td>\n",
       "      <td>0.0</td>\n",
       "      <td>0.0</td>\n",
       "      <td>0.0</td>\n",
       "      <td>0.0</td>\n",
       "      <td>0.0</td>\n",
       "      <td>0.0</td>\n",
       "      <td>0.0</td>\n",
       "      <td>0.0</td>\n",
       "      <td>0.0</td>\n",
       "      <td>...</td>\n",
       "      <td>0.0</td>\n",
       "      <td>0.0</td>\n",
       "      <td>0.0</td>\n",
       "      <td>0.0</td>\n",
       "      <td>0.0</td>\n",
       "      <td>0.0</td>\n",
       "      <td>0.0</td>\n",
       "      <td>0.0</td>\n",
       "      <td>0.0</td>\n",
       "      <td>0.0</td>\n",
       "    </tr>\n",
       "    <tr>\n",
       "      <th>6</th>\n",
       "      <td>0.0</td>\n",
       "      <td>0.0</td>\n",
       "      <td>0.0</td>\n",
       "      <td>0.0</td>\n",
       "      <td>0.0</td>\n",
       "      <td>0.0</td>\n",
       "      <td>0.0</td>\n",
       "      <td>0.0</td>\n",
       "      <td>0.0</td>\n",
       "      <td>7.0</td>\n",
       "      <td>...</td>\n",
       "      <td>0.0</td>\n",
       "      <td>0.0</td>\n",
       "      <td>0.0</td>\n",
       "      <td>0.0</td>\n",
       "      <td>0.0</td>\n",
       "      <td>0.0</td>\n",
       "      <td>0.0</td>\n",
       "      <td>0.0</td>\n",
       "      <td>0.0</td>\n",
       "      <td>0.0</td>\n",
       "    </tr>\n",
       "    <tr>\n",
       "      <th>16</th>\n",
       "      <td>0.0</td>\n",
       "      <td>0.0</td>\n",
       "      <td>0.0</td>\n",
       "      <td>0.0</td>\n",
       "      <td>0.0</td>\n",
       "      <td>0.0</td>\n",
       "      <td>0.0</td>\n",
       "      <td>0.0</td>\n",
       "      <td>0.0</td>\n",
       "      <td>0.0</td>\n",
       "      <td>...</td>\n",
       "      <td>0.0</td>\n",
       "      <td>0.0</td>\n",
       "      <td>0.0</td>\n",
       "      <td>0.0</td>\n",
       "      <td>0.0</td>\n",
       "      <td>0.0</td>\n",
       "      <td>0.0</td>\n",
       "      <td>7.0</td>\n",
       "      <td>0.0</td>\n",
       "      <td>0.0</td>\n",
       "    </tr>\n",
       "    <tr>\n",
       "      <th>17</th>\n",
       "      <td>0.0</td>\n",
       "      <td>0.0</td>\n",
       "      <td>0.0</td>\n",
       "      <td>0.0</td>\n",
       "      <td>0.0</td>\n",
       "      <td>0.0</td>\n",
       "      <td>5.0</td>\n",
       "      <td>0.0</td>\n",
       "      <td>0.0</td>\n",
       "      <td>10.0</td>\n",
       "      <td>...</td>\n",
       "      <td>6.0</td>\n",
       "      <td>0.0</td>\n",
       "      <td>0.0</td>\n",
       "      <td>0.0</td>\n",
       "      <td>0.0</td>\n",
       "      <td>0.0</td>\n",
       "      <td>0.0</td>\n",
       "      <td>0.0</td>\n",
       "      <td>0.0</td>\n",
       "      <td>0.0</td>\n",
       "    </tr>\n",
       "    <tr>\n",
       "      <th>19</th>\n",
       "      <td>0.0</td>\n",
       "      <td>0.0</td>\n",
       "      <td>0.0</td>\n",
       "      <td>0.0</td>\n",
       "      <td>0.0</td>\n",
       "      <td>0.0</td>\n",
       "      <td>0.0</td>\n",
       "      <td>0.0</td>\n",
       "      <td>0.0</td>\n",
       "      <td>0.0</td>\n",
       "      <td>...</td>\n",
       "      <td>6.0</td>\n",
       "      <td>0.0</td>\n",
       "      <td>0.0</td>\n",
       "      <td>0.0</td>\n",
       "      <td>0.0</td>\n",
       "      <td>0.0</td>\n",
       "      <td>0.0</td>\n",
       "      <td>0.0</td>\n",
       "      <td>0.0</td>\n",
       "      <td>0.0</td>\n",
       "    </tr>\n",
       "  </tbody>\n",
       "</table>\n",
       "<p>5 rows × 4686 columns</p>\n",
       "</div>"
      ],
      "text/plain": [
       "Name     \"Eikou Naki Tensai-tachi\" Kara no Monogatari  .hack//Roots  \\\n",
       "user_id                                                               \n",
       "3                                                 0.0           0.0   \n",
       "6                                                 0.0           0.0   \n",
       "16                                                0.0           0.0   \n",
       "17                                                0.0           0.0   \n",
       "19                                                0.0           0.0   \n",
       "\n",
       "Name     .hack//Sign  .hack//Tasogare no Udewa Densetsu  0-sen Hayato  009-1  \\\n",
       "user_id                                                                        \n",
       "3                0.0                                0.0           0.0    0.0   \n",
       "6                0.0                                0.0           0.0    0.0   \n",
       "16               0.0                                0.0           0.0    0.0   \n",
       "17               0.0                                0.0           0.0    0.0   \n",
       "19               0.0                                0.0           0.0    0.0   \n",
       "\n",
       "Name     07-Ghost  100% Pascal-sensei (TV)  \\\n",
       "user_id                                      \n",
       "3             0.0                      0.0   \n",
       "6             0.0                      0.0   \n",
       "16            0.0                      0.0   \n",
       "17            5.0                      0.0   \n",
       "19            0.0                      0.0   \n",
       "\n",
       "Name     100-man no Inochi no Ue ni Ore wa Tatteiru  11eyes  ...  \\\n",
       "user_id                                                      ...   \n",
       "3                                               0.0     0.0  ...   \n",
       "6                                               0.0     7.0  ...   \n",
       "16                                              0.0     0.0  ...   \n",
       "17                                              0.0    10.0  ...   \n",
       "19                                              0.0     0.0  ...   \n",
       "\n",
       "Name     ef: A Tale of Memories.  gdMen  gdgd Fairies  gdgd Fairies 2  \\\n",
       "user_id                                                                 \n",
       "3                            0.0    0.0           0.0             0.0   \n",
       "6                            0.0    0.0           0.0             0.0   \n",
       "16                           0.0    0.0           0.0             0.0   \n",
       "17                           6.0    0.0           0.0             0.0   \n",
       "19                           6.0    0.0           0.0             0.0   \n",
       "\n",
       "Name     iDOLM@STER Xenoglossia  number24  s.CRY.ed  xxxHOLiC  xxxHOLiC Kei  \\\n",
       "user_id                                                                       \n",
       "3                           0.0       0.0       0.0       0.0           0.0   \n",
       "6                           0.0       0.0       0.0       0.0           0.0   \n",
       "16                          0.0       0.0       0.0       7.0           0.0   \n",
       "17                          0.0       0.0       0.0       0.0           0.0   \n",
       "19                          0.0       0.0       0.0       0.0           0.0   \n",
       "\n",
       "Name     ēlDLIVE  \n",
       "user_id           \n",
       "3            0.0  \n",
       "6            0.0  \n",
       "16           0.0  \n",
       "17           0.0  \n",
       "19           0.0  \n",
       "\n",
       "[5 rows x 4686 columns]"
      ]
     },
     "execution_count": 50,
     "metadata": {},
     "output_type": "execute_result"
    }
   ],
   "source": [
    "user_pivot.head(5)"
   ]
  },
  {
   "attachments": {},
   "cell_type": "markdown",
   "metadata": {},
   "source": [
    "Understand the data\n",
    "- How sparse\n",
    "- Distribution of ratings\n",
    "\n",
    "Precompute item-item similarity matrix\n",
    "\n",
    "calculate average rating by user (e.g. 7)\n",
    "- in memory\n",
    "- in database"
   ]
  },
  {
   "attachments": {},
   "cell_type": "markdown",
   "metadata": {},
   "source": [
    "## User-based CF"
   ]
  },
  {
   "cell_type": "code",
   "execution_count": null,
   "metadata": {},
   "outputs": [],
   "source": []
  },
  {
   "attachments": {},
   "cell_type": "markdown",
   "metadata": {},
   "source": [
    "Calculating all consine similarity takes ages."
   ]
  },
  {
   "cell_type": "code",
   "execution_count": 31,
   "metadata": {},
   "outputs": [],
   "source": [
    "# from sklearn.metrics.pairwise import cosine_similarity\n",
    "\n",
    "# # Calculate the cosine similarity between users\n",
    "# user_similarity_matrix = cosine_similarity(anime_pivot.T)"
   ]
  },
  {
   "attachments": {},
   "cell_type": "markdown",
   "metadata": {},
   "source": [
    "To speed up the process, using sparse matrix "
   ]
  },
  {
   "cell_type": "code",
   "execution_count": 16,
   "metadata": {},
   "outputs": [],
   "source": [
    "from scipy.sparse import csr_matrix\n",
    "#Creating a sparse matrix\n",
    "user_anime_matrix = csr_matrix(user_pivot.values)"
   ]
  },
  {
   "cell_type": "code",
   "execution_count": 32,
   "metadata": {},
   "outputs": [],
   "source": [
    "from sklearn.cluster import KMeans\n",
    "from sklearn.metrics.pairwise import cosine_similarity"
   ]
  },
  {
   "cell_type": "code",
   "execution_count": null,
   "metadata": {},
   "outputs": [],
   "source": [
    "# from sklearn.metrics import silhouette_score\n",
    "\n",
    "# max_clusters = 20\n",
    "# silhouette_scores = []\n",
    "\n",
    "# for n_clusters in range(2, max_clusters + 1):\n",
    "#     kmeans = KMeans(n_clusters=n_clusters, random_state=42)\n",
    "#     cluster_labels = kmeans.fit_predict(user_anime_matrix)\n",
    "#     silhouette_avg = silhouette_score(user_anime_matrix, cluster_labels)\n",
    "#     silhouette_scores.append(silhouette_avg)\n",
    "\n",
    "# plt.plot(range(2, max_clusters + 1), silhouette_scores, marker='o')\n",
    "# plt.xlabel('Number of Clusters (k)')\n",
    "# plt.ylabel('Silhouette Score')\n",
    "# plt.show()"
   ]
  },
  {
   "cell_type": "code",
   "execution_count": null,
   "metadata": {},
   "outputs": [],
   "source": [
    "optimal_k = 10  # Replace with the optimal number of clusters determined in the previous step\n",
    "kmeans = KMeans(n_clusters=optimal_k, random_state=42)\n",
    "user_clusters = kmeans.fit_predict(user_anime_matrix)"
   ]
  },
  {
   "cell_type": "code",
   "execution_count": 43,
   "metadata": {},
   "outputs": [
    {
     "data": {
      "text/plain": [
       "6"
      ]
     },
     "execution_count": 43,
     "metadata": {},
     "output_type": "execute_result"
    }
   ],
   "source": [
    "user_clusters[6]"
   ]
  },
  {
   "cell_type": "code",
   "execution_count": 52,
   "metadata": {},
   "outputs": [],
   "source": [
    "def recommend_items_in_cluster(user_id, k=10):\n",
    "    user_index = user_pivot.index.get_loc(user_id)\n",
    "    cluster_id = user_clusters[user_index]\n",
    "    users_in_cluster = np.where(user_clusters == cluster_id)[0]\n",
    "    print('-------users in cluster------')\n",
    "\n",
    "    cluster_similarity = cosine_similarity(user_anime_matrix[users_in_cluster])\n",
    "    norm = np.abs(cluster_similarity).sum(axis=1)\n",
    "    predicted_ratings = cluster_similarity.dot(user_pivot.iloc[users_in_cluster].values) / norm[:, np.newaxis]\n",
    "    print('-------predicted ratings------')\n",
    "\n",
    "    unrated_items = np.where(user_pivot.iloc[user_index] == 0)[0]\n",
    "    item_indices = np.argsort(predicted_ratings[user_index, unrated_items])[-k:][::-1]\n",
    "    recommended_item_ids = user_pivot.columns[unrated_items[item_indices]]\n",
    "    return recommended_item_ids"
   ]
  },
  {
   "cell_type": "code",
   "execution_count": 49,
   "metadata": {},
   "outputs": [],
   "source": [
    "user_index = user_pivot.index.get_loc(6)\n",
    "cluster_id = user_clusters[user_index]\n",
    "users_in_cluster = np.where(user_clusters == cluster_id)[0]"
   ]
  },
  {
   "cell_type": "code",
   "execution_count": 53,
   "metadata": {},
   "outputs": [
    {
     "name": "stdout",
     "output_type": "stream",
     "text": [
      "-------Users in the same cluster-------\n",
      "-------raitings predicted------\n"
     ]
    }
   ],
   "source": [
    "recommended_anime = recommend_items_in_cluster(6, k=10)"
   ]
  },
  {
   "cell_type": "code",
   "execution_count": 54,
   "metadata": {},
   "outputs": [
    {
     "data": {
      "text/plain": [
       "Index(['Shingeki no Kyojin', 'Steins;Gate', 'One Punch Man', 'Psycho-Pass',\n",
       "       'Fate/Zero', 'Fate/Zero 2nd Season', 'Bakemonogatari', 'Kill la Kill',\n",
       "       'Samurai Champloo', 'Kiseijuu: Sei no Kakuritsu'],\n",
       "      dtype='object', name='Name')"
      ]
     },
     "execution_count": 54,
     "metadata": {},
     "output_type": "execute_result"
    }
   ],
   "source": [
    "recommended_anime"
   ]
  },
  {
   "attachments": {},
   "cell_type": "markdown",
   "metadata": {},
   "source": [
    "#### Cosine Similarity\n",
    "This process takes too long, since there is 95081 users"
   ]
  },
  {
   "cell_type": "code",
   "execution_count": 52,
   "metadata": {},
   "outputs": [],
   "source": [
    "from sklearn.metrics.pairwise import cosine_similarity\n",
    "\n",
    "# Calculate the cosine similarity between users\n",
    "user_similarity = cosine_similarity(user_anime_matrix)"
   ]
  },
  {
   "cell_type": "code",
   "execution_count": 41,
   "metadata": {},
   "outputs": [],
   "source": [
    "# Generate recommendations using the similarity scores\n",
    "norm = np.abs(user_similarity).sum(axis=1)\n",
    "predicted_ratings = user_similarity.dot(user_pivot.values) / norm[:, np.newaxis]"
   ]
  },
  {
   "cell_type": "code",
   "execution_count": 42,
   "metadata": {},
   "outputs": [],
   "source": [
    "def recommend_items(user_id, k=10):\n",
    "    user_index = user_pivot.index.get_loc(user_id)\n",
    "    unrated_items = np.where(user_pivot.iloc[user_index] == 0)[0]\n",
    "    item_indices = np.argsort(predicted_ratings[user_index, unrated_items])[-k:][::-1]\n",
    "    recommended_item_ids = user_pivot.columns[unrated_items[item_indices]]\n",
    "    return recommended_item_ids"
   ]
  },
  {
   "cell_type": "code",
   "execution_count": 48,
   "metadata": {},
   "outputs": [
    {
     "data": {
      "text/plain": [
       "2829"
      ]
     },
     "execution_count": 48,
     "metadata": {},
     "output_type": "execute_result"
    }
   ],
   "source": [
    "anime_pivot.index.get_loc('Naruto')"
   ]
  },
  {
   "attachments": {},
   "cell_type": "markdown",
   "metadata": {},
   "source": [
    "## Item-based CF"
   ]
  },
  {
   "cell_type": "code",
   "execution_count": 133,
   "metadata": {},
   "outputs": [],
   "source": [
    "from scipy.sparse import csr_matrix\n",
    "#Creating a sparse matrix\n",
    "anime_user_matrix = csr_matrix(anime_pivot.values)"
   ]
  },
  {
   "cell_type": "code",
   "execution_count": 134,
   "metadata": {},
   "outputs": [],
   "source": [
    "from sklearn.metrics.pairwise import cosine_similarity\n",
    "\n",
    "# Calculate the cosine similarity between users\n",
    "anime_similarity = cosine_similarity(anime_user_matrix)"
   ]
  },
  {
   "cell_type": "code",
   "execution_count": 135,
   "metadata": {},
   "outputs": [
    {
     "data": {
      "text/plain": [
       "(4686, 4686)"
      ]
     },
     "execution_count": 135,
     "metadata": {},
     "output_type": "execute_result"
    }
   ],
   "source": [
    "anime_similarity.shape"
   ]
  },
  {
   "cell_type": "code",
   "execution_count": 139,
   "metadata": {},
   "outputs": [],
   "source": [
    "anime_similarity_matrix = pd.DataFrame(anime_similarity, index=anime_pivot.index, columns=anime_pivot.index)\n"
   ]
  },
  {
   "cell_type": "code",
   "execution_count": 140,
   "metadata": {},
   "outputs": [],
   "source": [
    "# anime_similarity_matrix.to_csv('anime_similarity_matrix.csv')"
   ]
  },
  {
   "cell_type": "code",
   "execution_count": 141,
   "metadata": {},
   "outputs": [
    {
     "data": {
      "text/html": [
       "<div>\n",
       "<style scoped>\n",
       "    .dataframe tbody tr th:only-of-type {\n",
       "        vertical-align: middle;\n",
       "    }\n",
       "\n",
       "    .dataframe tbody tr th {\n",
       "        vertical-align: top;\n",
       "    }\n",
       "\n",
       "    .dataframe thead th {\n",
       "        text-align: right;\n",
       "    }\n",
       "</style>\n",
       "<table border=\"1\" class=\"dataframe\">\n",
       "  <thead>\n",
       "    <tr style=\"text-align: right;\">\n",
       "      <th>Name</th>\n",
       "      <th>\"Eikou Naki Tensai-tachi\" Kara no Monogatari</th>\n",
       "      <th>.hack//Roots</th>\n",
       "      <th>.hack//Sign</th>\n",
       "      <th>.hack//Tasogare no Udewa Densetsu</th>\n",
       "      <th>0-sen Hayato</th>\n",
       "      <th>009-1</th>\n",
       "      <th>07-Ghost</th>\n",
       "      <th>100% Pascal-sensei (TV)</th>\n",
       "      <th>100-man no Inochi no Ue ni Ore wa Tatteiru</th>\n",
       "      <th>11eyes</th>\n",
       "      <th>...</th>\n",
       "      <th>ef: A Tale of Memories.</th>\n",
       "      <th>gdMen</th>\n",
       "      <th>gdgd Fairies</th>\n",
       "      <th>gdgd Fairies 2</th>\n",
       "      <th>iDOLM@STER Xenoglossia</th>\n",
       "      <th>number24</th>\n",
       "      <th>s.CRY.ed</th>\n",
       "      <th>xxxHOLiC</th>\n",
       "      <th>xxxHOLiC Kei</th>\n",
       "      <th>ēlDLIVE</th>\n",
       "    </tr>\n",
       "    <tr>\n",
       "      <th>Name</th>\n",
       "      <th></th>\n",
       "      <th></th>\n",
       "      <th></th>\n",
       "      <th></th>\n",
       "      <th></th>\n",
       "      <th></th>\n",
       "      <th></th>\n",
       "      <th></th>\n",
       "      <th></th>\n",
       "      <th></th>\n",
       "      <th></th>\n",
       "      <th></th>\n",
       "      <th></th>\n",
       "      <th></th>\n",
       "      <th></th>\n",
       "      <th></th>\n",
       "      <th></th>\n",
       "      <th></th>\n",
       "      <th></th>\n",
       "      <th></th>\n",
       "      <th></th>\n",
       "    </tr>\n",
       "  </thead>\n",
       "  <tbody>\n",
       "    <tr>\n",
       "      <th>\"Eikou Naki Tensai-tachi\" Kara no Monogatari</th>\n",
       "      <td>1.000000</td>\n",
       "      <td>0.043050</td>\n",
       "      <td>0.031068</td>\n",
       "      <td>0.039140</td>\n",
       "      <td>0.359077</td>\n",
       "      <td>0.061288</td>\n",
       "      <td>0.025898</td>\n",
       "      <td>0.243398</td>\n",
       "      <td>0.013359</td>\n",
       "      <td>0.021323</td>\n",
       "      <td>...</td>\n",
       "      <td>0.013642</td>\n",
       "      <td>0.174852</td>\n",
       "      <td>0.089398</td>\n",
       "      <td>0.104317</td>\n",
       "      <td>0.051932</td>\n",
       "      <td>0.052530</td>\n",
       "      <td>0.025948</td>\n",
       "      <td>0.014388</td>\n",
       "      <td>0.016514</td>\n",
       "      <td>0.052274</td>\n",
       "    </tr>\n",
       "    <tr>\n",
       "      <th>.hack//Roots</th>\n",
       "      <td>0.043050</td>\n",
       "      <td>1.000000</td>\n",
       "      <td>0.608247</td>\n",
       "      <td>0.627106</td>\n",
       "      <td>0.035759</td>\n",
       "      <td>0.159453</td>\n",
       "      <td>0.242873</td>\n",
       "      <td>0.047480</td>\n",
       "      <td>0.067516</td>\n",
       "      <td>0.225486</td>\n",
       "      <td>...</td>\n",
       "      <td>0.200801</td>\n",
       "      <td>0.041495</td>\n",
       "      <td>0.038221</td>\n",
       "      <td>0.036983</td>\n",
       "      <td>0.145798</td>\n",
       "      <td>0.036253</td>\n",
       "      <td>0.268731</td>\n",
       "      <td>0.252930</td>\n",
       "      <td>0.221780</td>\n",
       "      <td>0.089502</td>\n",
       "    </tr>\n",
       "    <tr>\n",
       "      <th>.hack//Sign</th>\n",
       "      <td>0.031068</td>\n",
       "      <td>0.608247</td>\n",
       "      <td>1.000000</td>\n",
       "      <td>0.617991</td>\n",
       "      <td>0.028296</td>\n",
       "      <td>0.159776</td>\n",
       "      <td>0.257153</td>\n",
       "      <td>0.041870</td>\n",
       "      <td>0.086799</td>\n",
       "      <td>0.241392</td>\n",
       "      <td>...</td>\n",
       "      <td>0.266195</td>\n",
       "      <td>0.044357</td>\n",
       "      <td>0.058642</td>\n",
       "      <td>0.055379</td>\n",
       "      <td>0.161287</td>\n",
       "      <td>0.038881</td>\n",
       "      <td>0.334300</td>\n",
       "      <td>0.304550</td>\n",
       "      <td>0.257959</td>\n",
       "      <td>0.096283</td>\n",
       "    </tr>\n",
       "    <tr>\n",
       "      <th>.hack//Tasogare no Udewa Densetsu</th>\n",
       "      <td>0.039140</td>\n",
       "      <td>0.627106</td>\n",
       "      <td>0.617991</td>\n",
       "      <td>1.000000</td>\n",
       "      <td>0.031244</td>\n",
       "      <td>0.163404</td>\n",
       "      <td>0.216418</td>\n",
       "      <td>0.048943</td>\n",
       "      <td>0.064822</td>\n",
       "      <td>0.210310</td>\n",
       "      <td>...</td>\n",
       "      <td>0.199973</td>\n",
       "      <td>0.042036</td>\n",
       "      <td>0.043547</td>\n",
       "      <td>0.044169</td>\n",
       "      <td>0.148732</td>\n",
       "      <td>0.038442</td>\n",
       "      <td>0.274663</td>\n",
       "      <td>0.244880</td>\n",
       "      <td>0.209459</td>\n",
       "      <td>0.082358</td>\n",
       "    </tr>\n",
       "    <tr>\n",
       "      <th>0-sen Hayato</th>\n",
       "      <td>0.359077</td>\n",
       "      <td>0.035759</td>\n",
       "      <td>0.028296</td>\n",
       "      <td>0.031244</td>\n",
       "      <td>1.000000</td>\n",
       "      <td>0.068355</td>\n",
       "      <td>0.022893</td>\n",
       "      <td>0.177301</td>\n",
       "      <td>0.007763</td>\n",
       "      <td>0.022868</td>\n",
       "      <td>...</td>\n",
       "      <td>0.016415</td>\n",
       "      <td>0.110248</td>\n",
       "      <td>0.079647</td>\n",
       "      <td>0.086141</td>\n",
       "      <td>0.042017</td>\n",
       "      <td>0.016104</td>\n",
       "      <td>0.024962</td>\n",
       "      <td>0.010557</td>\n",
       "      <td>0.011269</td>\n",
       "      <td>0.026002</td>\n",
       "    </tr>\n",
       "    <tr>\n",
       "      <th>...</th>\n",
       "      <td>...</td>\n",
       "      <td>...</td>\n",
       "      <td>...</td>\n",
       "      <td>...</td>\n",
       "      <td>...</td>\n",
       "      <td>...</td>\n",
       "      <td>...</td>\n",
       "      <td>...</td>\n",
       "      <td>...</td>\n",
       "      <td>...</td>\n",
       "      <td>...</td>\n",
       "      <td>...</td>\n",
       "      <td>...</td>\n",
       "      <td>...</td>\n",
       "      <td>...</td>\n",
       "      <td>...</td>\n",
       "      <td>...</td>\n",
       "      <td>...</td>\n",
       "      <td>...</td>\n",
       "      <td>...</td>\n",
       "      <td>...</td>\n",
       "    </tr>\n",
       "    <tr>\n",
       "      <th>number24</th>\n",
       "      <td>0.052530</td>\n",
       "      <td>0.036253</td>\n",
       "      <td>0.038881</td>\n",
       "      <td>0.038442</td>\n",
       "      <td>0.016104</td>\n",
       "      <td>0.026063</td>\n",
       "      <td>0.101522</td>\n",
       "      <td>0.067530</td>\n",
       "      <td>0.090741</td>\n",
       "      <td>0.044214</td>\n",
       "      <td>...</td>\n",
       "      <td>0.029215</td>\n",
       "      <td>0.087388</td>\n",
       "      <td>0.025311</td>\n",
       "      <td>0.027458</td>\n",
       "      <td>0.022267</td>\n",
       "      <td>1.000000</td>\n",
       "      <td>0.030258</td>\n",
       "      <td>0.050796</td>\n",
       "      <td>0.051432</td>\n",
       "      <td>0.090429</td>\n",
       "    </tr>\n",
       "    <tr>\n",
       "      <th>s.CRY.ed</th>\n",
       "      <td>0.025948</td>\n",
       "      <td>0.268731</td>\n",
       "      <td>0.334300</td>\n",
       "      <td>0.274663</td>\n",
       "      <td>0.024962</td>\n",
       "      <td>0.151100</td>\n",
       "      <td>0.202920</td>\n",
       "      <td>0.033857</td>\n",
       "      <td>0.065587</td>\n",
       "      <td>0.187535</td>\n",
       "      <td>...</td>\n",
       "      <td>0.184436</td>\n",
       "      <td>0.029698</td>\n",
       "      <td>0.042386</td>\n",
       "      <td>0.038771</td>\n",
       "      <td>0.123657</td>\n",
       "      <td>0.030258</td>\n",
       "      <td>1.000000</td>\n",
       "      <td>0.223684</td>\n",
       "      <td>0.186397</td>\n",
       "      <td>0.086214</td>\n",
       "    </tr>\n",
       "    <tr>\n",
       "      <th>xxxHOLiC</th>\n",
       "      <td>0.014388</td>\n",
       "      <td>0.252930</td>\n",
       "      <td>0.304550</td>\n",
       "      <td>0.244880</td>\n",
       "      <td>0.010557</td>\n",
       "      <td>0.127062</td>\n",
       "      <td>0.329571</td>\n",
       "      <td>0.030107</td>\n",
       "      <td>0.090883</td>\n",
       "      <td>0.265821</td>\n",
       "      <td>...</td>\n",
       "      <td>0.329314</td>\n",
       "      <td>0.029691</td>\n",
       "      <td>0.039386</td>\n",
       "      <td>0.036134</td>\n",
       "      <td>0.120902</td>\n",
       "      <td>0.050796</td>\n",
       "      <td>0.223684</td>\n",
       "      <td>1.000000</td>\n",
       "      <td>0.844965</td>\n",
       "      <td>0.105738</td>\n",
       "    </tr>\n",
       "    <tr>\n",
       "      <th>xxxHOLiC Kei</th>\n",
       "      <td>0.016514</td>\n",
       "      <td>0.221780</td>\n",
       "      <td>0.257959</td>\n",
       "      <td>0.209459</td>\n",
       "      <td>0.011269</td>\n",
       "      <td>0.106462</td>\n",
       "      <td>0.312473</td>\n",
       "      <td>0.029946</td>\n",
       "      <td>0.083176</td>\n",
       "      <td>0.239040</td>\n",
       "      <td>...</td>\n",
       "      <td>0.303889</td>\n",
       "      <td>0.027287</td>\n",
       "      <td>0.033525</td>\n",
       "      <td>0.030050</td>\n",
       "      <td>0.109867</td>\n",
       "      <td>0.051432</td>\n",
       "      <td>0.186397</td>\n",
       "      <td>0.844965</td>\n",
       "      <td>1.000000</td>\n",
       "      <td>0.100838</td>\n",
       "    </tr>\n",
       "    <tr>\n",
       "      <th>ēlDLIVE</th>\n",
       "      <td>0.052274</td>\n",
       "      <td>0.089502</td>\n",
       "      <td>0.096283</td>\n",
       "      <td>0.082358</td>\n",
       "      <td>0.026002</td>\n",
       "      <td>0.065339</td>\n",
       "      <td>0.136882</td>\n",
       "      <td>0.093258</td>\n",
       "      <td>0.156252</td>\n",
       "      <td>0.155070</td>\n",
       "      <td>...</td>\n",
       "      <td>0.088123</td>\n",
       "      <td>0.083754</td>\n",
       "      <td>0.036809</td>\n",
       "      <td>0.042899</td>\n",
       "      <td>0.065530</td>\n",
       "      <td>0.090429</td>\n",
       "      <td>0.086214</td>\n",
       "      <td>0.105738</td>\n",
       "      <td>0.100838</td>\n",
       "      <td>1.000000</td>\n",
       "    </tr>\n",
       "  </tbody>\n",
       "</table>\n",
       "<p>4686 rows × 4686 columns</p>\n",
       "</div>"
      ],
      "text/plain": [
       "Name                                          \"Eikou Naki Tensai-tachi\" Kara no Monogatari  \\\n",
       "Name                                                                                         \n",
       "\"Eikou Naki Tensai-tachi\" Kara no Monogatari                                      1.000000   \n",
       ".hack//Roots                                                                      0.043050   \n",
       ".hack//Sign                                                                       0.031068   \n",
       ".hack//Tasogare no Udewa Densetsu                                                 0.039140   \n",
       "0-sen Hayato                                                                      0.359077   \n",
       "...                                                                                    ...   \n",
       "number24                                                                          0.052530   \n",
       "s.CRY.ed                                                                          0.025948   \n",
       "xxxHOLiC                                                                          0.014388   \n",
       "xxxHOLiC Kei                                                                      0.016514   \n",
       "ēlDLIVE                                                                           0.052274   \n",
       "\n",
       "Name                                          .hack//Roots  .hack//Sign  \\\n",
       "Name                                                                      \n",
       "\"Eikou Naki Tensai-tachi\" Kara no Monogatari      0.043050     0.031068   \n",
       ".hack//Roots                                      1.000000     0.608247   \n",
       ".hack//Sign                                       0.608247     1.000000   \n",
       ".hack//Tasogare no Udewa Densetsu                 0.627106     0.617991   \n",
       "0-sen Hayato                                      0.035759     0.028296   \n",
       "...                                                    ...          ...   \n",
       "number24                                          0.036253     0.038881   \n",
       "s.CRY.ed                                          0.268731     0.334300   \n",
       "xxxHOLiC                                          0.252930     0.304550   \n",
       "xxxHOLiC Kei                                      0.221780     0.257959   \n",
       "ēlDLIVE                                           0.089502     0.096283   \n",
       "\n",
       "Name                                          .hack//Tasogare no Udewa Densetsu  \\\n",
       "Name                                                                              \n",
       "\"Eikou Naki Tensai-tachi\" Kara no Monogatari                           0.039140   \n",
       ".hack//Roots                                                           0.627106   \n",
       ".hack//Sign                                                            0.617991   \n",
       ".hack//Tasogare no Udewa Densetsu                                      1.000000   \n",
       "0-sen Hayato                                                           0.031244   \n",
       "...                                                                         ...   \n",
       "number24                                                               0.038442   \n",
       "s.CRY.ed                                                               0.274663   \n",
       "xxxHOLiC                                                               0.244880   \n",
       "xxxHOLiC Kei                                                           0.209459   \n",
       "ēlDLIVE                                                                0.082358   \n",
       "\n",
       "Name                                          0-sen Hayato     009-1  \\\n",
       "Name                                                                   \n",
       "\"Eikou Naki Tensai-tachi\" Kara no Monogatari      0.359077  0.061288   \n",
       ".hack//Roots                                      0.035759  0.159453   \n",
       ".hack//Sign                                       0.028296  0.159776   \n",
       ".hack//Tasogare no Udewa Densetsu                 0.031244  0.163404   \n",
       "0-sen Hayato                                      1.000000  0.068355   \n",
       "...                                                    ...       ...   \n",
       "number24                                          0.016104  0.026063   \n",
       "s.CRY.ed                                          0.024962  0.151100   \n",
       "xxxHOLiC                                          0.010557  0.127062   \n",
       "xxxHOLiC Kei                                      0.011269  0.106462   \n",
       "ēlDLIVE                                           0.026002  0.065339   \n",
       "\n",
       "Name                                          07-Ghost  \\\n",
       "Name                                                     \n",
       "\"Eikou Naki Tensai-tachi\" Kara no Monogatari  0.025898   \n",
       ".hack//Roots                                  0.242873   \n",
       ".hack//Sign                                   0.257153   \n",
       ".hack//Tasogare no Udewa Densetsu             0.216418   \n",
       "0-sen Hayato                                  0.022893   \n",
       "...                                                ...   \n",
       "number24                                      0.101522   \n",
       "s.CRY.ed                                      0.202920   \n",
       "xxxHOLiC                                      0.329571   \n",
       "xxxHOLiC Kei                                  0.312473   \n",
       "ēlDLIVE                                       0.136882   \n",
       "\n",
       "Name                                          100% Pascal-sensei (TV)  \\\n",
       "Name                                                                    \n",
       "\"Eikou Naki Tensai-tachi\" Kara no Monogatari                 0.243398   \n",
       ".hack//Roots                                                 0.047480   \n",
       ".hack//Sign                                                  0.041870   \n",
       ".hack//Tasogare no Udewa Densetsu                            0.048943   \n",
       "0-sen Hayato                                                 0.177301   \n",
       "...                                                               ...   \n",
       "number24                                                     0.067530   \n",
       "s.CRY.ed                                                     0.033857   \n",
       "xxxHOLiC                                                     0.030107   \n",
       "xxxHOLiC Kei                                                 0.029946   \n",
       "ēlDLIVE                                                      0.093258   \n",
       "\n",
       "Name                                          100-man no Inochi no Ue ni Ore wa Tatteiru  \\\n",
       "Name                                                                                       \n",
       "\"Eikou Naki Tensai-tachi\" Kara no Monogatari                                    0.013359   \n",
       ".hack//Roots                                                                    0.067516   \n",
       ".hack//Sign                                                                     0.086799   \n",
       ".hack//Tasogare no Udewa Densetsu                                               0.064822   \n",
       "0-sen Hayato                                                                    0.007763   \n",
       "...                                                                                  ...   \n",
       "number24                                                                        0.090741   \n",
       "s.CRY.ed                                                                        0.065587   \n",
       "xxxHOLiC                                                                        0.090883   \n",
       "xxxHOLiC Kei                                                                    0.083176   \n",
       "ēlDLIVE                                                                         0.156252   \n",
       "\n",
       "Name                                            11eyes  ...  \\\n",
       "Name                                                    ...   \n",
       "\"Eikou Naki Tensai-tachi\" Kara no Monogatari  0.021323  ...   \n",
       ".hack//Roots                                  0.225486  ...   \n",
       ".hack//Sign                                   0.241392  ...   \n",
       ".hack//Tasogare no Udewa Densetsu             0.210310  ...   \n",
       "0-sen Hayato                                  0.022868  ...   \n",
       "...                                                ...  ...   \n",
       "number24                                      0.044214  ...   \n",
       "s.CRY.ed                                      0.187535  ...   \n",
       "xxxHOLiC                                      0.265821  ...   \n",
       "xxxHOLiC Kei                                  0.239040  ...   \n",
       "ēlDLIVE                                       0.155070  ...   \n",
       "\n",
       "Name                                          ef: A Tale of Memories.  \\\n",
       "Name                                                                    \n",
       "\"Eikou Naki Tensai-tachi\" Kara no Monogatari                 0.013642   \n",
       ".hack//Roots                                                 0.200801   \n",
       ".hack//Sign                                                  0.266195   \n",
       ".hack//Tasogare no Udewa Densetsu                            0.199973   \n",
       "0-sen Hayato                                                 0.016415   \n",
       "...                                                               ...   \n",
       "number24                                                     0.029215   \n",
       "s.CRY.ed                                                     0.184436   \n",
       "xxxHOLiC                                                     0.329314   \n",
       "xxxHOLiC Kei                                                 0.303889   \n",
       "ēlDLIVE                                                      0.088123   \n",
       "\n",
       "Name                                             gdMen  gdgd Fairies  \\\n",
       "Name                                                                   \n",
       "\"Eikou Naki Tensai-tachi\" Kara no Monogatari  0.174852      0.089398   \n",
       ".hack//Roots                                  0.041495      0.038221   \n",
       ".hack//Sign                                   0.044357      0.058642   \n",
       ".hack//Tasogare no Udewa Densetsu             0.042036      0.043547   \n",
       "0-sen Hayato                                  0.110248      0.079647   \n",
       "...                                                ...           ...   \n",
       "number24                                      0.087388      0.025311   \n",
       "s.CRY.ed                                      0.029698      0.042386   \n",
       "xxxHOLiC                                      0.029691      0.039386   \n",
       "xxxHOLiC Kei                                  0.027287      0.033525   \n",
       "ēlDLIVE                                       0.083754      0.036809   \n",
       "\n",
       "Name                                          gdgd Fairies 2  \\\n",
       "Name                                                           \n",
       "\"Eikou Naki Tensai-tachi\" Kara no Monogatari        0.104317   \n",
       ".hack//Roots                                        0.036983   \n",
       ".hack//Sign                                         0.055379   \n",
       ".hack//Tasogare no Udewa Densetsu                   0.044169   \n",
       "0-sen Hayato                                        0.086141   \n",
       "...                                                      ...   \n",
       "number24                                            0.027458   \n",
       "s.CRY.ed                                            0.038771   \n",
       "xxxHOLiC                                            0.036134   \n",
       "xxxHOLiC Kei                                        0.030050   \n",
       "ēlDLIVE                                             0.042899   \n",
       "\n",
       "Name                                          iDOLM@STER Xenoglossia  \\\n",
       "Name                                                                   \n",
       "\"Eikou Naki Tensai-tachi\" Kara no Monogatari                0.051932   \n",
       ".hack//Roots                                                0.145798   \n",
       ".hack//Sign                                                 0.161287   \n",
       ".hack//Tasogare no Udewa Densetsu                           0.148732   \n",
       "0-sen Hayato                                                0.042017   \n",
       "...                                                              ...   \n",
       "number24                                                    0.022267   \n",
       "s.CRY.ed                                                    0.123657   \n",
       "xxxHOLiC                                                    0.120902   \n",
       "xxxHOLiC Kei                                                0.109867   \n",
       "ēlDLIVE                                                     0.065530   \n",
       "\n",
       "Name                                          number24  s.CRY.ed  xxxHOLiC  \\\n",
       "Name                                                                         \n",
       "\"Eikou Naki Tensai-tachi\" Kara no Monogatari  0.052530  0.025948  0.014388   \n",
       ".hack//Roots                                  0.036253  0.268731  0.252930   \n",
       ".hack//Sign                                   0.038881  0.334300  0.304550   \n",
       ".hack//Tasogare no Udewa Densetsu             0.038442  0.274663  0.244880   \n",
       "0-sen Hayato                                  0.016104  0.024962  0.010557   \n",
       "...                                                ...       ...       ...   \n",
       "number24                                      1.000000  0.030258  0.050796   \n",
       "s.CRY.ed                                      0.030258  1.000000  0.223684   \n",
       "xxxHOLiC                                      0.050796  0.223684  1.000000   \n",
       "xxxHOLiC Kei                                  0.051432  0.186397  0.844965   \n",
       "ēlDLIVE                                       0.090429  0.086214  0.105738   \n",
       "\n",
       "Name                                          xxxHOLiC Kei   ēlDLIVE  \n",
       "Name                                                                  \n",
       "\"Eikou Naki Tensai-tachi\" Kara no Monogatari      0.016514  0.052274  \n",
       ".hack//Roots                                      0.221780  0.089502  \n",
       ".hack//Sign                                       0.257959  0.096283  \n",
       ".hack//Tasogare no Udewa Densetsu                 0.209459  0.082358  \n",
       "0-sen Hayato                                      0.011269  0.026002  \n",
       "...                                                    ...       ...  \n",
       "number24                                          0.051432  0.090429  \n",
       "s.CRY.ed                                          0.186397  0.086214  \n",
       "xxxHOLiC                                          0.844965  0.105738  \n",
       "xxxHOLiC Kei                                      1.000000  0.100838  \n",
       "ēlDLIVE                                           0.100838  1.000000  \n",
       "\n",
       "[4686 rows x 4686 columns]"
      ]
     },
     "execution_count": 141,
     "metadata": {},
     "output_type": "execute_result"
    },
    {
     "ename": "",
     "evalue": "",
     "output_type": "error",
     "traceback": [
      "\u001b[1;31mThe Kernel crashed while executing code in the the current cell or a previous cell. Please review the code in the cell(s) to identify a possible cause of the failure. Click <a href='https://aka.ms/vscodeJupyterKernelCrash'>here</a> for more info. View Jupyter <a href='command:jupyter.viewOutput'>log</a> for further details."
     ]
    }
   ],
   "source": [
    "anime_similarity_matrix"
   ]
  },
  {
   "cell_type": "code",
   "execution_count": 23,
   "metadata": {},
   "outputs": [],
   "source": [
    "# Generate recommendations using the similarity scores\n",
    "norm = np.abs(anime_similarity).sum(axis=1)\n",
    "predicted_anime_ratings = anime_similarity.dot(anime_pivot.values) / norm[:, np.newaxis]"
   ]
  },
  {
   "cell_type": "code",
   "execution_count": 30,
   "metadata": {},
   "outputs": [],
   "source": [
    "# Write a function to find top k similar anime from anime_pivot\n",
    "def recommend_item_base(anime_name, k=10):\n",
    "    anime_index = anime_pivot.index.get_loc(anime_name)\n",
    "    anime_indices = np.argsort(anime_similarity[anime_index])[-k:][::-1]\n",
    "    similar_anime_ids = anime_pivot.index[anime_indices]\n",
    "    return similar_anime_ids"
   ]
  },
  {
   "cell_type": "code",
   "execution_count": 34,
   "metadata": {},
   "outputs": [
    {
     "name": "stdout",
     "output_type": "stream",
     "text": [
      "Naruto\n",
      "Death Note\n",
      "Shingeki no Kyojin\n",
      "Naruto: Shippuuden\n",
      "Sword Art Online\n",
      "Fullmetal Alchemist: Brotherhood\n",
      "One Punch Man\n",
      "Tokyo Ghoul\n",
      "Code Geass: Hangyaku no Lelouch\n",
      "Ao no Exorcist\n"
     ]
    }
   ],
   "source": [
    "recs = recommend_item_base('Naruto')\n",
    "for r in recs:\n",
    "    print(r)"
   ]
  },
  {
   "attachments": {},
   "cell_type": "markdown",
   "metadata": {},
   "source": [
    "## Content Based Filtering"
   ]
  },
  {
   "cell_type": "code",
   "execution_count": 67,
   "metadata": {},
   "outputs": [],
   "source": [
    "from sklearn.feature_extraction.text import CountVectorizer\n",
    "from sklearn.metrics.pairwise import cosine_similarity"
   ]
  },
  {
   "cell_type": "code",
   "execution_count": 64,
   "metadata": {},
   "outputs": [
    {
     "data": {
      "text/plain": [
       "Index(['MAL_ID', 'Name', 'Score', 'Genres', 'Episodes', 'Premiered', 'Studios',\n",
       "       'Members', 'Completed', 'Dropped rate'],\n",
       "      dtype='object')"
      ]
     },
     "execution_count": 64,
     "metadata": {},
     "output_type": "execute_result"
    }
   ],
   "source": [
    "anime_data_cleaned.columns"
   ]
  },
  {
   "cell_type": "code",
   "execution_count": 65,
   "metadata": {},
   "outputs": [],
   "source": [
    "anime_data_cleaned['Genres'] = anime_data_cleaned['Genres'].apply(lambda x: x.replace(' ', '').replace(',', ' '))"
   ]
  },
  {
   "cell_type": "code",
   "execution_count": 68,
   "metadata": {},
   "outputs": [],
   "source": [
    "# Create a CountVectorizer to one-hot encode the genres\n",
    "vectorizer = CountVectorizer()\n",
    "genre_matrix = vectorizer.fit_transform(anime_data_cleaned['Genres'])"
   ]
  },
  {
   "cell_type": "code",
   "execution_count": 69,
   "metadata": {},
   "outputs": [],
   "source": [
    "# Compute the cosine similarity between anime based on their genre vectors\n",
    "genre_similarity = cosine_similarity(genre_matrix, genre_matrix)"
   ]
  },
  {
   "cell_type": "code",
   "execution_count": 70,
   "metadata": {},
   "outputs": [],
   "source": [
    "# Function to get the top-k most similar anime for a given anime\n",
    "def get_recommendations(anime_title, similarity_matrix, anime_data, k=10):\n",
    "    index = anime_data[anime_data['Name'] == anime_title].index[0]\n",
    "    scores = list(enumerate(similarity_matrix[index]))\n",
    "    scores = sorted(scores, key=lambda x: x[1], reverse=True)\n",
    "    scores = scores[1:k+1]  # exclude the anime itself\n",
    "    indices = [i[0] for i in scores]\n",
    "    return anime_data['Name'].iloc[indices]"
   ]
  },
  {
   "cell_type": "code",
   "execution_count": 71,
   "metadata": {},
   "outputs": [
    {
     "data": {
      "text/plain": [
       "1029                          Digimon Frontier\n",
       "450                            Ueki no Housoku\n",
       "734                              Dragon Ball Z\n",
       "4426                           Dragon Ball Kai\n",
       "8774                    Dragon Ball Kai (2014)\n",
       "10623                        Dragon Ball Super\n",
       "115                            Hunter x Hunter\n",
       "597      Juubee-chan: Lovely Gantai no Himitsu\n",
       "676                                        MÄR\n",
       "776                             Digimon Savers\n",
       "Name: Name, dtype: object"
      ]
     },
     "execution_count": 71,
     "metadata": {},
     "output_type": "execute_result"
    }
   ],
   "source": [
    "title = 'Naruto'\n",
    "get_recommendations(title, genre_similarity, anime_data_cleaned)"
   ]
  }
 ],
 "metadata": {
  "kernelspec": {
   "display_name": "anime-recommender",
   "language": "python",
   "name": "python3"
  },
  "language_info": {
   "codemirror_mode": {
    "name": "ipython",
    "version": 3
   },
   "file_extension": ".py",
   "mimetype": "text/x-python",
   "name": "python",
   "nbconvert_exporter": "python",
   "pygments_lexer": "ipython3",
   "version": "3.9.16"
  },
  "orig_nbformat": 4,
  "vscode": {
   "interpreter": {
    "hash": "d623ae1c9106bea637f1792f9ea7789d702066acaa781827d1f869a465de6a90"
   }
  }
 },
 "nbformat": 4,
 "nbformat_minor": 2
}
