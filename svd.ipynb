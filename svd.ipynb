{
 "cells": [
  {
   "cell_type": "code",
   "execution_count": 1,
   "metadata": {},
   "outputs": [],
   "source": [
    "import pandas as pd\n",
    "import numpy as np\n",
    "import warnings\n",
    "from scipy.sparse import csr_matrix\n",
    "warnings.filterwarnings('ignore')\n",
    "%matplotlib inline"
   ]
  },
  {
   "cell_type": "code",
   "execution_count": 2,
   "metadata": {},
   "outputs": [],
   "source": [
    "anime_data_cleaned = pd.read_csv('csv/2020/anime_2020_cleaned.csv')\n",
    "rating_data = pd.read_csv('csv/2020/rating_2020.csv')"
   ]
  },
  {
   "cell_type": "code",
   "execution_count": 21,
   "metadata": {},
   "outputs": [],
   "source": [
    "anime_name = pd.read_csv('csv/2020/anime_2020_name.csv')"
   ]
  },
  {
   "cell_type": "code",
   "execution_count": 3,
   "metadata": {},
   "outputs": [],
   "source": [
    "counts = rating_data['user_id'].value_counts()\n",
    "rating_data = rating_data[rating_data['user_id'].isin(counts[counts >= 200].index)]\n",
    "rating_data.rename(columns={'anime_id':'MAL_ID'}, inplace=True)"
   ]
  },
  {
   "cell_type": "code",
   "execution_count": 4,
   "metadata": {},
   "outputs": [],
   "source": [
    "# exclude anime from rating data if the id is not in anime_data_cleaned\n",
    "rating_data = rating_data[rating_data['MAL_ID'].isin(anime_data_cleaned['MAL_ID'])]"
   ]
  },
  {
   "cell_type": "code",
   "execution_count": 5,
   "metadata": {},
   "outputs": [],
   "source": [
    "anime_rating_data = anime_data_cleaned.merge(rating_data, on='MAL_ID', how='inner')"
   ]
  },
  {
   "attachments": {},
   "cell_type": "markdown",
   "metadata": {},
   "source": [
    "## SVD collaborative filtering "
   ]
  },
  {
   "cell_type": "code",
   "execution_count": 6,
   "metadata": {},
   "outputs": [],
   "source": [
    "anime_ratings = anime_rating_data[['user_id', 'MAL_ID', 'rating']]"
   ]
  },
  {
   "attachments": {},
   "cell_type": "markdown",
   "metadata": {},
   "source": [
    "### Split data into train and test"
   ]
  },
  {
   "cell_type": "code",
   "execution_count": 7,
   "metadata": {},
   "outputs": [],
   "source": [
    "import pandas as pd\n",
    "from sklearn.model_selection import train_test_split\n",
    "\n",
    "# Split the data into training and testing sets based on the users\n",
    "train_data, test_data = train_test_split(rating_data, test_size=0.2, random_state=42)"
   ]
  },
  {
   "cell_type": "code",
   "execution_count": 8,
   "metadata": {},
   "outputs": [],
   "source": [
    "from scipy.sparse import csr_matrix\n",
    "user_item_matrix = train_data.pivot_table(index='user_id', columns='MAL_ID', values='rating').fillna(0)\n",
    "train_data_sparse = csr_matrix(user_item_matrix.fillna(0).values)"
   ]
  },
  {
   "cell_type": "code",
   "execution_count": null,
   "metadata": {},
   "outputs": [],
   "source": [
    "%pip install scikit-surprise"
   ]
  },
  {
   "cell_type": "code",
   "execution_count": 11,
   "metadata": {},
   "outputs": [],
   "source": [
    "from surprise import SVD, Dataset, Reader\n",
    "from surprise.model_selection import cross_validate"
   ]
  },
  {
   "attachments": {},
   "cell_type": "markdown",
   "metadata": {},
   "source": [
    "### Predict rating funtion"
   ]
  },
  {
   "cell_type": "code",
   "execution_count": 26,
   "metadata": {},
   "outputs": [],
   "source": [
    "def predict_ratings_svd(user_id, svd_algo):\n",
    "    predicted_ratings = []\n",
    "    anime_ids = test_data.loc[test_data['user_id'] == user_id]['MAL_ID'].values\n",
    "    for anime_id in anime_ids:\n",
    "        prediction = svd_algo.predict(user_id, anime_id)\n",
    "        predicted_ratings.append(prediction.est)\n",
    "    return predicted_ratings"
   ]
  },
  {
   "cell_type": "code",
   "execution_count": 13,
   "metadata": {},
   "outputs": [],
   "source": [
    "reader = Reader(rating_scale=(0, 10))\n",
    "data = Dataset.load_from_df(train_data[['user_id', 'MAL_ID', 'rating']], reader)"
   ]
  },
  {
   "attachments": {},
   "cell_type": "markdown",
   "metadata": {},
   "source": [
    "### Fitting SVD Model"
   ]
  },
  {
   "cell_type": "code",
   "execution_count": 14,
   "metadata": {},
   "outputs": [
    {
     "data": {
      "text/plain": [
       "<surprise.prediction_algorithms.matrix_factorization.SVD at 0x16fe8d520>"
      ]
     },
     "execution_count": 14,
     "metadata": {},
     "output_type": "execute_result"
    }
   ],
   "source": [
    "# svd_algo = SVD()\n",
    "# svd_algo.fit(data.build_full_trainset())"
   ]
  },
  {
   "attachments": {},
   "cell_type": "markdown",
   "metadata": {},
   "source": [
    "Save model"
   ]
  },
  {
   "cell_type": "code",
   "execution_count": null,
   "metadata": {},
   "outputs": [],
   "source": [
    "import pickle"
   ]
  },
  {
   "cell_type": "code",
   "execution_count": 33,
   "metadata": {},
   "outputs": [],
   "source": [
    "# with open('svd_algo.pkl', 'wb') as file:\n",
    "#     pickle.dump(svd_algo, file)"
   ]
  },
  {
   "attachments": {},
   "cell_type": "markdown",
   "metadata": {},
   "source": [
    "Load model"
   ]
  },
  {
   "cell_type": "code",
   "execution_count": 34,
   "metadata": {},
   "outputs": [],
   "source": [
    "with open('models/svd_algo.pkl', 'rb') as file:\n",
    "    loaded_svd_algo = pickle.load(file)"
   ]
  },
  {
   "attachments": {},
   "cell_type": "markdown",
   "metadata": {},
   "source": [
    "### Predict ratings with SVD"
   ]
  },
  {
   "cell_type": "code",
   "execution_count": 17,
   "metadata": {},
   "outputs": [
    {
     "data": {
      "text/plain": [
       "342921"
      ]
     },
     "execution_count": 17,
     "metadata": {},
     "output_type": "execute_result"
    }
   ],
   "source": [
    "user_id = test_data['user_id'].sample(1).values[0]\n",
    "user_id"
   ]
  },
  {
   "cell_type": "code",
   "execution_count": 35,
   "metadata": {},
   "outputs": [
    {
     "data": {
      "text/plain": [
       "[6.8122146082050055,\n",
       " 8.138606986311284,\n",
       " 7.348231835924189,\n",
       " 9.01550361292686,\n",
       " 9.621289597597505,\n",
       " 8.549552609433622,\n",
       " 7.76763416648424,\n",
       " 7.851417643733848,\n",
       " 7.352412167221387,\n",
       " 7.58355467681487,\n",
       " 8.199906781283664,\n",
       " 6.742911811081626,\n",
       " 9.041983516243471,\n",
       " 5.375859867800789,\n",
       " 9.193915970481903,\n",
       " 7.190840992810774,\n",
       " 6.811445743626689,\n",
       " 6.792720081885085,\n",
       " 5.252062695171045,\n",
       " 8.132641953138261,\n",
       " 7.991117904070524,\n",
       " 6.543084230342891,\n",
       " 7.354125557116518,\n",
       " 8.678595838638751,\n",
       " 7.36015079992048,\n",
       " 8.259671619451444,\n",
       " 5.444265530892357,\n",
       " 8.875389654687812,\n",
       " 6.294931631528147,\n",
       " 4.2925777940090395,\n",
       " 8.21385442854357,\n",
       " 8.335699834830455,\n",
       " 8.206733608207054,\n",
       " 7.455093992602238,\n",
       " 6.739850498231444,\n",
       " 7.7681086285594265,\n",
       " 8.373065503133786,\n",
       " 8.302529972177602,\n",
       " 7.600018129110988,\n",
       " 7.731943796785893,\n",
       " 7.95154958382408,\n",
       " 8.103076356772211,\n",
       " 8.624899420015822,\n",
       " 8.948434584136164,\n",
       " 5.358074042076838,\n",
       " 7.544170121506271,\n",
       " 6.4416915936595,\n",
       " 6.74756792120563,\n",
       " 8.205973838012277,\n",
       " 7.356321478675884,\n",
       " 8.476524013275517,\n",
       " 8.103020628352049,\n",
       " 6.7319181373959625,\n",
       " 8.117286794297359,\n",
       " 8.116692968281251,\n",
       " 8.045914328955497,\n",
       " 7.099292287736247,\n",
       " 8.448420585083692,\n",
       " 6.5255822056845485,\n",
       " 7.6772185762325185,\n",
       " 5.427243028932521,\n",
       " 6.755030154678193,\n",
       " 9.278033689671428,\n",
       " 8.194291278202662,\n",
       " 7.119315406651936,\n",
       " 7.885475210740211,\n",
       " 6.811465811384434,\n",
       " 7.3558124864968875,\n",
       " 7.5602988405899385,\n",
       " 6.219822830146116,\n",
       " 7.54410277050032,\n",
       " 6.739088296879972,\n",
       " 8.617158325786884,\n",
       " 8.414812377901034,\n",
       " 6.362515396872143,\n",
       " 8.006233517846411,\n",
       " 7.929436936061919,\n",
       " 8.360663302018564,\n",
       " 5.957394873770681,\n",
       " 7.216263819048107,\n",
       " 6.688141925628731,\n",
       " 7.755860451903103,\n",
       " 7.715682695377917,\n",
       " 10,\n",
       " 5.21521717362116,\n",
       " 7.8485672397182125,\n",
       " 6.692590500730892,\n",
       " 6.284426448220399,\n",
       " 8.044136261026111,\n",
       " 6.841835689821,\n",
       " 7.658121615172942,\n",
       " 7.051309513932958,\n",
       " 5.916777188927815,\n",
       " 8.53273449727431,\n",
       " 6.966753336694794,\n",
       " 7.698089502953614,\n",
       " 9.069452267688012,\n",
       " 7.015246358988073,\n",
       " 6.804856963442473,\n",
       " 5.328355233037167,\n",
       " 8.104690793535267,\n",
       " 8.087731671328063,\n",
       " 8.786648241179014,\n",
       " 6.937877834202593,\n",
       " 6.492610857662195,\n",
       " 8.148077149881765,\n",
       " 6.918426743856252,\n",
       " 9.214698237331998,\n",
       " 6.7895676324858245,\n",
       " 8.532050320838126,\n",
       " 5.906658174852027,\n",
       " 7.23128311694361,\n",
       " 7.708678470790332,\n",
       " 7.511780441001222,\n",
       " 7.72548260424271,\n",
       " 7.714617851481439,\n",
       " 8.343646783481674,\n",
       " 7.3916218303844285,\n",
       " 8.220230607739751,\n",
       " 7.82395658809686,\n",
       " 4.490900302729836,\n",
       " 7.674699544039102,\n",
       " 7.805692401412617,\n",
       " 7.449940395774165,\n",
       " 6.4109392235724885,\n",
       " 6.8383696755208225,\n",
       " 8.513534719735782,\n",
       " 7.677235128975236,\n",
       " 7.567431782323594,\n",
       " 8.784443640166733,\n",
       " 7.097035481482613,\n",
       " 8.8286813111264,\n",
       " 7.4529047814371125,\n",
       " 8.574566490315679,\n",
       " 6.959732480370234,\n",
       " 7.208815605541567,\n",
       " 6.6146681861689505]"
      ]
     },
     "execution_count": 35,
     "metadata": {},
     "output_type": "execute_result"
    }
   ],
   "source": [
    "predicted_ratings = predict_ratings_svd(user_id, loaded_svd_algo)\n",
    "predicted_ratings"
   ]
  },
  {
   "cell_type": "code",
   "execution_count": 28,
   "metadata": {},
   "outputs": [
    {
     "data": {
      "text/plain": [
       "137"
      ]
     },
     "execution_count": 28,
     "metadata": {},
     "output_type": "execute_result"
    }
   ],
   "source": [
    "len(predicted_ratings)"
   ]
  },
  {
   "cell_type": "code",
   "execution_count": 29,
   "metadata": {},
   "outputs": [
    {
     "data": {
      "text/plain": [
       "array([10, 10,  9,  9,  9,  8,  8,  7,  7,  8,  8,  6,  9, 10,  6,  7,  4,\n",
       "        6,  4, 10,  6,  7,  5,  9,  8, 10,  6, 10,  7,  4,  7,  9,  7,  7,\n",
       "        7,  9, 10, 10,  6,  7, 10, 10,  8,  7,  4,  7, 10,  8, 10,  6,  9,\n",
       "        7, 10,  8,  8,  9,  6,  7,  7,  8,  4,  5,  8,  8,  8,  5,  7,  6,\n",
       "        7,  7,  5,  8, 10,  6,  4,  5,  8,  8,  6, 10,  7,  8,  9,  9,  5,\n",
       "        9,  8,  6,  6,  4,  6,  6,  8,  7,  7,  6,  8,  8,  6,  3,  8,  7,\n",
       "        8,  5,  5,  8,  7,  9,  6,  8,  6,  7,  7,  4,  8,  8,  8,  8,  8,\n",
       "        7,  5,  8,  7,  9,  7,  8, 10, 10, 10, 10,  8,  7,  7, 10,  7,  8,\n",
       "        7])"
      ]
     },
     "execution_count": 29,
     "metadata": {},
     "output_type": "execute_result"
    }
   ],
   "source": [
    "actual_ratings = test_data.loc[test_data['user_id']==user_id]['rating'].values\n",
    "actual_ratings"
   ]
  },
  {
   "cell_type": "code",
   "execution_count": 30,
   "metadata": {},
   "outputs": [
    {
     "data": {
      "text/plain": [
       "(137,)"
      ]
     },
     "execution_count": 30,
     "metadata": {},
     "output_type": "execute_result"
    }
   ],
   "source": [
    "actual_ratings.shape"
   ]
  },
  {
   "attachments": {},
   "cell_type": "markdown",
   "metadata": {},
   "source": [
    "### Calculate MAE"
   ]
  },
  {
   "cell_type": "code",
   "execution_count": 31,
   "metadata": {},
   "outputs": [],
   "source": [
    "def calculate_mae(predicted_ratings, actual_ratings):\n",
    "    return np.mean(np.abs(predicted_ratings - actual_ratings))"
   ]
  },
  {
   "cell_type": "code",
   "execution_count": 32,
   "metadata": {},
   "outputs": [
    {
     "data": {
      "text/plain": [
       "1.1394314274006974"
      ]
     },
     "execution_count": 32,
     "metadata": {},
     "output_type": "execute_result"
    }
   ],
   "source": [
    "calculate_mae(predicted_ratings, actual_ratings)"
   ]
  },
  {
   "cell_type": "code",
   "execution_count": 36,
   "metadata": {},
   "outputs": [],
   "source": [
    "def predict_single_rating_svd(user_id, anime_id, svd_algo):\n",
    "    prediction = svd_algo.predict(user_id, anime_id)\n",
    "    predicted_rating = prediction.est\n",
    "    return predicted_rating"
   ]
  },
  {
   "cell_type": "code",
   "execution_count": 37,
   "metadata": {},
   "outputs": [],
   "source": [
    "def compute_mae_random_samples(data, user_item_matrix, n_samples=100, svd_algo=loaded_svd_algo):\n",
    "    mae = 0\n",
    "\n",
    "    for _ in range(n_samples):\n",
    "        # Randomly sample a user_id and anime_id pair from the data\n",
    "        sample = data.sample()\n",
    "        user_id = sample['user_id'].values[0]\n",
    "        anime_id = sample['MAL_ID'].values[0]\n",
    "\n",
    "        # Make sure the user has rated the anime\n",
    "        while user_item_matrix.loc[user_id, anime_id] == 0:\n",
    "            sample = data.sample()\n",
    "            user_id = sample['user_id'].values[0]\n",
    "            anime_id = sample['MAL_ID'].values[0]\n",
    "\n",
    "        # Predict the rating using the modified function\n",
    "        predicted_rating = predict_single_rating_svd(user_id, anime_id, svd_algo)\n",
    "\n",
    "        # Get the actual rating from the sampled data\n",
    "        actual_rating = sample['rating'].values[0]\n",
    "\n",
    "        # Update the mean absolute error\n",
    "        mae += abs(predicted_rating - actual_rating)\n",
    "\n",
    "    # Calculate the mean absolute error\n",
    "    mae /= n_samples\n",
    "\n",
    "    return mae"
   ]
  },
  {
   "cell_type": "code",
   "execution_count": 38,
   "metadata": {},
   "outputs": [
    {
     "name": "stdout",
     "output_type": "stream",
     "text": [
      "Mean Absolute Error: 0.5708898630526883\n"
     ]
    }
   ],
   "source": [
    "mae = compute_mae_random_samples(rating_data, user_item_matrix, n_samples=100)\n",
    "print(\"Mean Absolute Error:\", mae)"
   ]
  }
 ],
 "metadata": {
  "kernelspec": {
   "display_name": "anime-recommender",
   "language": "python",
   "name": "python3"
  },
  "language_info": {
   "codemirror_mode": {
    "name": "ipython",
    "version": 3
   },
   "file_extension": ".py",
   "mimetype": "text/x-python",
   "name": "python",
   "nbconvert_exporter": "python",
   "pygments_lexer": "ipython3",
   "version": "3.9.16"
  },
  "orig_nbformat": 4,
  "vscode": {
   "interpreter": {
    "hash": "d623ae1c9106bea637f1792f9ea7789d702066acaa781827d1f869a465de6a90"
   }
  }
 },
 "nbformat": 4,
 "nbformat_minor": 2
}
